{
 "cells": [
  {
   "cell_type": "markdown",
   "metadata": {},
   "source": [
    "# Streaming"
   ]
  },
  {
   "cell_type": "markdown",
   "metadata": {},
   "source": [
    "## Resources:\n",
    "1) LLM Agent Overview -  https://lilianweng.github.io/posts/2023-06-23-agent/\n"
   ]
  },
  {
   "cell_type": "markdown",
   "metadata": {},
   "source": [
    "### Components\n",
    "1) Task Decomposition:\n",
    "Chain of thought -- standard prompting technique, the model is instructed to think step by step, to utilize more test-time computation to decompose hard tasks into smaller and simpler steps.\n"
   ]
  },
  {
   "cell_type": "markdown",
   "metadata": {},
   "source": [
    "### Hallucination:\n",
    "- hallucination can be defined as encountering a sequence of consecutive "
   ]
  },
  {
   "cell_type": "markdown",
   "metadata": {
    "vscode": {
     "languageId": "plaintext"
    }
   },
   "source": [
    "Saving embedding representation of information into a vector store database that can support fast\n",
    "### Maximum inner-product Search(MIPS)\n",
    "- Maximum inner product search\n",
    "- To optimize the Retrieval spped, ANN algorithm (Approximate Nearest Neighbors)"
   ]
  }
 ],
 "metadata": {
  "language_info": {
   "name": "python"
  }
 },
 "nbformat": 4,
 "nbformat_minor": 2
}
