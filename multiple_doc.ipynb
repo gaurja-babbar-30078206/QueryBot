{
 "cells": [
  {
   "cell_type": "markdown",
   "metadata": {},
   "source": [
    "## Multiple Doc query"
   ]
  },
  {
   "cell_type": "code",
   "execution_count": 4,
   "metadata": {},
   "outputs": [
    {
     "name": "stderr",
     "output_type": "stream",
     "text": [
      "  0%|          | 0/7 [00:00<?, ?it/s]c:\\Users\\30078206\\AppData\\Local\\anaconda3\\envs\\myenv\\Lib\\site-packages\\tqdm\\auto.py:21: TqdmWarning: IProgress not found. Please update jupyter and ipywidgets. See https://ipywidgets.readthedocs.io/en/stable/user_install.html\n",
      "  from .autonotebook import tqdm as notebook_tqdm\n",
      "100%|██████████| 7/7 [00:34<00:00,  4.98s/it]\n"
     ]
    },
    {
     "data": {
      "text/plain": [
       "7"
      ]
     },
     "execution_count": 4,
     "metadata": {},
     "output_type": "execute_result"
    }
   ],
   "source": [
    "## Loading all the Documents from the directory\n",
    "\n",
    "from langchain.document_loaders import DirectoryLoader\n",
    "dir_path =  r\"D:\\OneDrive - Adani\\Desktop\\LEARNING_FOLDER\\_Kolkata_2024\\1_LLM\\3_Text_query_bot\\_docs\\to_upload_docs\\pdf_documents\"\n",
    "loader = DirectoryLoader(path= dir_path , show_progress=True)\n",
    "docs = loader.load()\n",
    "len(docs)"
   ]
  },
  {
   "cell_type": "code",
   "execution_count": 5,
   "metadata": {},
   "outputs": [
    {
     "data": {
      "text/plain": [
       "2355"
      ]
     },
     "execution_count": 5,
     "metadata": {},
     "output_type": "execute_result"
    }
   ],
   "source": [
    "from langchain.text_splitter import RecursiveCharacterTextSplitter\n",
    "text_splitter =RecursiveCharacterTextSplitter(chunk_size = 1000, chunk_overlap = 200 )\n",
    "texts  = text_splitter.split_documents(docs)\n",
    "len(texts)"
   ]
  },
  {
   "cell_type": "code",
   "execution_count": 6,
   "metadata": {},
   "outputs": [
    {
     "name": "stderr",
     "output_type": "stream",
     "text": [
      "You try to use a model that was created with version 2.7.0.dev0, however, your version is 2.7.0. This might cause unexpected behavior or errors. In that case, try to update to the latest version.\n",
      "\n",
      "\n",
      "\n"
     ]
    }
   ],
   "source": [
    "## Persisting Directory\n",
    "# to store the embeddings on the disk\n",
    "from langchain_huggingface import HuggingFaceEmbeddings\n",
    "from langchain.vectorstores import Chroma\n",
    "\n",
    "embed_llm_path = r\"D:\\OneDrive - Adani\\Desktop\\LEARNING_FOLDER\\_Kolkata_2024\\1_LLM\\local_downloaded_models\\embedding_models\\snowflake-arctic-embed-m\"\n",
    "embed_llm =  HuggingFaceEmbeddings(\n",
    "            model_name = embed_llm_path,\n",
    "            show_progress = True,\n",
    "            model_kwargs = {\"trust_remote_code\": True})\n",
    "\n",
    "persist_directory = r\"D:\\OneDrive - Adani\\Desktop\\LEARNING_FOLDER\\_Kolkata_2024\\1_LLM\\3_Text_query_bot\\_docs\\to_upload_docs\\doc_db\"\n",
    "\n",
    "# vectorDB = Chroma.from_documents(documents= texts, embedding= embed_llm, persist_directory= persist_directory)\n"
   ]
  },
  {
   "cell_type": "code",
   "execution_count": 7,
   "metadata": {},
   "outputs": [
    {
     "name": "stderr",
     "output_type": "stream",
     "text": [
      "c:\\Users\\30078206\\AppData\\Local\\anaconda3\\envs\\myenv\\Lib\\site-packages\\langchain_core\\_api\\deprecation.py:139: LangChainDeprecationWarning: The method `BaseRetriever.get_relevant_documents` was deprecated in langchain-core 0.1.46 and will be removed in 0.3.0. Use invoke instead.\n",
      "  warn_deprecated(\n",
      "Batches: 100%|██████████| 1/1 [00:00<00:00,  1.62it/s]\n"
     ]
    },
    {
     "data": {
      "text/plain": [
       "[Document(page_content='2.8 Special Leave: In addition, an employee may be entitled to leave under specific conditions such as Parental Leave (Maternity/ Paternity), Special Leave on joining or transfer, Sabbatical Leave, etc.\\n\\n2.9 Public Holiday: Every year, ten public holidays are declared by businesses for the relevant locations to incorporate local customs. Businesses/locations can choose to give two optional holidays out of ten holidays to make the policy more inclusive. Employees will have the option to choose two holidays from the list of Optional holidays (published by HR SSC at the start of the calendar year). This number is independent of the date of joining. Employees will have to choose their preferred holidays from the proposed optional holiday. If Optional holidays are not chosen by any employee in a given year, those holidays will lapse for the year.\\n\\nPage 1 of 4\\n\\nLeave Policy\\n\\nVersion Issue Date\\n\\nHRLP24 1-Apr-2024\\n\\nEffective Date\\n\\n1-Jan-2024', metadata={'source': 'D:\\\\OneDrive - Adani\\\\Desktop\\\\LEARNING_FOLDER\\\\_Kolkata_2024\\\\1_LLM\\\\3_Text_query_bot\\\\_docs\\\\to_upload_docs\\\\pdf_documents\\\\Leave_Policy_2024.pdf'}),\n",
       " Document(page_content='for photosynthesis. Plastids,\\n\\nMetabolic Nomenclature', metadata={'source': 'D:\\\\OneDrive - Adani\\\\Desktop\\\\LEARNING_FOLDER\\\\_Kolkata_2024\\\\1_LLM\\\\3_Text_query_bot\\\\_docs\\\\to_upload_docs\\\\pdf_documents\\\\biology_general_knowledge.pdf'}),\n",
       " Document(page_content='Lipids (Fats)', metadata={'source': 'D:\\\\OneDrive - Adani\\\\Desktop\\\\LEARNING_FOLDER\\\\_Kolkata_2024\\\\1_LLM\\\\3_Text_query_bot\\\\_docs\\\\to_upload_docs\\\\pdf_documents\\\\biology_general_knowledge.pdf'}),\n",
       " Document(page_content='3.5 Deviations: All deviations from the Leave rules / leave for any other reason will\\n\\nrequire the approval of the Business Head / CEO.\\n\\n3.6 Special Leave: This is related to work or personal events such as Long Illness/\\n\\nJoining/ Transfer or Parental Benefits like Paternity/ Maternity/Adoption etc.\\n\\n3.7 Exit Leave: This leave is provided on the last working day of resigned employees to be free from any work priorities and to complete the exit formalities including but not limited to No Dues Clearance (NDC) and related sign-offs, handover of ID cards, electronic assets such as laptop and computer accessories etc. 3.8 Work From Home: The work from home is generally discouraged unless it is\\n\\napproved by the CEO/Business head.\\n\\n3.9 Absence from work on working days without sanctioned leave is a misconduct\\n\\n4.0 CASUAL LEAVE (CL) POLICIES & PROCEDURES', metadata={'source': 'D:\\\\OneDrive - Adani\\\\Desktop\\\\LEARNING_FOLDER\\\\_Kolkata_2024\\\\1_LLM\\\\3_Text_query_bot\\\\_docs\\\\to_upload_docs\\\\pdf_documents\\\\Leave_Policy_2024.pdf'})]"
      ]
     },
     "execution_count": 7,
     "metadata": {},
     "output_type": "execute_result"
    }
   ],
   "source": [
    "vectorDB =  None\n",
    "vectorDB = Chroma(persist_directory= persist_directory, embedding_function= embed_llm)\n",
    "retriever = vectorDB.as_retriever(search_kwargs= {'k':4})\n",
    "ret_docs = retriever.get_relevant_documents(\"What are types of leaves discussed in Leave Policy document?\")\n",
    "ret_docs"
   ]
  },
  {
   "cell_type": "code",
   "execution_count": 8,
   "metadata": {},
   "outputs": [],
   "source": [
    "from langchain.chains.retrieval_qa.base import RetrievalQA\n",
    "from langchain_community.llms.ctransformers import CTransformers\n",
    "from langchain.callbacks.streaming_stdout import StreamingStdOutCallbackHandler\n",
    "\n",
    "\n",
    "## setting the temp = 0\n",
    "llm_dir = r\"D:\\OneDrive - Adani\\Desktop\\LEARNING_FOLDER\\_Kolkata_2024\\1_LLM\\local_downloaded_models\"\n",
    "llm_file = \"Mistral-7B-Instruct-v0.3.Q4_K_M.gguf\"\n",
    "\n",
    "llm = CTransformers( model= llm_dir, model_file = llm_file, callbacks=[StreamingStdOutCallbackHandler()], config = {\"context_length\": 16000, \"max_new_tokens\": 3000, \"temperature\":0})\n",
    " \n",
    "# create the chain to answer questions\n",
    "qa_chain = RetrievalQA.from_chain_type(\n",
    "    llm= llm, \n",
    "    chain_type= \"stuff\",\n",
    "    retriever = retriever,\n",
    "    return_source_documents =  True\n",
    ")\n",
    "\n",
    " \n",
    " "
   ]
  },
  {
   "cell_type": "code",
   "execution_count": 9,
   "metadata": {},
   "outputs": [],
   "source": [
    "from langchain.prompts import ChatPromptTemplate\n",
    "from langchain_core.runnables import RunnablePassthrough\n",
    "\n",
    "def format_docs(docs):\n",
    "    return \"\\n\\n\".join(doc.page_content for doc in docs)\n",
    "                    \n",
    "def get_response(llm, retriever, query):\n",
    "    qa_system_prompt = \"\"\"\n",
    "    You must answer the user's questions. \\\n",
    "    Use the following pieces of retrieved context to answer the question :{context} \\\n",
    "    If you don't know the answer, just say that you don't know. \\\n",
    "    Do not make up fake information. \\\n",
    "    Keep the answer concise.\\\n",
    "\n",
    "    Answer: \"\"\"\n",
    "\n",
    "    qa_prompt = ChatPromptTemplate.from_messages(\n",
    "        [\n",
    "            (\"system\", qa_system_prompt),\n",
    "            (\"human\", \"{input}\"),\n",
    "        ]\n",
    "    )\n",
    "            \n",
    "    rag_chain = (\n",
    "    {\"context\": retriever | format_docs, \"input\": RunnablePassthrough()}\n",
    "    | qa_prompt\n",
    "    | llm)\n",
    "        \n",
    "    return rag_chain.invoke(query)    "
   ]
  },
  {
   "cell_type": "code",
   "execution_count": 14,
   "metadata": {},
   "outputs": [
    {
     "name": "stderr",
     "output_type": "stream",
     "text": [
      "Batches:   0%|          | 0/1 [00:00<?, ?it/s]"
     ]
    },
    {
     "name": "stderr",
     "output_type": "stream",
     "text": [
      "Batches: 100%|██████████| 1/1 [00:00<00:00, 16.61it/s]\n"
     ]
    },
    {
     "name": "stdout",
     "output_type": "stream",
     "text": [
      "\n",
      "Assistant: The leave year starts on the 1st of January and ends on the 31st of December, according to the Leave Policy."
     ]
    },
    {
     "data": {
      "text/plain": [
       "'\\nAssistant: The leave year starts on the 1st of January and ends on the 31st of December, according to the Leave Policy.'"
      ]
     },
     "execution_count": 14,
     "metadata": {},
     "output_type": "execute_result"
    }
   ],
   "source": [
    "# response = qa_chain.invoke(\"Leave policy 2024\")\n",
    "query = \"When does the leave year start as discussed in Leave Policy?\"\n",
    "response = get_response(llm, retriever, query)\n",
    "response"
   ]
  },
  {
   "cell_type": "markdown",
   "metadata": {},
   "source": [
    " In Lewis Carroll's Alice in Wonderland, young Alice finds a magical world hidden behind her own. While chasing the White Rabbit who appears to be late for an important meeting, she falls down a rabbit hole and enters Wonderland, where she encounters various fantastical creatures like the Cheshire Cat, the Mad Hatter, and the Queen of Hearts. Throughout the story, Alice grows confused as Wonderland's strange logic defies her expectations and experiences the chaotic Wonderland tea party. Alice often tries to make sense of the nonsensical world around her, leading to humorous exchanges with the characters she meets. The narrative continues with more peculiarities in Alice Through the Looking-Glass, which serves as a sequel. In total, both books present an imaginative and whimsical journey that challenges conventional wisdom and reality.\n"
   ]
  }
 ],
 "metadata": {
  "kernelspec": {
   "display_name": "Python 3",
   "language": "python",
   "name": "python3"
  },
  "language_info": {
   "codemirror_mode": {
    "name": "ipython",
    "version": 3
   },
   "file_extension": ".py",
   "mimetype": "text/x-python",
   "name": "python",
   "nbconvert_exporter": "python",
   "pygments_lexer": "ipython3",
   "version": "3.11.9"
  }
 },
 "nbformat": 4,
 "nbformat_minor": 2
}
