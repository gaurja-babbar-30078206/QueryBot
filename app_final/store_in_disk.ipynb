{
 "cells": [
  {
   "cell_type": "code",
   "execution_count": 2,
   "metadata": {},
   "outputs": [],
   "source": [
    "## Inbuilt imports\n",
    "import pathlib # creates single var\n",
    "from langchain_community.document_loaders import UnstructuredFileLoader , UnstructuredWordDocumentLoader\n",
    "from langchain_huggingface import HuggingFaceEmbeddings\n",
    "from langchain_text_splitters import RecursiveCharacterTextSplitter\n",
    "from langchain_chroma import Chroma\n",
    "from constant import blog\n",
    "\n",
    "   \n",
    "class DocumentReader_test:\n",
    "    \n",
    "    def __init__(self):\n",
    "        # Initialising text splitter\n",
    "        self.text_splitter = RecursiveCharacterTextSplitter(chunk_size=1000, chunk_overlap=200)\n",
    "        self.path = \"\"          \n",
    "              \n",
    "    # get the file extension\n",
    "    def get_file_extension(self):\n",
    "        return pathlib.Path(self.path).suffix\n",
    "    \n",
    "    # returns loaded document\n",
    "    def get_document(self):\n",
    "        file_ext = self.get_file_extension()\n",
    "        match file_ext:\n",
    "            case '.pdf':\n",
    "                loader = UnstructuredFileLoader(self.path)               \n",
    "            case '.txt':\n",
    "                loader = UnstructuredFileLoader(self.path)\n",
    "            case '.docx':\n",
    "                loader = UnstructuredWordDocumentLoader(self.path)\n",
    "            case _:\n",
    "                print('Format of the document is not supported')    \n",
    "        return loader.load()\n",
    "     \n",
    "    # Splitting documents\n",
    "    def split_documents(self):\n",
    "        docs = self.get_document()\n",
    "        return self.text_splitter.split_documents(docs)\n",
    "        \n",
    "            \n",
    "    # creates vector embeddings and stores in vector store    \n",
    "    def load_document(self,embeddings, path):\n",
    "        self.path = path\n",
    "        docs = self.split_documents()\n",
    "        return Chroma.from_documents(documents=docs, embedding = embeddings)            \n",
    "    \n",
    "    # creates vector embeddings and stores in vector store    \n",
    "    def load_document_from_disk(self,embeddings, path,dir):\n",
    "        self.path = path\n",
    "        docs = self.split_documents()\n",
    "        blog(f\"Totoal chunks of document ----> {len(docs)}\")\n",
    "        return Chroma.from_documents(documents=docs, embedding = embeddings,persist_directory =dir)      \n",
    "    \n",
    "          \n",
    "        \n",
    "         "
   ]
  },
  {
   "cell_type": "code",
   "execution_count": 3,
   "metadata": {},
   "outputs": [
    {
     "name": "stderr",
     "output_type": "stream",
     "text": [
      "c:\\Users\\30078206\\AppData\\Local\\anaconda3\\envs\\myenv\\Lib\\site-packages\\tqdm\\auto.py:21: TqdmWarning: IProgress not found. Please update jupyter and ipywidgets. See https://ipywidgets.readthedocs.io/en/stable/user_install.html\n",
      "  from .autonotebook import tqdm as notebook_tqdm\n"
     ]
    }
   ],
   "source": [
    "embed_llm_path = r\"D:\\OneDrive - Adani\\Desktop\\LEARNING_FOLDER\\_Kolkata_2024\\1_LLM\\local_downloaded_models\\embedding_models\\bge-base-en-v1.5\"\n",
    "embed_llm =HuggingFaceEmbeddings(\n",
    "            model_name = embed_llm_path,\n",
    "            show_progress = True,\n",
    "            model_kwargs = {\"trust_remote_code\": True})\n",
    " \n",
    "file_path = r\"D:\\OneDrive - Adani\\Desktop\\LEARNING_FOLDER\\_Kolkata_2024\\1_LLM\\3_Text_query_bot\\_docs\\to_upload_docs\\pdf_documents\\Leave_Policy_2024.pdf\" \n",
    "db_dir = r\"D:\\OneDrive - Adani\\Desktop\\LEARNING_FOLDER\\_Kolkata_2024\\1_LLM\\3_Text_query_bot\\app_final\\vector_store_created\""
   ]
  },
  {
   "cell_type": "code",
   "execution_count": 8,
   "metadata": {},
   "outputs": [
    {
     "name": "stdout",
     "output_type": "stream",
     "text": [
      "⏲️  ⏲️  ⏲️   2024-07-31 13:00:49.940555 🟢 🟢 🟢 ----> Totoal chunks of document ----> 13\n",
      "\n",
      "\n"
     ]
    },
    {
     "name": "stderr",
     "output_type": "stream",
     "text": [
      "Batches: 100%|██████████| 1/1 [00:01<00:00,  1.50s/it]\n"
     ]
    },
    {
     "data": {
      "text/plain": [
       "<langchain_chroma.vectorstores.Chroma at 0x2480df1eb50>"
      ]
     },
     "execution_count": 8,
     "metadata": {},
     "output_type": "execute_result"
    }
   ],
   "source": [
    "doc_reader =DocumentReader_test()\n",
    "db_1 = doc_reader.load_document_from_disk(embeddings=embed_llm,path=file_path,dir= db_dir)\n",
    "db_1"
   ]
  },
  {
   "cell_type": "code",
   "execution_count": 41,
   "metadata": {},
   "outputs": [
    {
     "name": "stdout",
     "output_type": "stream",
     "text": [
      "⏲️  ⏲️  ⏲️   2024-07-31 13:21:55.840823 🟢 🟢 🟢 ----> Totoal chunks of document ----> 13\n",
      "\n",
      "\n"
     ]
    },
    {
     "name": "stderr",
     "output_type": "stream",
     "text": [
      "Batches: 100%|██████████| 1/1 [00:01<00:00,  1.63s/it]\n"
     ]
    },
    {
     "data": {
      "text/plain": [
       "13"
      ]
     },
     "execution_count": 41,
     "metadata": {},
     "output_type": "execute_result"
    }
   ],
   "source": [
    "db_dir = r\"D:\\OneDrive - Adani\\Desktop\\LEARNING_FOLDER\\_Kolkata_2024\\1_LLM\\3_Text_query_bot\\app_final\\vector_store_created_3\"\n",
    "doc_reader =DocumentReader_test()\n",
    "db_2 = doc_reader.load_document_from_disk(embeddings=embed_llm,path=file_path,dir= db_dir)\n",
    "data_db_2 = db_2.get(include= ['metadatas'])\n",
    "\n",
    "len(data_db_2[\"ids\"])"
   ]
  },
  {
   "cell_type": "code",
   "execution_count": 46,
   "metadata": {},
   "outputs": [],
   "source": [
    "data_db_2[\"embeddings\"]\n"
   ]
  },
  {
   "cell_type": "code",
   "execution_count": 40,
   "metadata": {},
   "outputs": [
    {
     "name": "stderr",
     "output_type": "stream",
     "text": [
      "Batches: 100%|██████████| 1/1 [00:00<00:00, 17.71it/s]\n"
     ]
    },
    {
     "data": {
      "text/plain": [
       "{'ids': ['0428257f-a16a-449b-afab-b6eef7c3be4a',\n",
       "  '08b13256-b612-4ac9-a7ed-337f7bdbc85a',\n",
       "  '5a6595dc-c326-4d5b-a4d7-a149acd0438d',\n",
       "  '60537b40-ec49-4d58-8c8b-3a9441404fea',\n",
       "  '741e3bc8-9c44-4e42-aea1-6573e6b6e43d',\n",
       "  '82fc49d0-72c0-48a1-af4a-80e5fd61b986',\n",
       "  'b92f7e5a-95b0-4bbf-a85c-a34cca4d5b52',\n",
       "  'bd74430f-19c6-45fe-a90f-24e60113e77a',\n",
       "  'be446801-7092-407b-b28d-5660fbf32c41',\n",
       "  'd60c0973-132d-4e68-ba82-4f263a8a7e3b',\n",
       "  'e0d725ff-7695-4996-944c-11f874093102',\n",
       "  'eceb0e2e-15eb-4da6-b1ac-be9044b59496',\n",
       "  'fa1d740f-5448-4f0a-b57a-14d68a6fccda'],\n",
       " 'embeddings': None,\n",
       " 'metadatas': [{'source': 'D:\\\\OneDrive - Adani\\\\Desktop\\\\LEARNING_FOLDER\\\\_Kolkata_2024\\\\1_LLM\\\\3_Text_query_bot\\\\_docs\\\\to_upload_docs\\\\pdf_documents\\\\Leave_Policy_2024.pdf'},\n",
       "  {'source': 'D:\\\\OneDrive - Adani\\\\Desktop\\\\LEARNING_FOLDER\\\\_Kolkata_2024\\\\1_LLM\\\\3_Text_query_bot\\\\_docs\\\\to_upload_docs\\\\pdf_documents\\\\Leave_Policy_2024.pdf'},\n",
       "  {'source': 'D:\\\\OneDrive - Adani\\\\Desktop\\\\LEARNING_FOLDER\\\\_Kolkata_2024\\\\1_LLM\\\\3_Text_query_bot\\\\_docs\\\\to_upload_docs\\\\pdf_documents\\\\Leave_Policy_2024.pdf'},\n",
       "  {'source': 'D:\\\\OneDrive - Adani\\\\Desktop\\\\LEARNING_FOLDER\\\\_Kolkata_2024\\\\1_LLM\\\\3_Text_query_bot\\\\_docs\\\\to_upload_docs\\\\pdf_documents\\\\Leave_Policy_2024.pdf'},\n",
       "  {'source': 'D:\\\\OneDrive - Adani\\\\Desktop\\\\LEARNING_FOLDER\\\\_Kolkata_2024\\\\1_LLM\\\\3_Text_query_bot\\\\_docs\\\\to_upload_docs\\\\pdf_documents\\\\Leave_Policy_2024.pdf'},\n",
       "  {'source': 'D:\\\\OneDrive - Adani\\\\Desktop\\\\LEARNING_FOLDER\\\\_Kolkata_2024\\\\1_LLM\\\\3_Text_query_bot\\\\_docs\\\\to_upload_docs\\\\pdf_documents\\\\Leave_Policy_2024.pdf'},\n",
       "  {'source': 'D:\\\\OneDrive - Adani\\\\Desktop\\\\LEARNING_FOLDER\\\\_Kolkata_2024\\\\1_LLM\\\\3_Text_query_bot\\\\_docs\\\\to_upload_docs\\\\pdf_documents\\\\Leave_Policy_2024.pdf'},\n",
       "  {'source': 'D:\\\\OneDrive - Adani\\\\Desktop\\\\LEARNING_FOLDER\\\\_Kolkata_2024\\\\1_LLM\\\\3_Text_query_bot\\\\_docs\\\\to_upload_docs\\\\pdf_documents\\\\Leave_Policy_2024.pdf'},\n",
       "  {'source': 'D:\\\\OneDrive - Adani\\\\Desktop\\\\LEARNING_FOLDER\\\\_Kolkata_2024\\\\1_LLM\\\\3_Text_query_bot\\\\_docs\\\\to_upload_docs\\\\pdf_documents\\\\Leave_Policy_2024.pdf'},\n",
       "  {'source': 'D:\\\\OneDrive - Adani\\\\Desktop\\\\LEARNING_FOLDER\\\\_Kolkata_2024\\\\1_LLM\\\\3_Text_query_bot\\\\_docs\\\\to_upload_docs\\\\pdf_documents\\\\Leave_Policy_2024.pdf'},\n",
       "  {'source': 'D:\\\\OneDrive - Adani\\\\Desktop\\\\LEARNING_FOLDER\\\\_Kolkata_2024\\\\1_LLM\\\\3_Text_query_bot\\\\_docs\\\\to_upload_docs\\\\pdf_documents\\\\Leave_Policy_2024.pdf'},\n",
       "  {'source': 'D:\\\\OneDrive - Adani\\\\Desktop\\\\LEARNING_FOLDER\\\\_Kolkata_2024\\\\1_LLM\\\\3_Text_query_bot\\\\_docs\\\\to_upload_docs\\\\pdf_documents\\\\Leave_Policy_2024.pdf'},\n",
       "  {'source': 'D:\\\\OneDrive - Adani\\\\Desktop\\\\LEARNING_FOLDER\\\\_Kolkata_2024\\\\1_LLM\\\\3_Text_query_bot\\\\_docs\\\\to_upload_docs\\\\pdf_documents\\\\Leave_Policy_2024.pdf'}],\n",
       " 'documents': None,\n",
       " 'uris': None,\n",
       " 'data': None,\n",
       " 'included': ['metadatas']}"
      ]
     },
     "execution_count": 40,
     "metadata": {},
     "output_type": "execute_result"
    }
   ],
   "source": [
    "data_db_2 = db_2.get(include= ['metadatas'])\n",
    "db_2.similarity_search(\"What are types of leaves\")\n",
    "(data_db_2)"
   ]
  },
  {
   "cell_type": "code",
   "execution_count": 23,
   "metadata": {},
   "outputs": [
    {
     "name": "stderr",
     "output_type": "stream",
     "text": [
      "Batches: 100%|██████████| 1/1 [00:00<00:00, 19.59it/s]\n"
     ]
    },
    {
     "data": {
      "text/plain": [
       "[Document(page_content='Leave Policy\\n\\nVersion Issue Date\\n\\nHRLP24 1-Apr-2024\\n\\nEffective Date\\n\\n1-Jan-2024\\n\\nThis version supersedes all previous versions with a lesser version number\\n\\n1.0 OBJECTIVE: Leave is a period of rest and relaxation provided at intervals during\\n\\nwork periods. For convenience in terms of reference, it is divided into categories such as Privilege Leave (PL), Casual Leave (CL), Sick Leave (SL) and Special Leave\\n\\n2.0 DEFINITIONS:\\n\\n2.1 Leave Year: The Leave Year is the calendar year from 1 January to 31 December. All calculations of earning, credit, availment, balance etc. of leave will be done with respect to each Leave Year\\n\\n2.2 Entitlement: This refers to the amount, or the number of days of Leave (of different types) that an employee gets in a Leave Year as part of conditions of service, subject to certain conditions such as full attendance on full salary. For example, the entitlement of PL is 21 days in a Leave Year', metadata={'source': 'D:\\\\OneDrive - Adani\\\\Desktop\\\\LEARNING_FOLDER\\\\_Kolkata_2024\\\\1_LLM\\\\3_Text_query_bot\\\\_docs\\\\to_upload_docs\\\\pdf_documents\\\\Leave_Policy_2024.pdf'}),\n",
       " Document(page_content='Leave Policy\\n\\nVersion Issue Date\\n\\nHRLP24 1-Apr-2024\\n\\nEffective Date\\n\\n1-Jan-2024\\n\\nThis version supersedes all previous versions with a lesser version number\\n\\n1.0 OBJECTIVE: Leave is a period of rest and relaxation provided at intervals during\\n\\nwork periods. For convenience in terms of reference, it is divided into categories such as Privilege Leave (PL), Casual Leave (CL), Sick Leave (SL) and Special Leave\\n\\n2.0 DEFINITIONS:\\n\\n2.1 Leave Year: The Leave Year is the calendar year from 1 January to 31 December. All calculations of earning, credit, availment, balance etc. of leave will be done with respect to each Leave Year\\n\\n2.2 Entitlement: This refers to the amount, or the number of days of Leave (of different types) that an employee gets in a Leave Year as part of conditions of service, subject to certain conditions such as full attendance on full salary. For example, the entitlement of PL is 21 days in a Leave Year', metadata={'source': 'D:\\\\OneDrive - Adani\\\\Desktop\\\\LEARNING_FOLDER\\\\_Kolkata_2024\\\\1_LLM\\\\3_Text_query_bot\\\\_docs\\\\to_upload_docs\\\\pdf_documents\\\\Leave_Policy_2024.pdf'}),\n",
       " Document(page_content='7.8 Number of Days of PL: Whilst counting the number of days for any applied PL, holidays or weekly offs that precede, succeed or intervene within its duration, shall not be counted\\n\\n7.9 When an employee is transferred between locations of the same Unit or between different Business Units within the Adani Group , the PL balance at credit will be transferred to the new BU. However, in the case of transfer between Business Units, the employee will also have the option to encash the balance PL at the time of transfer. Encashment rules will apply. If the previous BU’s Leave policy allows for Leave accumulation higher than the new BU, the excess number of Leaves over the limit that is allowed in new BU will be encashed in the earlier BU, and the balance allowable per the new BU will be carried over. For the other way round, all Leaves will be carried forward', metadata={'source': 'D:\\\\OneDrive - Adani\\\\Desktop\\\\LEARNING_FOLDER\\\\_Kolkata_2024\\\\1_LLM\\\\3_Text_query_bot\\\\_docs\\\\to_upload_docs\\\\pdf_documents\\\\Leave_Policy_2024.pdf'}),\n",
       " Document(page_content='7.8 Number of Days of PL: Whilst counting the number of days for any applied PL, holidays or weekly offs that precede, succeed or intervene within its duration, shall not be counted\\n\\n7.9 When an employee is transferred between locations of the same Unit or between different Business Units within the Adani Group , the PL balance at credit will be transferred to the new BU. However, in the case of transfer between Business Units, the employee will also have the option to encash the balance PL at the time of transfer. Encashment rules will apply. If the previous BU’s Leave policy allows for Leave accumulation higher than the new BU, the excess number of Leaves over the limit that is allowed in new BU will be encashed in the earlier BU, and the balance allowable per the new BU will be carried over. For the other way round, all Leaves will be carried forward', metadata={'source': 'D:\\\\OneDrive - Adani\\\\Desktop\\\\LEARNING_FOLDER\\\\_Kolkata_2024\\\\1_LLM\\\\3_Text_query_bot\\\\_docs\\\\to_upload_docs\\\\pdf_documents\\\\Leave_Policy_2024.pdf'})]"
      ]
     },
     "execution_count": 23,
     "metadata": {},
     "output_type": "execute_result"
    }
   ],
   "source": [
    "data_1 = db_1.get()\n",
    "# db_1._collection.get('100691cb-acda-4889-80c6-643a8ade27e2')\n",
    "# len(data_1['embeddings'])\n",
    "## how do I know that it is the same document ??\n",
    "## unique character ?? file name + file extension + filesize\n",
    "## If all this is same then it is a duplicate document\n",
    "## unique url -> \"filenamewithextension+filesiz\n",
    "db_1.similarity_search(\"What are types of leaves\")\n",
    "db_1.delete()"
   ]
  },
  {
   "cell_type": "code",
   "execution_count": 12,
   "metadata": {},
   "outputs": [
    {
     "data": {
      "text/plain": [
       "{'ids': [],\n",
       " 'embeddings': None,\n",
       " 'metadatas': [],\n",
       " 'documents': [],\n",
       " 'uris': None,\n",
       " 'data': None,\n",
       " 'included': ['metadatas', 'documents']}"
      ]
     },
     "execution_count": 12,
     "metadata": {},
     "output_type": "execute_result"
    }
   ],
   "source": [
    "chroma_db = Chroma(persist_directory= r\"D:\\OneDrive - Adani\\Desktop\\LEARNING_FOLDER\\_Kolkata_2024\\1_LLM\\3_Text_query_bot\\app_final\\chroma.db\")\n",
    "chroma_db._collection.get('id')"
   ]
  },
  {
   "cell_type": "code",
   "execution_count": 18,
   "metadata": {},
   "outputs": [
    {
     "data": {
      "text/plain": [
       "{'ids': ['100691cb-acda-4889-80c6-643a8ade27e2',\n",
       "  '10e32c82-9aeb-4046-9db2-65fa894e3966',\n",
       "  '1ab99ab4-e4df-4ada-8549-a2fa3ec77fc7',\n",
       "  '2be4ed4e-24b3-47fc-a7bd-97441f149693',\n",
       "  '307cc0ed-75a6-4aba-95f4-9f39a608aa4d',\n",
       "  '31358df8-b039-41d0-9f39-06f6d7d0a411',\n",
       "  '3a7ea39c-c34f-4865-bb3f-16c382031092',\n",
       "  '523033ba-5536-4045-b2dd-c89be5bf7106',\n",
       "  '57892bba-2d27-46ea-a330-bd5f96e967c3',\n",
       "  '5a3689ac-3749-40b3-866c-687c21907281',\n",
       "  '64f1f719-e5c3-4d28-b57a-bfa34e42143e',\n",
       "  '67a34c50-50b2-4de0-8f26-2156cacbb137',\n",
       "  '6ff4afdb-957b-41b6-a1ba-81751d0e3cea',\n",
       "  '7b37c772-ba75-48b0-b7a9-5cd23c2c03b2',\n",
       "  '822a6ebf-6412-45a2-9189-018256f0bc08',\n",
       "  'b4737569-fdba-4dbe-92fb-5d4cbf5fc8f4',\n",
       "  'b7426bbf-ed6a-4b3c-ba70-d3775a1d652b',\n",
       "  'ccbf95eb-8abc-40fb-be9b-37cdcecbeaf1',\n",
       "  'ce9c7a6e-3e72-4782-b977-b7f51fbcdb76',\n",
       "  'cf0de40b-eccb-424a-aa99-e06683bc6294',\n",
       "  'd2d5fd7a-8ce0-4184-bfad-2df2fa65d57d',\n",
       "  'ecfbdab6-c8c4-418f-a425-dbadd60a7126',\n",
       "  'ed695600-d303-4d82-9049-9f87985230f1',\n",
       "  'f1a026ca-2361-4436-b8dc-facd074eeed8',\n",
       "  'fa321db4-d54e-4665-bfb7-8b75018bd3c5',\n",
       "  'fe8edee0-7724-4f19-a5c3-ffc20962f3e3'],\n",
       " 'embeddings': None,\n",
       " 'metadatas': [{'source': 'D:\\\\OneDrive - Adani\\\\Desktop\\\\LEARNING_FOLDER\\\\_Kolkata_2024\\\\1_LLM\\\\3_Text_query_bot\\\\_docs\\\\to_upload_docs\\\\pdf_documents\\\\Leave_Policy_2024.pdf'},\n",
       "  {'source': 'D:\\\\OneDrive - Adani\\\\Desktop\\\\LEARNING_FOLDER\\\\_Kolkata_2024\\\\1_LLM\\\\3_Text_query_bot\\\\_docs\\\\to_upload_docs\\\\pdf_documents\\\\Leave_Policy_2024.pdf'},\n",
       "  {'source': 'D:\\\\OneDrive - Adani\\\\Desktop\\\\LEARNING_FOLDER\\\\_Kolkata_2024\\\\1_LLM\\\\3_Text_query_bot\\\\_docs\\\\to_upload_docs\\\\pdf_documents\\\\Leave_Policy_2024.pdf'},\n",
       "  {'source': 'D:\\\\OneDrive - Adani\\\\Desktop\\\\LEARNING_FOLDER\\\\_Kolkata_2024\\\\1_LLM\\\\3_Text_query_bot\\\\_docs\\\\to_upload_docs\\\\pdf_documents\\\\Leave_Policy_2024.pdf'},\n",
       "  {'source': 'D:\\\\OneDrive - Adani\\\\Desktop\\\\LEARNING_FOLDER\\\\_Kolkata_2024\\\\1_LLM\\\\3_Text_query_bot\\\\_docs\\\\to_upload_docs\\\\pdf_documents\\\\Leave_Policy_2024.pdf'},\n",
       "  {'source': 'D:\\\\OneDrive - Adani\\\\Desktop\\\\LEARNING_FOLDER\\\\_Kolkata_2024\\\\1_LLM\\\\3_Text_query_bot\\\\_docs\\\\to_upload_docs\\\\pdf_documents\\\\Leave_Policy_2024.pdf'},\n",
       "  {'source': 'D:\\\\OneDrive - Adani\\\\Desktop\\\\LEARNING_FOLDER\\\\_Kolkata_2024\\\\1_LLM\\\\3_Text_query_bot\\\\_docs\\\\to_upload_docs\\\\pdf_documents\\\\Leave_Policy_2024.pdf'},\n",
       "  {'source': 'D:\\\\OneDrive - Adani\\\\Desktop\\\\LEARNING_FOLDER\\\\_Kolkata_2024\\\\1_LLM\\\\3_Text_query_bot\\\\_docs\\\\to_upload_docs\\\\pdf_documents\\\\Leave_Policy_2024.pdf'},\n",
       "  {'source': 'D:\\\\OneDrive - Adani\\\\Desktop\\\\LEARNING_FOLDER\\\\_Kolkata_2024\\\\1_LLM\\\\3_Text_query_bot\\\\_docs\\\\to_upload_docs\\\\pdf_documents\\\\Leave_Policy_2024.pdf'},\n",
       "  {'source': 'D:\\\\OneDrive - Adani\\\\Desktop\\\\LEARNING_FOLDER\\\\_Kolkata_2024\\\\1_LLM\\\\3_Text_query_bot\\\\_docs\\\\to_upload_docs\\\\pdf_documents\\\\Leave_Policy_2024.pdf'},\n",
       "  {'source': 'D:\\\\OneDrive - Adani\\\\Desktop\\\\LEARNING_FOLDER\\\\_Kolkata_2024\\\\1_LLM\\\\3_Text_query_bot\\\\_docs\\\\to_upload_docs\\\\pdf_documents\\\\Leave_Policy_2024.pdf'},\n",
       "  {'source': 'D:\\\\OneDrive - Adani\\\\Desktop\\\\LEARNING_FOLDER\\\\_Kolkata_2024\\\\1_LLM\\\\3_Text_query_bot\\\\_docs\\\\to_upload_docs\\\\pdf_documents\\\\Leave_Policy_2024.pdf'},\n",
       "  {'source': 'D:\\\\OneDrive - Adani\\\\Desktop\\\\LEARNING_FOLDER\\\\_Kolkata_2024\\\\1_LLM\\\\3_Text_query_bot\\\\_docs\\\\to_upload_docs\\\\pdf_documents\\\\Leave_Policy_2024.pdf'},\n",
       "  {'source': 'D:\\\\OneDrive - Adani\\\\Desktop\\\\LEARNING_FOLDER\\\\_Kolkata_2024\\\\1_LLM\\\\3_Text_query_bot\\\\_docs\\\\to_upload_docs\\\\pdf_documents\\\\Leave_Policy_2024.pdf'},\n",
       "  {'source': 'D:\\\\OneDrive - Adani\\\\Desktop\\\\LEARNING_FOLDER\\\\_Kolkata_2024\\\\1_LLM\\\\3_Text_query_bot\\\\_docs\\\\to_upload_docs\\\\pdf_documents\\\\Leave_Policy_2024.pdf'},\n",
       "  {'source': 'D:\\\\OneDrive - Adani\\\\Desktop\\\\LEARNING_FOLDER\\\\_Kolkata_2024\\\\1_LLM\\\\3_Text_query_bot\\\\_docs\\\\to_upload_docs\\\\pdf_documents\\\\Leave_Policy_2024.pdf'},\n",
       "  {'source': 'D:\\\\OneDrive - Adani\\\\Desktop\\\\LEARNING_FOLDER\\\\_Kolkata_2024\\\\1_LLM\\\\3_Text_query_bot\\\\_docs\\\\to_upload_docs\\\\pdf_documents\\\\Leave_Policy_2024.pdf'},\n",
       "  {'source': 'D:\\\\OneDrive - Adani\\\\Desktop\\\\LEARNING_FOLDER\\\\_Kolkata_2024\\\\1_LLM\\\\3_Text_query_bot\\\\_docs\\\\to_upload_docs\\\\pdf_documents\\\\Leave_Policy_2024.pdf'},\n",
       "  {'source': 'D:\\\\OneDrive - Adani\\\\Desktop\\\\LEARNING_FOLDER\\\\_Kolkata_2024\\\\1_LLM\\\\3_Text_query_bot\\\\_docs\\\\to_upload_docs\\\\pdf_documents\\\\Leave_Policy_2024.pdf'},\n",
       "  {'source': 'D:\\\\OneDrive - Adani\\\\Desktop\\\\LEARNING_FOLDER\\\\_Kolkata_2024\\\\1_LLM\\\\3_Text_query_bot\\\\_docs\\\\to_upload_docs\\\\pdf_documents\\\\Leave_Policy_2024.pdf'},\n",
       "  {'source': 'D:\\\\OneDrive - Adani\\\\Desktop\\\\LEARNING_FOLDER\\\\_Kolkata_2024\\\\1_LLM\\\\3_Text_query_bot\\\\_docs\\\\to_upload_docs\\\\pdf_documents\\\\Leave_Policy_2024.pdf'},\n",
       "  {'source': 'D:\\\\OneDrive - Adani\\\\Desktop\\\\LEARNING_FOLDER\\\\_Kolkata_2024\\\\1_LLM\\\\3_Text_query_bot\\\\_docs\\\\to_upload_docs\\\\pdf_documents\\\\Leave_Policy_2024.pdf'},\n",
       "  {'source': 'D:\\\\OneDrive - Adani\\\\Desktop\\\\LEARNING_FOLDER\\\\_Kolkata_2024\\\\1_LLM\\\\3_Text_query_bot\\\\_docs\\\\to_upload_docs\\\\pdf_documents\\\\Leave_Policy_2024.pdf'},\n",
       "  {'source': 'D:\\\\OneDrive - Adani\\\\Desktop\\\\LEARNING_FOLDER\\\\_Kolkata_2024\\\\1_LLM\\\\3_Text_query_bot\\\\_docs\\\\to_upload_docs\\\\pdf_documents\\\\Leave_Policy_2024.pdf'},\n",
       "  {'source': 'D:\\\\OneDrive - Adani\\\\Desktop\\\\LEARNING_FOLDER\\\\_Kolkata_2024\\\\1_LLM\\\\3_Text_query_bot\\\\_docs\\\\to_upload_docs\\\\pdf_documents\\\\Leave_Policy_2024.pdf'},\n",
       "  {'source': 'D:\\\\OneDrive - Adani\\\\Desktop\\\\LEARNING_FOLDER\\\\_Kolkata_2024\\\\1_LLM\\\\3_Text_query_bot\\\\_docs\\\\to_upload_docs\\\\pdf_documents\\\\Leave_Policy_2024.pdf'}],\n",
       " 'documents': ['Leave Policy\\n\\nVersion Issue Date\\n\\nHRLP24 1-Apr-2024\\n\\nEffective Date\\n\\n1-Jan-2024\\n\\nThis version supersedes all previous versions with a lesser version number\\n\\n1.0 OBJECTIVE: Leave is a period of rest and relaxation provided at intervals during\\n\\nwork periods. For convenience in terms of reference, it is divided into categories such as Privilege Leave (PL), Casual Leave (CL), Sick Leave (SL) and Special Leave\\n\\n2.0 DEFINITIONS:\\n\\n2.1 Leave Year: The Leave Year is the calendar year from 1 January to 31 December. All calculations of earning, credit, availment, balance etc. of leave will be done with respect to each Leave Year\\n\\n2.2 Entitlement: This refers to the amount, or the number of days of Leave (of different types) that an employee gets in a Leave Year as part of conditions of service, subject to certain conditions such as full attendance on full salary. For example, the entitlement of PL is 21 days in a Leave Year',\n",
       "  'Page 1 of 4\\n\\nLeave Policy\\n\\nVersion Issue Date\\n\\nHRLP24 1-Apr-2024\\n\\nEffective Date\\n\\n1-Jan-2024\\n\\nThis version supersedes all previous versions with a lesser version number\\n\\nENTITLEMENT: PRIVILEGE LEAVE 21 DAYS CASUAL LEAVE 7 DAYS SICK LEAVE 7 DAYS Entitlement per Leave Year\\n\\n3.0\\n\\nTYPES OF LEAVE (S) AND ENTITLEMENT\\n\\n3.1 Privilege Leave is the Leave that an employee earns for the services rendered. Therefore, an employee does not earn PL for the period he or she is absent 3.2 Casual Leave can be availed at short notice towards personal work or exigencies 3.3 Sick Leave is meant to be availed to recover/ recuperate from illness or for\\n\\nmedical treatment\\n\\n3.4 An employee can avail leave which is credited to him/her. However, the sanctioning authority may reject the request (other than Sick Leave) in cases of business exigencies. In such cases, the reasons for refusal need to be recorded in writing and the employee has a right to appeal to the higher authority',\n",
       "  'Leave Policy\\n\\nVersion Issue Date\\n\\nHRLP24 1-Apr-2024\\n\\nEffective Date\\n\\n1-Jan-2024\\n\\nThis version supersedes all previous versions with a lesser version number\\n\\n5.0 SICK LEAVE (SL) POLICIES & PROCEDURES\\n\\n5.1 SL is credited in advance, at the beginning of the year. For new joiners, it will be credited on a pro-rata basis for the period from the date of joining to the end of the Leave Year\\n\\n5.2 SL can be availed in units of ½ day. The company (Business HR) at its discretion may request for and validate/ verify a medical certificate. Any SL request beyond the accumulated balance shall be considered as special leave and will require approval from Business Head / CEO.\\n\\n5.3 Weekly offs or holidays (preceding, succeeding or intervening) are not included\\n\\nwhilst counting the number of days of SL availed',\n",
       "  '2.8 Special Leave: In addition, an employee may be entitled to leave under specific conditions such as Parental Leave (Maternity/ Paternity), Special Leave on joining or transfer, Sabbatical Leave, etc.\\n\\n2.9 Public Holiday: Every year, ten public holidays are declared by businesses for the relevant locations to incorporate local customs. Businesses/locations can choose to give two optional holidays out of ten holidays to make the policy more inclusive. Employees will have the option to choose two holidays from the list of Optional holidays (published by HR SSC at the start of the calendar year). This number is independent of the date of joining. Employees will have to choose their preferred holidays from the proposed optional holiday. If Optional holidays are not chosen by any employee in a given year, those holidays will lapse for the year.\\n\\nPage 1 of 4\\n\\nLeave Policy\\n\\nVersion Issue Date\\n\\nHRLP24 1-Apr-2024\\n\\nEffective Date\\n\\n1-Jan-2024',\n",
       "  '5.3 Weekly offs or holidays (preceding, succeeding or intervening) are not included\\n\\nwhilst counting the number of days of SL availed\\n\\n5.4 SL can be accumulated without any limit. 5.5 SL can also be combined with PL / Maternity Leave (where applicable) in the case of prolonged illness. This will be subject to the submission of medical certificates\\n\\n5.6 The company may at its discretion refer an employee to further medical check- ups from its approved panel of doctors in addition to validating, through its own sources, any medical certificate submitted\\n\\n6.0\\n\\nPRIVILEGE LEAVE POLICY\\n\\n6.1 Credit: PL is credited to the employee’s Leave account at the end of each Leave\\n\\nYear i.e. on the 1st of January of the next Leave Year',\n",
       "  '2.8 Special Leave: In addition, an employee may be entitled to leave under specific conditions such as Parental Leave (Maternity/ Paternity), Special Leave on joining or transfer, Sabbatical Leave, etc.\\n\\n2.9 Public Holiday: Every year, ten public holidays are declared by businesses for the relevant locations to incorporate local customs. Businesses/locations can choose to give two optional holidays out of ten holidays to make the policy more inclusive. Employees will have the option to choose two holidays from the list of Optional holidays (published by HR SSC at the start of the calendar year). This number is independent of the date of joining. Employees will have to choose their preferred holidays from the proposed optional holiday. If Optional holidays are not chosen by any employee in a given year, those holidays will lapse for the year.\\n\\nPage 1 of 4\\n\\nLeave Policy\\n\\nVersion Issue Date\\n\\nHRLP24 1-Apr-2024\\n\\nEffective Date\\n\\n1-Jan-2024',\n",
       "  'approved by the CEO/Business head.\\n\\n3.9 Absence from work on working days without sanctioned leave is a misconduct\\n\\n4.0 CASUAL LEAVE (CL) POLICIES & PROCEDURES\\n\\n4.1 CL is credited in advance at the beginning of the year. For those joining in the middle of a Leave Year, the calculation of CL earning will be pro-rata from the date of joining\\n\\n4.2 CL can be availed in units of ½ day. 4.3 Weekly-offs or holidays (preceding, succeeding or intervening) are not included\\n\\nwhilst counting the number of days of CL availed\\n\\n4.4 Unavailed CL will not be carried forward. However, it can be converted and\\n\\nadded to the PL at the beginning of the next year\\n\\n4.5 On transfer to a new unit/ relocation within a unit, un-availed CL will be\\n\\ntransferred to the new unit\\n\\nPage 2 of 4\\n\\nLeave Policy\\n\\nVersion Issue Date\\n\\nHRLP24 1-Apr-2024\\n\\nEffective Date\\n\\n1-Jan-2024\\n\\nThis version supersedes all previous versions with a lesser version number\\n\\n5.0 SICK LEAVE (SL) POLICIES & PROCEDURES',\n",
       "  '6.5 PL can be availed in units of ½ day. 6.6 Advance PL: Employees may request PL in advance through appropriate channel. Since, PL is an earned leave, the availed advance PL will be settled against the PL balance that will be credited in next leave year.\\n\\n7.0 PRIVILEGE LEAVE PROCEDURES:\\n\\n7.1 Wherever Leave is credited and availed in advance of the entitlement or earning, it will be recovered from the employees upon their leaving the services of the company unless they have earned that leave\\n\\nPage 3 of 4\\n\\nLeave Policy\\n\\nVersion Issue Date\\n\\nHRLP24 1-Apr-2024\\n\\nEffective Date\\n\\n1-Jan-2024\\n\\nThis version supersedes all previous versions with a lesser version number\\n\\n7.2 Departmental / Section Heads may require employees to plan their availment of\\n\\nPL in advance to avoid work disruption\\n\\n7.3 Where an employee does not, partially or fully, avail 15 days of compulsory PL in\\n\\na block of 2 years, the amount of PL not availed will lapse',\n",
       "  '2.3 Earning: This refers to the rate at which an employee is entitled to earn Leave by the organisation. For example, an employee earns PL @ 1.75 days for every month of service rendered\\n\\n2.4 Credit: This refers to the amount of Leave that is credited to the employee’s\\n\\nLeave account\\n\\n2.5 Availment: Utilisation of the Leave credit is availment. An employee can avail leave provided they have Leave credit and the leave applied for has been approved\\n\\n2.6 Sanctioning Authority: Usually the Reporting Manager of the employee or any person authorized by the organisation to grant leave to an employee as per the delegation of authority\\n\\n2.7 Employees joining/ leaving in the middle of a Leave Year\\n\\nIn such cases, leave (PL, SL and CL) will be calculated on pro-rata basis from the date of joining till the end of the Leave Year or from the beginning of the Leave Year till the date of employee exit in units of half a month.',\n",
       "  '3.5 Deviations: All deviations from the Leave rules / leave for any other reason will\\n\\nrequire the approval of the Business Head / CEO.\\n\\n3.6 Special Leave: This is related to work or personal events such as Long Illness/\\n\\nJoining/ Transfer or Parental Benefits like Paternity/ Maternity/Adoption etc.\\n\\n3.7 Exit Leave: This leave is provided on the last working day of resigned employees to be free from any work priorities and to complete the exit formalities including but not limited to No Dues Clearance (NDC) and related sign-offs, handover of ID cards, electronic assets such as laptop and computer accessories etc. 3.8 Work From Home: The work from home is generally discouraged unless it is\\n\\napproved by the CEO/Business head.\\n\\n3.9 Absence from work on working days without sanctioned leave is a misconduct\\n\\n4.0 CASUAL LEAVE (CL) POLICIES & PROCEDURES',\n",
       "  '5.3 Weekly offs or holidays (preceding, succeeding or intervening) are not included\\n\\nwhilst counting the number of days of SL availed\\n\\n5.4 SL can be accumulated without any limit. 5.5 SL can also be combined with PL / Maternity Leave (where applicable) in the case of prolonged illness. This will be subject to the submission of medical certificates\\n\\n5.6 The company may at its discretion refer an employee to further medical check- ups from its approved panel of doctors in addition to validating, through its own sources, any medical certificate submitted\\n\\n6.0\\n\\nPRIVILEGE LEAVE POLICY\\n\\n6.1 Credit: PL is credited to the employee’s Leave account at the end of each Leave\\n\\nYear i.e. on the 1st of January of the next Leave Year',\n",
       "  'Leave Policy\\n\\nVersion Issue Date\\n\\nHRLP24 1-Apr-2024\\n\\nEffective Date\\n\\n1-Jan-2024\\n\\nThis version supersedes all previous versions with a lesser version number\\n\\n1.0 OBJECTIVE: Leave is a period of rest and relaxation provided at intervals during\\n\\nwork periods. For convenience in terms of reference, it is divided into categories such as Privilege Leave (PL), Casual Leave (CL), Sick Leave (SL) and Special Leave\\n\\n2.0 DEFINITIONS:\\n\\n2.1 Leave Year: The Leave Year is the calendar year from 1 January to 31 December. All calculations of earning, credit, availment, balance etc. of leave will be done with respect to each Leave Year\\n\\n2.2 Entitlement: This refers to the amount, or the number of days of Leave (of different types) that an employee gets in a Leave Year as part of conditions of service, subject to certain conditions such as full attendance on full salary. For example, the entitlement of PL is 21 days in a Leave Year',\n",
       "  'PL in advance to avoid work disruption\\n\\n7.3 Where an employee does not, partially or fully, avail 15 days of compulsory PL in\\n\\na block of 2 years, the amount of PL not availed will lapse\\n\\n7.4 Example: if an employee has 28 days Leave balance and has availed only 5 days of Leave in the designated block of 2 years, the balance 10 days will lapse and be subtracted from the Leave balance at the credit of the employee\\n\\n7.5 Unavailed PL can be carried forward to the next year. The entitlement for the current year is added to the balance leave reflecting in the Leave account subject to a maximum of 90 days of PL\\n\\n7.6 Minimum PL to be availed: PL can be availed subject to a minimum of ½ day. 7.7 The number of days of Leave, in excess of 90 days, at the start of a Leave Year will be automatically encashed as per the encashment procedure. Encashment will be calculated only on Basic Salary of January month of the respective year of encashment',\n",
       "  'Leave Policy\\n\\nVersion Issue Date\\n\\nHRLP24 1-Apr-2024\\n\\nEffective Date\\n\\n1-Jan-2024\\n\\nThis version supersedes all previous versions with a lesser version number\\n\\n5.0 SICK LEAVE (SL) POLICIES & PROCEDURES\\n\\n5.1 SL is credited in advance, at the beginning of the year. For new joiners, it will be credited on a pro-rata basis for the period from the date of joining to the end of the Leave Year\\n\\n5.2 SL can be availed in units of ½ day. The company (Business HR) at its discretion may request for and validate/ verify a medical certificate. Any SL request beyond the accumulated balance shall be considered as special leave and will require approval from Business Head / CEO.\\n\\n5.3 Weekly offs or holidays (preceding, succeeding or intervening) are not included\\n\\nwhilst counting the number of days of SL availed',\n",
       "  'approved by the CEO/Business head.\\n\\n3.9 Absence from work on working days without sanctioned leave is a misconduct\\n\\n4.0 CASUAL LEAVE (CL) POLICIES & PROCEDURES\\n\\n4.1 CL is credited in advance at the beginning of the year. For those joining in the middle of a Leave Year, the calculation of CL earning will be pro-rata from the date of joining\\n\\n4.2 CL can be availed in units of ½ day. 4.3 Weekly-offs or holidays (preceding, succeeding or intervening) are not included\\n\\nwhilst counting the number of days of CL availed\\n\\n4.4 Unavailed CL will not be carried forward. However, it can be converted and\\n\\nadded to the PL at the beginning of the next year\\n\\n4.5 On transfer to a new unit/ relocation within a unit, un-availed CL will be\\n\\ntransferred to the new unit\\n\\nPage 2 of 4\\n\\nLeave Policy\\n\\nVersion Issue Date\\n\\nHRLP24 1-Apr-2024\\n\\nEffective Date\\n\\n1-Jan-2024\\n\\nThis version supersedes all previous versions with a lesser version number\\n\\n5.0 SICK LEAVE (SL) POLICIES & PROCEDURES',\n",
       "  'Page 1 of 4\\n\\nLeave Policy\\n\\nVersion Issue Date\\n\\nHRLP24 1-Apr-2024\\n\\nEffective Date\\n\\n1-Jan-2024\\n\\nThis version supersedes all previous versions with a lesser version number\\n\\nENTITLEMENT: PRIVILEGE LEAVE 21 DAYS CASUAL LEAVE 7 DAYS SICK LEAVE 7 DAYS Entitlement per Leave Year\\n\\n3.0\\n\\nTYPES OF LEAVE (S) AND ENTITLEMENT\\n\\n3.1 Privilege Leave is the Leave that an employee earns for the services rendered. Therefore, an employee does not earn PL for the period he or she is absent 3.2 Casual Leave can be availed at short notice towards personal work or exigencies 3.3 Sick Leave is meant to be availed to recover/ recuperate from illness or for\\n\\nmedical treatment\\n\\n3.4 An employee can avail leave which is credited to him/her. However, the sanctioning authority may reject the request (other than Sick Leave) in cases of business exigencies. In such cases, the reasons for refusal need to be recorded in writing and the employee has a right to appeal to the higher authority',\n",
       "  '2.3 Earning: This refers to the rate at which an employee is entitled to earn Leave by the organisation. For example, an employee earns PL @ 1.75 days for every month of service rendered\\n\\n2.4 Credit: This refers to the amount of Leave that is credited to the employee’s\\n\\nLeave account\\n\\n2.5 Availment: Utilisation of the Leave credit is availment. An employee can avail leave provided they have Leave credit and the leave applied for has been approved\\n\\n2.6 Sanctioning Authority: Usually the Reporting Manager of the employee or any person authorized by the organisation to grant leave to an employee as per the delegation of authority\\n\\n2.7 Employees joining/ leaving in the middle of a Leave Year\\n\\nIn such cases, leave (PL, SL and CL) will be calculated on pro-rata basis from the date of joining till the end of the Leave Year or from the beginning of the Leave Year till the date of employee exit in units of half a month.',\n",
       "  '7.8 Number of Days of PL: Whilst counting the number of days for any applied PL, holidays or weekly offs that precede, succeed or intervene within its duration, shall not be counted\\n\\n7.9 When an employee is transferred between locations of the same Unit or between different Business Units within the Adani Group , the PL balance at credit will be transferred to the new BU. However, in the case of transfer between Business Units, the employee will also have the option to encash the balance PL at the time of transfer. Encashment rules will apply. If the previous BU’s Leave policy allows for Leave accumulation higher than the new BU, the excess number of Leaves over the limit that is allowed in new BU will be encashed in the earlier BU, and the balance allowable per the new BU will be carried over. For the other way round, all Leaves will be carried forward',\n",
       "  '6.5 PL can be availed in units of ½ day. 6.6 Advance PL: Employees may request PL in advance through appropriate channel. Since, PL is an earned leave, the availed advance PL will be settled against the PL balance that will be credited in next leave year.\\n\\n7.0 PRIVILEGE LEAVE PROCEDURES:\\n\\n7.1 Wherever Leave is credited and availed in advance of the entitlement or earning, it will be recovered from the employees upon their leaving the services of the company unless they have earned that leave\\n\\nPage 3 of 4\\n\\nLeave Policy\\n\\nVersion Issue Date\\n\\nHRLP24 1-Apr-2024\\n\\nEffective Date\\n\\n1-Jan-2024\\n\\nThis version supersedes all previous versions with a lesser version number\\n\\n7.2 Departmental / Section Heads may require employees to plan their availment of\\n\\nPL in advance to avoid work disruption\\n\\n7.3 Where an employee does not, partially or fully, avail 15 days of compulsory PL in\\n\\na block of 2 years, the amount of PL not availed will lapse',\n",
       "  '6.0\\n\\nPRIVILEGE LEAVE POLICY\\n\\n6.1 Credit: PL is credited to the employee’s Leave account at the end of each Leave\\n\\nYear i.e. on the 1st of January of the next Leave Year\\n\\n6.2 Compulsory PL: Employees have to compulsorily avail at least 15 days PL in a block of 2 years in order to rejuvenate themselves. In the case of employees who have recently joined, the first block of 2 years starts from the January when 21 days of leave is earned. Unavailed compulsory PL will lapse in the Leave Year following the year in which compulsory PL was due.\\n\\n6.3 Maximum Leave: Balance at the credit of an employee at the beginning of any Leave Year cannot exceed 90 days. Any amount in excess of 90 days will be automatically encashed as per procedures and rules on Leave encashment 6.4 Leave Encashment: An employee may at any time during his/her service opt to encash Leave at credit, subject to always maintaining a balance of 30 days PL at credit',\n",
       "  '7.8 Number of Days of PL: Whilst counting the number of days for any applied PL, holidays or weekly offs that precede, succeed or intervene within its duration, shall not be counted\\n\\n7.9 When an employee is transferred between locations of the same Unit or between different Business Units within the Adani Group , the PL balance at credit will be transferred to the new BU. However, in the case of transfer between Business Units, the employee will also have the option to encash the balance PL at the time of transfer. Encashment rules will apply. If the previous BU’s Leave policy allows for Leave accumulation higher than the new BU, the excess number of Leaves over the limit that is allowed in new BU will be encashed in the earlier BU, and the balance allowable per the new BU will be carried over. For the other way round, all Leaves will be carried forward',\n",
       "  '7.10 Normally PL cannot be availed during the Notice Period once the resignation has been accepted. However, in case of emergencies, this availment of PL may be authorized as an exception by the CEO / Business Head / Site Head and the approval needs to be shared with HR SSC for the needful action. The notice period may be extended by the duration of the PL.\\n\\n8.0 PATERNITY LEAVE:\\n\\n8.1 Employees can avail maximum 6 days per child as paid paternity leave during\\n\\nthe tenure with the group.\\n\\n8.2 Paternity leave should be used within one month of the date of birth of the\\n\\nchild.\\n\\n8.3 Paternity leave may be combined with either CL or PL. 8.4 Paternity leave is not encashable.\\n\\nPage 4 of 4',\n",
       "  '3.5 Deviations: All deviations from the Leave rules / leave for any other reason will\\n\\nrequire the approval of the Business Head / CEO.\\n\\n3.6 Special Leave: This is related to work or personal events such as Long Illness/\\n\\nJoining/ Transfer or Parental Benefits like Paternity/ Maternity/Adoption etc.\\n\\n3.7 Exit Leave: This leave is provided on the last working day of resigned employees to be free from any work priorities and to complete the exit formalities including but not limited to No Dues Clearance (NDC) and related sign-offs, handover of ID cards, electronic assets such as laptop and computer accessories etc. 3.8 Work From Home: The work from home is generally discouraged unless it is\\n\\napproved by the CEO/Business head.\\n\\n3.9 Absence from work on working days without sanctioned leave is a misconduct\\n\\n4.0 CASUAL LEAVE (CL) POLICIES & PROCEDURES',\n",
       "  'PL in advance to avoid work disruption\\n\\n7.3 Where an employee does not, partially or fully, avail 15 days of compulsory PL in\\n\\na block of 2 years, the amount of PL not availed will lapse\\n\\n7.4 Example: if an employee has 28 days Leave balance and has availed only 5 days of Leave in the designated block of 2 years, the balance 10 days will lapse and be subtracted from the Leave balance at the credit of the employee\\n\\n7.5 Unavailed PL can be carried forward to the next year. The entitlement for the current year is added to the balance leave reflecting in the Leave account subject to a maximum of 90 days of PL\\n\\n7.6 Minimum PL to be availed: PL can be availed subject to a minimum of ½ day. 7.7 The number of days of Leave, in excess of 90 days, at the start of a Leave Year will be automatically encashed as per the encashment procedure. Encashment will be calculated only on Basic Salary of January month of the respective year of encashment',\n",
       "  '6.0\\n\\nPRIVILEGE LEAVE POLICY\\n\\n6.1 Credit: PL is credited to the employee’s Leave account at the end of each Leave\\n\\nYear i.e. on the 1st of January of the next Leave Year\\n\\n6.2 Compulsory PL: Employees have to compulsorily avail at least 15 days PL in a block of 2 years in order to rejuvenate themselves. In the case of employees who have recently joined, the first block of 2 years starts from the January when 21 days of leave is earned. Unavailed compulsory PL will lapse in the Leave Year following the year in which compulsory PL was due.\\n\\n6.3 Maximum Leave: Balance at the credit of an employee at the beginning of any Leave Year cannot exceed 90 days. Any amount in excess of 90 days will be automatically encashed as per procedures and rules on Leave encashment 6.4 Leave Encashment: An employee may at any time during his/her service opt to encash Leave at credit, subject to always maintaining a balance of 30 days PL at credit',\n",
       "  '7.10 Normally PL cannot be availed during the Notice Period once the resignation has been accepted. However, in case of emergencies, this availment of PL may be authorized as an exception by the CEO / Business Head / Site Head and the approval needs to be shared with HR SSC for the needful action. The notice period may be extended by the duration of the PL.\\n\\n8.0 PATERNITY LEAVE:\\n\\n8.1 Employees can avail maximum 6 days per child as paid paternity leave during\\n\\nthe tenure with the group.\\n\\n8.2 Paternity leave should be used within one month of the date of birth of the\\n\\nchild.\\n\\n8.3 Paternity leave may be combined with either CL or PL. 8.4 Paternity leave is not encashable.\\n\\nPage 4 of 4'],\n",
       " 'uris': None,\n",
       " 'data': None,\n",
       " 'included': ['metadatas', 'documents']}"
      ]
     },
     "execution_count": 18,
     "metadata": {},
     "output_type": "execute_result"
    }
   ],
   "source": [
    "db_1.get()"
   ]
  },
  {
   "cell_type": "code",
   "execution_count": null,
   "metadata": {},
   "outputs": [],
   "source": []
  }
 ],
 "metadata": {
  "kernelspec": {
   "display_name": "Python 3",
   "language": "python",
   "name": "python3"
  },
  "language_info": {
   "codemirror_mode": {
    "name": "ipython",
    "version": 3
   },
   "file_extension": ".py",
   "mimetype": "text/x-python",
   "name": "python",
   "nbconvert_exporter": "python",
   "pygments_lexer": "ipython3",
   "version": "3.11.9"
  }
 },
 "nbformat": 4,
 "nbformat_minor": 2
}
