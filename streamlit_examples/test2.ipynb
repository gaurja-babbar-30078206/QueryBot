{
 "cells": [
  {
   "cell_type": "code",
   "execution_count": 2,
   "metadata": {},
   "outputs": [],
   "source": [
    "import pandas as pd\n",
    "import numpy as np"
   ]
  },
  {
   "cell_type": "code",
   "execution_count": 16,
   "metadata": {},
   "outputs": [],
   "source": [
    "time_complexity_excel = pd.DataFrame({\n",
    "    \"LLM\":[],\n",
    "    \"Embed LLM\":[],\n",
    "    \"LLM init time\": [],\n",
    "    \"Embed LLM init time\": [],\n",
    "    \"Document\": [],\n",
    "    \"Vector store\": [],\n",
    "    \"Vector store creation time\":[],\n",
    "    \"LLM response time(min)\": [],\n",
    "    \"LLM response time(max)\": [],\n",
    "    \"LLM response time(avg)\" : []\n",
    "})\n",
    "file_path = r\"D:\\OneDrive - Adani\\Desktop\\LEARNING_FOLDER\\_Kolkata_2024\\1_LLM\\3_Text_query_bot\\_docs\\accuracy_timecomp.xlsx\"\n",
    "\n",
    "time_complexity_excel.to_excel(file_path,sheet_name=\"all_time_complexities\")\n",
    "## How edit excel using pandas"
   ]
  },
  {
   "cell_type": "code",
   "execution_count": 55,
   "metadata": {},
   "outputs": [],
   "source": [
    "file = file_path\n",
    "sheet1 = pd.read_excel(file, \n",
    "                        sheet_name = \"all_time_complexities\", index_col=0)"
   ]
  },
  {
   "cell_type": "code",
   "execution_count": 56,
   "metadata": {},
   "outputs": [
    {
     "data": {
      "text/html": [
       "<div>\n",
       "<style scoped>\n",
       "    .dataframe tbody tr th:only-of-type {\n",
       "        vertical-align: middle;\n",
       "    }\n",
       "\n",
       "    .dataframe tbody tr th {\n",
       "        vertical-align: top;\n",
       "    }\n",
       "\n",
       "    .dataframe thead th {\n",
       "        text-align: right;\n",
       "    }\n",
       "</style>\n",
       "<table border=\"1\" class=\"dataframe\">\n",
       "  <thead>\n",
       "    <tr style=\"text-align: right;\">\n",
       "      <th></th>\n",
       "      <th>LLM</th>\n",
       "      <th>Embed LLM</th>\n",
       "      <th>LLM init time</th>\n",
       "      <th>Embed LLM init time</th>\n",
       "      <th>Context retrieval time</th>\n",
       "      <th>LLM response time</th>\n",
       "      <th>Total response time</th>\n",
       "    </tr>\n",
       "  </thead>\n",
       "  <tbody>\n",
       "  </tbody>\n",
       "</table>\n",
       "</div>"
      ],
      "text/plain": [
       "Empty DataFrame\n",
       "Columns: [LLM, Embed LLM, LLM init time, Embed LLM init time, Context retrieval time, LLM response time, Total response time]\n",
       "Index: []"
      ]
     },
     "execution_count": 56,
     "metadata": {},
     "output_type": "execute_result"
    }
   ],
   "source": [
    "sheet1"
   ]
  },
  {
   "cell_type": "code",
   "execution_count": 42,
   "metadata": {},
   "outputs": [],
   "source": [
    "sheet1.to_excel(file_path,sheet_name=\"all_time_complexities\")"
   ]
  },
  {
   "cell_type": "code",
   "execution_count": 58,
   "metadata": {},
   "outputs": [],
   "source": [
    "sheet1[\"LLM\"] = ['a','b']\n",
    "sheet1.to_excel(file_path,sheet_name=\"all_time_complexities\")"
   ]
  },
  {
   "cell_type": "code",
   "execution_count": 83,
   "metadata": {},
   "outputs": [],
   "source": [
    "file = file_path\n",
    "sheet2 = pd.read_excel(file, \n",
    "                        sheet_name = \"all_time_complexities\", index_col=0)"
   ]
  },
  {
   "cell_type": "code",
   "execution_count": 84,
   "metadata": {},
   "outputs": [
    {
     "data": {
      "text/html": [
       "<div>\n",
       "<style scoped>\n",
       "    .dataframe tbody tr th:only-of-type {\n",
       "        vertical-align: middle;\n",
       "    }\n",
       "\n",
       "    .dataframe tbody tr th {\n",
       "        vertical-align: top;\n",
       "    }\n",
       "\n",
       "    .dataframe thead th {\n",
       "        text-align: right;\n",
       "    }\n",
       "</style>\n",
       "<table border=\"1\" class=\"dataframe\">\n",
       "  <thead>\n",
       "    <tr style=\"text-align: right;\">\n",
       "      <th></th>\n",
       "      <th>LLM</th>\n",
       "      <th>Embed LLM</th>\n",
       "      <th>LLM init time</th>\n",
       "      <th>Embed LLM init time</th>\n",
       "      <th>Document</th>\n",
       "      <th>Vector store</th>\n",
       "      <th>Vector store creation time</th>\n",
       "      <th>LLM response time</th>\n",
       "    </tr>\n",
       "  </thead>\n",
       "  <tbody>\n",
       "  </tbody>\n",
       "</table>\n",
       "</div>"
      ],
      "text/plain": [
       "Empty DataFrame\n",
       "Columns: [LLM, Embed LLM, LLM init time, Embed LLM init time, Document, Vector store, Vector store creation time, LLM response time]\n",
       "Index: []"
      ]
     },
     "execution_count": 84,
     "metadata": {},
     "output_type": "execute_result"
    }
   ],
   "source": [
    "sheet2"
   ]
  },
  {
   "cell_type": "code",
   "execution_count": null,
   "metadata": {},
   "outputs": [],
   "source": [
    "### Question and answer excel"
   ]
  },
  {
   "cell_type": "code",
   "execution_count": 108,
   "metadata": {},
   "outputs": [],
   "source": []
  },
  {
   "cell_type": "code",
   "execution_count": 113,
   "metadata": {},
   "outputs": [],
   "source": [
    "question_answer_excel = pd.DataFrame({\n",
    "    \"Question\": [],\n",
    "    \"Answer\": []\n",
    "})\n",
    "file_path = r\"D:\\OneDrive - Adani\\Desktop\\LEARNING_FOLDER\\_Kolkata_2024\\1_LLM\\3_Text_query_bot\\_docs\\question_answer.xlsx\"\n",
    "count = 2\n",
    "chosen_llm = \"Dffdf\"\n",
    "chosen_embed_llm = \"Dfdfdf\"\n",
    "# question_answer_excel.to_excel(file_path,sheet_name= f\"{count}+{chosen_llm}+{chosen_embed_llm}\")\n",
    "\n",
    "with pd.ExcelWriter(file_path, engine='xlsxwriter') as writer:\n",
    "    question_answer_excel_pd.to_excel(writer, sheet_name=\"3\")\n",
    "    # question_answer_excel_pd.to_excel(writer, sheet_name=\"2\")    "
   ]
  },
  {
   "cell_type": "code",
   "execution_count": 114,
   "metadata": {},
   "outputs": [],
   "source": [
    "sheet3 =  pd.read_excel(file_path,index_col=0)"
   ]
  },
  {
   "cell_type": "code",
   "execution_count": 115,
   "metadata": {},
   "outputs": [
    {
     "data": {
      "text/html": [
       "<div>\n",
       "<style scoped>\n",
       "    .dataframe tbody tr th:only-of-type {\n",
       "        vertical-align: middle;\n",
       "    }\n",
       "\n",
       "    .dataframe tbody tr th {\n",
       "        vertical-align: top;\n",
       "    }\n",
       "\n",
       "    .dataframe thead th {\n",
       "        text-align: right;\n",
       "    }\n",
       "</style>\n",
       "<table border=\"1\" class=\"dataframe\">\n",
       "  <thead>\n",
       "    <tr style=\"text-align: right;\">\n",
       "      <th></th>\n",
       "      <th>Question</th>\n",
       "      <th>Answer</th>\n",
       "    </tr>\n",
       "  </thead>\n",
       "  <tbody>\n",
       "  </tbody>\n",
       "</table>\n",
       "</div>"
      ],
      "text/plain": [
       "Empty DataFrame\n",
       "Columns: [Question, Answer]\n",
       "Index: []"
      ]
     },
     "execution_count": 115,
     "metadata": {},
     "output_type": "execute_result"
    }
   ],
   "source": [
    "sheet3"
   ]
  },
  {
   "cell_type": "code",
   "execution_count": 3,
   "metadata": {},
   "outputs": [],
   "source": [
    "import pandas as pd\n",
    "\n",
    "\n",
    "file_path = r\"D:\\OneDrive - Adani\\Desktop\\LEARNING_FOLDER\\_Kolkata_2024\\1_LLM\\3_Text_query_bot\\_docs\\gb_question_answer_2.xlsx\"\n",
    "\n",
    " \n",
    "# Generating workbook and writer engine\n",
    "# excel_workbook = load_workbook(file_path)\n",
    "writer = pd.ExcelWriter(file_path, engine='xlsxwriter')\n",
    "# writer.book = excel_workbook\n",
    "question_answer_excel = pd.DataFrame({\n",
    "    \"Question\": [],\n",
    "    \"Answer\": []\n",
    "})\n",
    "\n",
    "question_answer_excel.to_excel(writer,sheet_name='1')\n",
    "question_answer_excel.to_excel(writer,sheet_name='2')\n",
    "writer.close()\n"
   ]
  },
  {
   "cell_type": "code",
   "execution_count": 6,
   "metadata": {},
   "outputs": [],
   "source": [
    "writer = pd.ExcelWriter(file_path, engine='xlsxwriter')\n",
    "question_answer_excel.to_excel(writer,sheet_name='3')\n",
    "writer.close()"
   ]
  },
  {
   "cell_type": "code",
   "execution_count": 13,
   "metadata": {},
   "outputs": [],
   "source": [
    "import pandas as pd\n",
    "import numpy as np\n",
    "\n",
    "path = r\"D:\\OneDrive - Adani\\Desktop\\LEARNING_FOLDER\\_Kolkata_2024\\1_LLM\\3_Text_query_bot\\_docs\\benchmarking_qa.xlsx\"\n",
    "\n",
    "# book = load_workbook(path)\n",
    "writer = pd.ExcelWriter(path, engine = 'openpyxl',mode='w')\n",
    "# writer.book = book\n",
    "\n",
    "x3 = np.random.randn(100, 2)\n",
    "df3 = pd.DataFrame(x3)\n",
    "\n",
    "x4 = np.random.randn(100, 2)\n",
    "df4 = pd.DataFrame(x4)\n",
    "\n",
    "df3.to_excel(writer, sheet_name = 'x6')\n",
    "df4.to_excel(writer, sheet_name = 'x5')\n",
    "writer.close()\n"
   ]
  },
  {
   "cell_type": "code",
   "execution_count": 1,
   "metadata": {},
   "outputs": [
    {
     "data": {
      "text/plain": [
       "47.75"
      ]
     },
     "execution_count": 1,
     "metadata": {},
     "output_type": "execute_result"
    }
   ],
   "source": [
    "test = [\n",
    "    34,45,23,89\n",
    "]\n",
    "\n",
    "sum(test)/len(test)"
   ]
  },
  {
   "cell_type": "code",
   "execution_count": 7,
   "metadata": {},
   "outputs": [],
   "source": [
    "## Adding data to existing excel sheet\n",
    "\n",
    "example = pd.DataFrame({})\n",
    "\n"
   ]
  },
  {
   "cell_type": "code",
   "execution_count": 12,
   "metadata": {},
   "outputs": [],
   "source": [
    "import pandas as pd\n",
    "\n",
    "file_path = r\"D:\\OneDrive - Adani\\Desktop\\LEARNING_FOLDER\\_Kolkata_2024\\1_LLM\\3_Text_query_bot\\_docs\\accuracy_timecomp.xlsx\"\n",
    "# \"D:\\OneDrive - Adani\\Desktop\\LEARNING_FOLDER\\_Kolkata_2024\\1_LLM\\3_Text_query_bot\\_docs\\accuracy_timecomp.xlsx\"\n",
    "existing_file = file_path\n",
    "\n",
    "new_data = {\n",
    "    \"LLM\":['a'],\n",
    "    \"Embed LLM\":['b'],\n",
    "    \"LLM init time\": ['c'],\n",
    "    \"Embed LLM init time\": ['d'],\n",
    "    \"Document\": ['e'],\n",
    "    \"Vector store\": ['f'],\n",
    "    \"Vector store creation time\":['g'],\n",
    "    \"LLM response time(min)\": ['h'],\n",
    "    \"LLM response time(max)\": ['i'],\n",
    "    \"LLM response time(avg)\" : ['j']\n",
    "    \n",
    "}\n",
    "\n",
    "df_new = pd.DataFrame(new_data)\n",
    "\n",
    "## Reading existing data\n",
    "df_existing = pd.read_excel(file_path)\n",
    "\n",
    "\n",
    "# Append new data\n",
    "# df_combined = df_existing.append(df_new, ignore_index = True)\n",
    "\n",
    "df_combined = pd.concat([df_existing,df_new],ignore_index=True)\n",
    "\n",
    "# Save the combined data to Excel\n",
    "df_combined.to_excel(existing_file, index = False) "
   ]
  }
 ],
 "metadata": {
  "kernelspec": {
   "display_name": "Python 3",
   "language": "python",
   "name": "python3"
  },
  "language_info": {
   "codemirror_mode": {
    "name": "ipython",
    "version": 3
   },
   "file_extension": ".py",
   "mimetype": "text/x-python",
   "name": "python",
   "nbconvert_exporter": "python",
   "pygments_lexer": "ipython3",
   "version": "3.11.9"
  }
 },
 "nbformat": 4,
 "nbformat_minor": 2
}
