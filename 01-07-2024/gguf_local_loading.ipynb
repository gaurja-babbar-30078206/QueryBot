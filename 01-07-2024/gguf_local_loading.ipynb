{
 "cells": [
  {
   "cell_type": "markdown",
   "metadata": {},
   "source": [
    "# 1) GGUF Model Loading1:\n",
    "- ctransformers \n",
    "OllamaLLm and HuggingFaceEmbedding: mistralai/Mistral-7B-Instruct-v04\n",
    "gguf model = "
   ]
  },
  {
   "cell_type": "markdown",
   "metadata": {},
   "source": [
    "## Document Loader\n",
    "    pdf loader : langchain inbuilt document loader "
   ]
  },
  {
   "cell_type": "code",
   "execution_count": 10,
   "metadata": {},
   "outputs": [
    {
     "data": {
      "text/plain": [
       "4"
      ]
     },
     "execution_count": 10,
     "metadata": {},
     "output_type": "execute_result"
    }
   ],
   "source": [
    "from langchain_community.document_loaders import PyPDFLoader\n",
    "file_path = (\"Leave_Policy_2024.pdf\")\n",
    "loader = PyPDFLoader(file_path)\n",
    "pages = loader.load_and_split()\n",
    "len(pages)\n"
   ]
  },
  {
   "cell_type": "markdown",
   "metadata": {},
   "source": [
    "## Split\n",
    "    smaller chunks"
   ]
  },
  {
   "cell_type": "code",
   "execution_count": 11,
   "metadata": {},
   "outputs": [
    {
     "data": {
      "text/plain": [
       "15"
      ]
     },
     "execution_count": 11,
     "metadata": {},
     "output_type": "execute_result"
    }
   ],
   "source": [
    "from langchain_text_splitters import RecursiveCharacterTextSplitter\n",
    "\n",
    "text_splitter = RecursiveCharacterTextSplitter(chunk_size=1000, chunk_overlap=200)\n",
    "splits = text_splitter.split_documents(pages)\n",
    "len(splits)\n"
   ]
  },
  {
   "cell_type": "code",
   "execution_count": 12,
   "metadata": {},
   "outputs": [],
   "source": [
    "from langchain_huggingface import HuggingFaceEmbeddings\n",
    "from langchain_chroma import Chroma"
   ]
  },
  {
   "cell_type": "markdown",
   "metadata": {},
   "source": [
    "## Create vector store\n",
    "    stores embeddings of Documents"
   ]
  },
  {
   "cell_type": "code",
   "execution_count": 13,
   "metadata": {},
   "outputs": [],
   "source": [
    "from langchain_huggingface import HuggingFaceEmbeddings"
   ]
  },
  {
   "cell_type": "code",
   "execution_count": 14,
   "metadata": {},
   "outputs": [],
   "source": [
    "## Locally loading embedding\n",
    "### Still pending --------------------------->>>>>>>>>>>>>>\n",
    "# new_embeddings = HuggingFaceEmbeddings(cache_folder= r\"C:\\Users\\30078206\\Downloads\\sentence-transformersall-mpnet-base-v2\")\n"
   ]
  },
  {
   "cell_type": "code",
   "execution_count": 15,
   "metadata": {},
   "outputs": [
    {
     "name": "stderr",
     "output_type": "stream",
     "text": [
      "c:\\Users\\30078206\\AppData\\Local\\anaconda3\\envs\\myenv\\Lib\\site-packages\\huggingface_hub\\file_download.py:1132: FutureWarning: `resume_download` is deprecated and will be removed in version 1.0.0. Downloads always resume when possible. If you want to force a new download, use `force_download=True`.\n",
      "  warnings.warn(\n"
     ]
    },
    {
     "data": {
      "text/plain": [
       "<langchain_chroma.vectorstores.Chroma at 0x27aee494b90>"
      ]
     },
     "execution_count": 15,
     "metadata": {},
     "output_type": "execute_result"
    }
   ],
   "source": [
    "## Not local\n",
    "new_embeddings = HuggingFaceEmbeddings(model_name= \"sentence-transformers/all-mpnet-base-v2\")\n",
    "vectorstore = Chroma.from_documents(documents=splits, embedding=new_embeddings)\n",
    "vectorstore"
   ]
  },
  {
   "cell_type": "markdown",
   "metadata": {},
   "source": [
    "## Create retriever"
   ]
  },
  {
   "cell_type": "code",
   "execution_count": 16,
   "metadata": {},
   "outputs": [],
   "source": [
    "retriever = vectorstore.as_retriever(search_type=\"similarity\")"
   ]
  },
  {
   "cell_type": "code",
   "execution_count": 17,
   "metadata": {},
   "outputs": [],
   "source": [
    "from langchain_core.output_parsers import StrOutputParser\n",
    "from langchain_core.runnables import RunnablePassthrough"
   ]
  },
  {
   "cell_type": "markdown",
   "metadata": {},
   "source": [
    "### LLM Used:"
   ]
  },
  {
   "cell_type": "markdown",
   "metadata": {},
   "source": [
    "## Quantized model , using LLama.cpp "
   ]
  },
  {
   "cell_type": "markdown",
   "metadata": {},
   "source": [
    "### How to load gguf model in Python code:\n",
    "- using ctransformers\n",
    "- using llama-cpp-python "
   ]
  },
  {
   "cell_type": "code",
   "execution_count": 18,
   "metadata": {},
   "outputs": [
    {
     "name": "stdout",
     "output_type": "stream",
     "text": [
      "Note: you may need to restart the kernel to use updated packages.\n"
     ]
    }
   ],
   "source": [
    "pip -q install ctransformers"
   ]
  },
  {
   "cell_type": "code",
   "execution_count": 19,
   "metadata": {},
   "outputs": [],
   "source": [
    "from ctransformers import AutoModelForCausalLM"
   ]
  },
  {
   "cell_type": "code",
   "execution_count": 20,
   "metadata": {},
   "outputs": [],
   "source": [
    "model_path = r\"D:\\OneDrive - Adani\\Desktop\\LEARNING_FOLDER\\_Kolkata_2024\\1_LLM\\local_downloaded_models\\mistral_7B_v0.3\""
   ]
  },
  {
   "cell_type": "code",
   "execution_count": 21,
   "metadata": {},
   "outputs": [],
   "source": [
    "### did not work\n",
    "not_working_llm =AutoModelForCausalLM.from_pretrained(\n",
    "    model_path,\n",
    "    model_file = \"Mistral-7B-Instruct-v0.3.Q4_K_M.gguf\",\n",
    "    gpu_layers = 0\n",
    ")"
   ]
  },
  {
   "cell_type": "code",
   "execution_count": 22,
   "metadata": {},
   "outputs": [],
   "source": [
    "from langchain_community.llms import CTransformers"
   ]
  },
  {
   "cell_type": "code",
   "execution_count": 23,
   "metadata": {},
   "outputs": [],
   "source": [
    "model_path = r\"D:\\OneDrive - Adani\\Desktop\\LEARNING_FOLDER\\_Kolkata_2024\\1_LLM\\local_downloaded_models\\mistral_7B_v0.3\"\n",
    "llm = CTransformers(model= model_path, config={'max_new_tokens': 600,\n",
    "                              'temperature': 0.01,\n",
    "                              'context_length': 700})\n"
   ]
  },
  {
   "cell_type": "code",
   "execution_count": 24,
   "metadata": {},
   "outputs": [
    {
     "data": {
      "text/plain": [
       "' a term that encompasses a wide range of artistic styles and movements that emerged in the late 19th and early 20th centuries. It is characterized by a rejection of traditional forms and techniques, an emphasis on individual expression, and a focus on the artistic process rather than the finished product.\\n\\nSome of the most famous modern art movements include:\\n\\n* Impressionism (late 19th century): This movement was characterized by a focus on capturing the fleeting effects of light and color in outdoor scenes. Some famous impressionist artists include Claude Monet, Pierre-Auguste Renoir, and Edgar Degas.\\n* Post-Impressionism (late 19th century): This movement built upon the techniques of impressionism but pushed them further, often using bold colors and distorted forms to express emotion. Some famous post-impressionist artists include Vincent van Gogh, Paul Cézanne, and Georges Seurat.\\n* Fauvism (early 20th century): This movement was characterized by the use of bright, non-naturalistic colors and bold, simplified forms. Some famous fauvist artists include Henri Matisse and André Derain.\\n* Cubism (early 20th century): This movement was characterized by the breaking down of objects into geometric shapes and the rearrangement of those shapes in abstract patterns. Some famous cubist artists include Pablo Picasso and Georges Braque.\\n* Abstract Expressionism (mid-20th century): This movement was characterized by large, expressive paintings that were often created through gestural brushstrokes or other physical actions. Some famous abstract expressionist artists include Jackson Pollock, Mark Rothko, and Willem de Kooning.\\n\\nModern art continues to evolve and expand today, with new movements and styles emerging all the time. It is a dynamic and ever-changing field that reflects the changing values and attitudes of society.'"
      ]
     },
     "execution_count": 24,
     "metadata": {},
     "output_type": "execute_result"
    }
   ],
   "source": [
    "llm.invoke(\"modern art is\")"
   ]
  },
  {
   "cell_type": "markdown",
   "metadata": {},
   "source": [
    "### Creating Prompt"
   ]
  },
  {
   "cell_type": "code",
   "execution_count": 25,
   "metadata": {},
   "outputs": [],
   "source": [
    "from langchain.prompts import PromptTemplate"
   ]
  },
  {
   "cell_type": "code",
   "execution_count": 26,
   "metadata": {},
   "outputs": [],
   "source": [
    "\n",
    "QUERY_PROMPT = PromptTemplate(\n",
    "    input_variables=[\"question\"],\n",
    "    template=\"\"\"You are an AI language model assistant. Your task is to generate five\n",
    "    different versions of the given user question to retrieve relevant documents from\n",
    "    a vector database. By generating multiple perspectives on the user question, your\n",
    "    goal is to help the user overcome some of the limitations of the distance-based\n",
    "    similarity search. Provide these alternative questions separated by newlines.\n",
    "    Original question: {question}\"\"\",\n",
    ")\n"
   ]
  },
  {
   "cell_type": "markdown",
   "metadata": {},
   "source": [
    "### New Terms:\n",
    "- Multiqueryretriever: \n",
    "    - automates process of tuning\n",
    "    - to generate multiple queries from different perspective \n",
    "    - for each query- returns relevant documents,, takes union across all \n",
    "    - Overcomes the limitation of distance based retrieval\n"
   ]
  },
  {
   "cell_type": "code",
   "execution_count": 27,
   "metadata": {},
   "outputs": [],
   "source": [
    "from langchain.retrievers.multi_query import MultiQueryRetriever\n",
    "from langchain.prompts import ChatPromptTemplate"
   ]
  },
  {
   "cell_type": "code",
   "execution_count": 28,
   "metadata": {},
   "outputs": [],
   "source": [
    "retriever = MultiQueryRetriever.from_llm(\n",
    "    retriever, \n",
    "    llm,\n",
    "    prompt=QUERY_PROMPT\n",
    ")\n",
    "\n",
    "# RAG prompt\n",
    "template = \"\"\"Answer the question based ONLY on the following context:\n",
    "{context}\n",
    "Question: {question}\n",
    "\"\"\"\n",
    "\n",
    "prompt = ChatPromptTemplate.from_template(template)"
   ]
  },
  {
   "cell_type": "code",
   "execution_count": 29,
   "metadata": {},
   "outputs": [
    {
     "data": {
      "text/plain": [
       "MultiQueryRetriever(retriever=VectorStoreRetriever(tags=['Chroma', 'HuggingFaceEmbeddings'], vectorstore=<langchain_chroma.vectorstores.Chroma object at 0x0000027AEE494B90>), llm_chain=PromptTemplate(input_variables=['question'], template='You are an AI language model assistant. Your task is to generate five\\n    different versions of the given user question to retrieve relevant documents from\\n    a vector database. By generating multiple perspectives on the user question, your\\n    goal is to help the user overcome some of the limitations of the distance-based\\n    similarity search. Provide these alternative questions separated by newlines.\\n    Original question: {question}')\n",
       "| CTransformers(client=<ctransformers.llm.LLM object at 0x0000027AF2671C10>, model='D:\\\\OneDrive - Adani\\\\Desktop\\\\LEARNING_FOLDER\\\\_Kolkata_2024\\\\1_LLM\\\\local_downloaded_models\\\\mistral_7B_v0.3', config={'max_new_tokens': 600, 'temperature': 0.01, 'context_length': 700})\n",
       "| LineListOutputParser())"
      ]
     },
     "execution_count": 29,
     "metadata": {},
     "output_type": "execute_result"
    }
   ],
   "source": [
    "retriever"
   ]
  },
  {
   "cell_type": "code",
   "execution_count": 30,
   "metadata": {},
   "outputs": [],
   "source": [
    "import logging\n",
    "\n",
    "logging.basicConfig()\n",
    "logging.getLogger(\"langchain.retrievers.multi_query\").setLevel(logging.INFO)"
   ]
  },
  {
   "cell_type": "code",
   "execution_count": 31,
   "metadata": {},
   "outputs": [
    {
     "data": {
      "text/plain": [
       "CTransformers(client=<ctransformers.llm.LLM object at 0x0000027AF2671C10>, model='D:\\\\OneDrive - Adani\\\\Desktop\\\\LEARNING_FOLDER\\\\_Kolkata_2024\\\\1_LLM\\\\local_downloaded_models\\\\mistral_7B_v0.3', config={'max_new_tokens': 600, 'temperature': 0.01, 'context_length': 700})"
      ]
     },
     "execution_count": 31,
     "metadata": {},
     "output_type": "execute_result"
    }
   ],
   "source": [
    "llm"
   ]
  },
  {
   "cell_type": "code",
   "execution_count": 34,
   "metadata": {},
   "outputs": [],
   "source": [
    "## Plain QA Chain"
   ]
  },
  {
   "cell_type": "code",
   "execution_count": 35,
   "metadata": {},
   "outputs": [],
   "source": [
    "from langchain.chains.question_answering import load_qa_chain"
   ]
  },
  {
   "cell_type": "code",
   "execution_count": 36,
   "metadata": {},
   "outputs": [],
   "source": [
    "stuff_chain = load_qa_chain(llm, chain_type=\"stuff\")"
   ]
  },
  {
   "cell_type": "code",
   "execution_count": 37,
   "metadata": {},
   "outputs": [
    {
     "data": {
      "text/plain": [
       "\"Use the following pieces of context to answer the question at the end. If you don't know the answer, just say that you don't know, don't try to make up an answer.\\n\\n{context}\\n\\nQuestion: {question}\\nHelpful Answer:\""
      ]
     },
     "execution_count": 37,
     "metadata": {},
     "output_type": "execute_result"
    }
   ],
   "source": [
    "stuff_chain.llm_chain.prompt.template"
   ]
  },
  {
   "cell_type": "code",
   "execution_count": 38,
   "metadata": {},
   "outputs": [],
   "source": [
    "new_retriever = vectorstore.as_retriever(search_type=\"similarity\")"
   ]
  },
  {
   "cell_type": "code",
   "execution_count": null,
   "metadata": {},
   "outputs": [],
   "source": [
    "stuff_chain.invoke(inpu)"
   ]
  },
  {
   "cell_type": "code",
   "execution_count": 32,
   "metadata": {},
   "outputs": [],
   "source": [
    "chain = (\n",
    "    {\"context\": retriever, \"question\": RunnablePassthrough()}\n",
    "    | prompt\n",
    "    | llm\n",
    "    | StrOutputParser()\n",
    ")"
   ]
  },
  {
   "cell_type": "code",
   "execution_count": 33,
   "metadata": {},
   "outputs": [
    {
     "name": "stderr",
     "output_type": "stream",
     "text": [
      "INFO:langchain.retrievers.multi_query:Generated queries: ['its title \"The Impact of Climate Change on Agriculture\".', '', '1. Summarize the content of the article titled \"Climate Change Effects on Agriculture\".', '2. What does the document titled \"Impact of Global Warming on Farming\" discuss?', '3. Provide a brief overview of the paper entitled \"Agriculture and Climate Change: A Comprehensive Review\".', '4. Can you summarize the main points of the article with the title \"Climate Change\\'s Influence on Agricultural Practices\"?', '5. What is the focus of the document titled \"The Role of Climate Change in Shaping Modern Agriculture\"?']\n",
      "WARNING:ctransformers:Number of tokens (2061) exceeded maximum context length (700).\n",
      "WARNING:ctransformers:Number of tokens (2062) exceeded maximum context length (700).\n",
      "WARNING:ctransformers:Number of tokens (2063) exceeded maximum context length (700).\n",
      "WARNING:ctransformers:Number of tokens (2064) exceeded maximum context length (700).\n",
      "WARNING:ctransformers:Number of tokens (2065) exceeded maximum context length (700).\n",
      "WARNING:ctransformers:Number of tokens (2066) exceeded maximum context length (700).\n",
      "WARNING:ctransformers:Number of tokens (2067) exceeded maximum context length (700).\n",
      "WARNING:ctransformers:Number of tokens (2068) exceeded maximum context length (700).\n",
      "WARNING:ctransformers:Number of tokens (2069) exceeded maximum context length (700).\n",
      "WARNING:ctransformers:Number of tokens (2070) exceeded maximum context length (700).\n",
      "WARNING:ctransformers:Number of tokens (2071) exceeded maximum context length (700).\n",
      "WARNING:ctransformers:Number of tokens (2072) exceeded maximum context length (700).\n",
      "WARNING:ctransformers:Number of tokens (2073) exceeded maximum context length (700).\n",
      "WARNING:ctransformers:Number of tokens (2074) exceeded maximum context length (700).\n",
      "WARNING:ctransformers:Number of tokens (2075) exceeded maximum context length (700).\n",
      "WARNING:ctransformers:Number of tokens (2076) exceeded maximum context length (700).\n",
      "WARNING:ctransformers:Number of tokens (2077) exceeded maximum context length (700).\n",
      "WARNING:ctransformers:Number of tokens (2078) exceeded maximum context length (700).\n",
      "WARNING:ctransformers:Number of tokens (2079) exceeded maximum context length (700).\n",
      "WARNING:ctransformers:Number of tokens (2080) exceeded maximum context length (700).\n",
      "WARNING:ctransformers:Number of tokens (2081) exceeded maximum context length (700).\n",
      "WARNING:ctransformers:Number of tokens (2082) exceeded maximum context length (700).\n",
      "WARNING:ctransformers:Number of tokens (2083) exceeded maximum context length (700).\n",
      "WARNING:ctransformers:Number of tokens (2084) exceeded maximum context length (700).\n",
      "WARNING:ctransformers:Number of tokens (2085) exceeded maximum context length (700).\n",
      "WARNING:ctransformers:Number of tokens (2086) exceeded maximum context length (700).\n",
      "WARNING:ctransformers:Number of tokens (2087) exceeded maximum context length (700).\n",
      "WARNING:ctransformers:Number of tokens (2088) exceeded maximum context length (700).\n",
      "WARNING:ctransformers:Number of tokens (2089) exceeded maximum context length (700).\n",
      "WARNING:ctransformers:Number of tokens (2090) exceeded maximum context length (700).\n",
      "WARNING:ctransformers:Number of tokens (2091) exceeded maximum context length (700).\n",
      "WARNING:ctransformers:Number of tokens (2092) exceeded maximum context length (700).\n",
      "WARNING:ctransformers:Number of tokens (2093) exceeded maximum context length (700).\n",
      "WARNING:ctransformers:Number of tokens (2094) exceeded maximum context length (700).\n",
      "WARNING:ctransformers:Number of tokens (2095) exceeded maximum context length (700).\n",
      "WARNING:ctransformers:Number of tokens (2096) exceeded maximum context length (700).\n",
      "WARNING:ctransformers:Number of tokens (2097) exceeded maximum context length (700).\n",
      "WARNING:ctransformers:Number of tokens (2098) exceeded maximum context length (700).\n",
      "WARNING:ctransformers:Number of tokens (2099) exceeded maximum context length (700).\n",
      "WARNING:ctransformers:Number of tokens (2100) exceeded maximum context length (700).\n",
      "WARNING:ctransformers:Number of tokens (2101) exceeded maximum context length (700).\n",
      "WARNING:ctransformers:Number of tokens (2102) exceeded maximum context length (700).\n",
      "WARNING:ctransformers:Number of tokens (2103) exceeded maximum context length (700).\n",
      "WARNING:ctransformers:Number of tokens (2104) exceeded maximum context length (700).\n",
      "WARNING:ctransformers:Number of tokens (2105) exceeded maximum context length (700).\n",
      "WARNING:ctransformers:Number of tokens (2106) exceeded maximum context length (700).\n",
      "WARNING:ctransformers:Number of tokens (2107) exceeded maximum context length (700).\n",
      "WARNING:ctransformers:Number of tokens (2108) exceeded maximum context length (700).\n",
      "WARNING:ctransformers:Number of tokens (2109) exceeded maximum context length (700).\n",
      "WARNING:ctransformers:Number of tokens (2110) exceeded maximum context length (700).\n",
      "WARNING:ctransformers:Number of tokens (2111) exceeded maximum context length (700).\n",
      "WARNING:ctransformers:Number of tokens (2112) exceeded maximum context length (700).\n",
      "WARNING:ctransformers:Number of tokens (2113) exceeded maximum context length (700).\n",
      "WARNING:ctransformers:Number of tokens (2114) exceeded maximum context length (700).\n",
      "WARNING:ctransformers:Number of tokens (2115) exceeded maximum context length (700).\n",
      "WARNING:ctransformers:Number of tokens (2116) exceeded maximum context length (700).\n",
      "WARNING:ctransformers:Number of tokens (2117) exceeded maximum context length (700).\n",
      "WARNING:ctransformers:Number of tokens (2118) exceeded maximum context length (700).\n",
      "WARNING:ctransformers:Number of tokens (2119) exceeded maximum context length (700).\n",
      "WARNING:ctransformers:Number of tokens (2120) exceeded maximum context length (700).\n",
      "WARNING:ctransformers:Number of tokens (2121) exceeded maximum context length (700).\n",
      "WARNING:ctransformers:Number of tokens (2122) exceeded maximum context length (700).\n",
      "WARNING:ctransformers:Number of tokens (2123) exceeded maximum context length (700).\n",
      "WARNING:ctransformers:Number of tokens (2124) exceeded maximum context length (700).\n",
      "WARNING:ctransformers:Number of tokens (2125) exceeded maximum context length (700).\n",
      "WARNING:ctransformers:Number of tokens (2126) exceeded maximum context length (700).\n",
      "WARNING:ctransformers:Number of tokens (2127) exceeded maximum context length (700).\n",
      "WARNING:ctransformers:Number of tokens (2128) exceeded maximum context length (700).\n",
      "WARNING:ctransformers:Number of tokens (2129) exceeded maximum context length (700).\n",
      "WARNING:ctransformers:Number of tokens (2130) exceeded maximum context length (700).\n",
      "WARNING:ctransformers:Number of tokens (2131) exceeded maximum context length (700).\n",
      "WARNING:ctransformers:Number of tokens (2132) exceeded maximum context length (700).\n",
      "WARNING:ctransformers:Number of tokens (2133) exceeded maximum context length (700).\n",
      "WARNING:ctransformers:Number of tokens (2134) exceeded maximum context length (700).\n",
      "WARNING:ctransformers:Number of tokens (2135) exceeded maximum context length (700).\n",
      "WARNING:ctransformers:Number of tokens (2136) exceeded maximum context length (700).\n",
      "WARNING:ctransformers:Number of tokens (2137) exceeded maximum context length (700).\n",
      "WARNING:ctransformers:Number of tokens (2138) exceeded maximum context length (700).\n",
      "WARNING:ctransformers:Number of tokens (2139) exceeded maximum context length (700).\n",
      "WARNING:ctransformers:Number of tokens (2140) exceeded maximum context length (700).\n",
      "WARNING:ctransformers:Number of tokens (2141) exceeded maximum context length (700).\n",
      "WARNING:ctransformers:Number of tokens (2142) exceeded maximum context length (700).\n",
      "WARNING:ctransformers:Number of tokens (2143) exceeded maximum context length (700).\n",
      "WARNING:ctransformers:Number of tokens (2144) exceeded maximum context length (700).\n",
      "WARNING:ctransformers:Number of tokens (2145) exceeded maximum context length (700).\n",
      "WARNING:ctransformers:Number of tokens (2146) exceeded maximum context length (700).\n",
      "WARNING:ctransformers:Number of tokens (2147) exceeded maximum context length (700).\n",
      "WARNING:ctransformers:Number of tokens (2148) exceeded maximum context length (700).\n",
      "WARNING:ctransformers:Number of tokens (2149) exceeded maximum context length (700).\n",
      "WARNING:ctransformers:Number of tokens (2150) exceeded maximum context length (700).\n",
      "WARNING:ctransformers:Number of tokens (2151) exceeded maximum context length (700).\n",
      "WARNING:ctransformers:Number of tokens (2152) exceeded maximum context length (700).\n",
      "WARNING:ctransformers:Number of tokens (2153) exceeded maximum context length (700).\n",
      "WARNING:ctransformers:Number of tokens (2154) exceeded maximum context length (700).\n",
      "WARNING:ctransformers:Number of tokens (2155) exceeded maximum context length (700).\n",
      "WARNING:ctransformers:Number of tokens (2156) exceeded maximum context length (700).\n",
      "WARNING:ctransformers:Number of tokens (2157) exceeded maximum context length (700).\n",
      "WARNING:ctransformers:Number of tokens (2158) exceeded maximum context length (700).\n",
      "WARNING:ctransformers:Number of tokens (2159) exceeded maximum context length (700).\n",
      "WARNING:ctransformers:Number of tokens (2160) exceeded maximum context length (700).\n",
      "WARNING:ctransformers:Number of tokens (2161) exceeded maximum context length (700).\n",
      "WARNING:ctransformers:Number of tokens (2162) exceeded maximum context length (700).\n",
      "WARNING:ctransformers:Number of tokens (2163) exceeded maximum context length (700).\n",
      "WARNING:ctransformers:Number of tokens (2164) exceeded maximum context length (700).\n",
      "WARNING:ctransformers:Number of tokens (2165) exceeded maximum context length (700).\n",
      "WARNING:ctransformers:Number of tokens (2166) exceeded maximum context length (700).\n",
      "WARNING:ctransformers:Number of tokens (2167) exceeded maximum context length (700).\n",
      "WARNING:ctransformers:Number of tokens (2168) exceeded maximum context length (700).\n",
      "WARNING:ctransformers:Number of tokens (2169) exceeded maximum context length (700).\n",
      "WARNING:ctransformers:Number of tokens (2170) exceeded maximum context length (700).\n",
      "WARNING:ctransformers:Number of tokens (2171) exceeded maximum context length (700).\n",
      "WARNING:ctransformers:Number of tokens (2172) exceeded maximum context length (700).\n",
      "WARNING:ctransformers:Number of tokens (2173) exceeded maximum context length (700).\n",
      "WARNING:ctransformers:Number of tokens (2174) exceeded maximum context length (700).\n",
      "WARNING:ctransformers:Number of tokens (2175) exceeded maximum context length (700).\n",
      "WARNING:ctransformers:Number of tokens (2176) exceeded maximum context length (700).\n",
      "WARNING:ctransformers:Number of tokens (2177) exceeded maximum context length (700).\n",
      "WARNING:ctransformers:Number of tokens (2178) exceeded maximum context length (700).\n",
      "WARNING:ctransformers:Number of tokens (2179) exceeded maximum context length (700).\n",
      "WARNING:ctransformers:Number of tokens (2180) exceeded maximum context length (700).\n",
      "WARNING:ctransformers:Number of tokens (2181) exceeded maximum context length (700).\n",
      "WARNING:ctransformers:Number of tokens (2182) exceeded maximum context length (700).\n",
      "WARNING:ctransformers:Number of tokens (2183) exceeded maximum context length (700).\n",
      "WARNING:ctransformers:Number of tokens (2184) exceeded maximum context length (700).\n",
      "WARNING:ctransformers:Number of tokens (2185) exceeded maximum context length (700).\n",
      "WARNING:ctransformers:Number of tokens (2186) exceeded maximum context length (700).\n",
      "WARNING:ctransformers:Number of tokens (2187) exceeded maximum context length (700).\n",
      "WARNING:ctransformers:Number of tokens (2188) exceeded maximum context length (700).\n",
      "WARNING:ctransformers:Number of tokens (2189) exceeded maximum context length (700).\n",
      "WARNING:ctransformers:Number of tokens (2190) exceeded maximum context length (700).\n",
      "WARNING:ctransformers:Number of tokens (2191) exceeded maximum context length (700).\n",
      "WARNING:ctransformers:Number of tokens (2192) exceeded maximum context length (700).\n",
      "WARNING:ctransformers:Number of tokens (2193) exceeded maximum context length (700).\n",
      "WARNING:ctransformers:Number of tokens (2194) exceeded maximum context length (700).\n",
      "WARNING:ctransformers:Number of tokens (2195) exceeded maximum context length (700).\n",
      "WARNING:ctransformers:Number of tokens (2196) exceeded maximum context length (700).\n",
      "WARNING:ctransformers:Number of tokens (2197) exceeded maximum context length (700).\n",
      "WARNING:ctransformers:Number of tokens (2198) exceeded maximum context length (700).\n",
      "WARNING:ctransformers:Number of tokens (2199) exceeded maximum context length (700).\n",
      "WARNING:ctransformers:Number of tokens (2200) exceeded maximum context length (700).\n",
      "WARNING:ctransformers:Number of tokens (2201) exceeded maximum context length (700).\n",
      "WARNING:ctransformers:Number of tokens (2202) exceeded maximum context length (700).\n",
      "WARNING:ctransformers:Number of tokens (2203) exceeded maximum context length (700).\n",
      "WARNING:ctransformers:Number of tokens (2204) exceeded maximum context length (700).\n",
      "WARNING:ctransformers:Number of tokens (2205) exceeded maximum context length (700).\n",
      "WARNING:ctransformers:Number of tokens (2206) exceeded maximum context length (700).\n",
      "WARNING:ctransformers:Number of tokens (2207) exceeded maximum context length (700).\n",
      "WARNING:ctransformers:Number of tokens (2208) exceeded maximum context length (700).\n",
      "WARNING:ctransformers:Number of tokens (2209) exceeded maximum context length (700).\n",
      "WARNING:ctransformers:Number of tokens (2210) exceeded maximum context length (700).\n",
      "WARNING:ctransformers:Number of tokens (2211) exceeded maximum context length (700).\n",
      "WARNING:ctransformers:Number of tokens (2212) exceeded maximum context length (700).\n",
      "WARNING:ctransformers:Number of tokens (2213) exceeded maximum context length (700).\n",
      "WARNING:ctransformers:Number of tokens (2214) exceeded maximum context length (700).\n",
      "WARNING:ctransformers:Number of tokens (2215) exceeded maximum context length (700).\n",
      "WARNING:ctransformers:Number of tokens (2216) exceeded maximum context length (700).\n",
      "WARNING:ctransformers:Number of tokens (2217) exceeded maximum context length (700).\n",
      "WARNING:ctransformers:Number of tokens (2218) exceeded maximum context length (700).\n",
      "WARNING:ctransformers:Number of tokens (2219) exceeded maximum context length (700).\n",
      "WARNING:ctransformers:Number of tokens (2220) exceeded maximum context length (700).\n",
      "WARNING:ctransformers:Number of tokens (2221) exceeded maximum context length (700).\n",
      "WARNING:ctransformers:Number of tokens (2222) exceeded maximum context length (700).\n",
      "WARNING:ctransformers:Number of tokens (2223) exceeded maximum context length (700).\n",
      "WARNING:ctransformers:Number of tokens (2224) exceeded maximum context length (700).\n",
      "WARNING:ctransformers:Number of tokens (2225) exceeded maximum context length (700).\n",
      "WARNING:ctransformers:Number of tokens (2226) exceeded maximum context length (700).\n",
      "WARNING:ctransformers:Number of tokens (2227) exceeded maximum context length (700).\n",
      "WARNING:ctransformers:Number of tokens (2228) exceeded maximum context length (700).\n",
      "WARNING:ctransformers:Number of tokens (2229) exceeded maximum context length (700).\n",
      "WARNING:ctransformers:Number of tokens (2230) exceeded maximum context length (700).\n",
      "WARNING:ctransformers:Number of tokens (2231) exceeded maximum context length (700).\n",
      "WARNING:ctransformers:Number of tokens (2232) exceeded maximum context length (700).\n",
      "WARNING:ctransformers:Number of tokens (2233) exceeded maximum context length (700).\n",
      "WARNING:ctransformers:Number of tokens (2234) exceeded maximum context length (700).\n",
      "WARNING:ctransformers:Number of tokens (2235) exceeded maximum context length (700).\n",
      "WARNING:ctransformers:Number of tokens (2236) exceeded maximum context length (700).\n",
      "WARNING:ctransformers:Number of tokens (2237) exceeded maximum context length (700).\n",
      "WARNING:ctransformers:Number of tokens (2238) exceeded maximum context length (700).\n",
      "WARNING:ctransformers:Number of tokens (2239) exceeded maximum context length (700).\n",
      "WARNING:ctransformers:Number of tokens (2240) exceeded maximum context length (700).\n",
      "WARNING:ctransformers:Number of tokens (2241) exceeded maximum context length (700).\n",
      "WARNING:ctransformers:Number of tokens (2242) exceeded maximum context length (700).\n",
      "WARNING:ctransformers:Number of tokens (2243) exceeded maximum context length (700).\n",
      "WARNING:ctransformers:Number of tokens (2244) exceeded maximum context length (700).\n",
      "WARNING:ctransformers:Number of tokens (2245) exceeded maximum context length (700).\n",
      "WARNING:ctransformers:Number of tokens (2246) exceeded maximum context length (700).\n",
      "WARNING:ctransformers:Number of tokens (2247) exceeded maximum context length (700).\n",
      "WARNING:ctransformers:Number of tokens (2248) exceeded maximum context length (700).\n",
      "WARNING:ctransformers:Number of tokens (2249) exceeded maximum context length (700).\n",
      "WARNING:ctransformers:Number of tokens (2250) exceeded maximum context length (700).\n",
      "WARNING:ctransformers:Number of tokens (2251) exceeded maximum context length (700).\n",
      "WARNING:ctransformers:Number of tokens (2252) exceeded maximum context length (700).\n",
      "WARNING:ctransformers:Number of tokens (2253) exceeded maximum context length (700).\n",
      "WARNING:ctransformers:Number of tokens (2254) exceeded maximum context length (700).\n",
      "WARNING:ctransformers:Number of tokens (2255) exceeded maximum context length (700).\n",
      "WARNING:ctransformers:Number of tokens (2256) exceeded maximum context length (700).\n",
      "WARNING:ctransformers:Number of tokens (2257) exceeded maximum context length (700).\n",
      "WARNING:ctransformers:Number of tokens (2258) exceeded maximum context length (700).\n",
      "WARNING:ctransformers:Number of tokens (2259) exceeded maximum context length (700).\n",
      "WARNING:ctransformers:Number of tokens (2260) exceeded maximum context length (700).\n",
      "WARNING:ctransformers:Number of tokens (2261) exceeded maximum context length (700).\n",
      "WARNING:ctransformers:Number of tokens (2262) exceeded maximum context length (700).\n",
      "WARNING:ctransformers:Number of tokens (2263) exceeded maximum context length (700).\n",
      "WARNING:ctransformers:Number of tokens (2264) exceeded maximum context length (700).\n",
      "WARNING:ctransformers:Number of tokens (2265) exceeded maximum context length (700).\n",
      "WARNING:ctransformers:Number of tokens (2266) exceeded maximum context length (700).\n",
      "WARNING:ctransformers:Number of tokens (2267) exceeded maximum context length (700).\n",
      "WARNING:ctransformers:Number of tokens (2268) exceeded maximum context length (700).\n",
      "WARNING:ctransformers:Number of tokens (2269) exceeded maximum context length (700).\n",
      "WARNING:ctransformers:Number of tokens (2270) exceeded maximum context length (700).\n",
      "WARNING:ctransformers:Number of tokens (2271) exceeded maximum context length (700).\n",
      "WARNING:ctransformers:Number of tokens (2272) exceeded maximum context length (700).\n",
      "WARNING:ctransformers:Number of tokens (2273) exceeded maximum context length (700).\n",
      "WARNING:ctransformers:Number of tokens (2274) exceeded maximum context length (700).\n",
      "WARNING:ctransformers:Number of tokens (2275) exceeded maximum context length (700).\n",
      "WARNING:ctransformers:Number of tokens (2276) exceeded maximum context length (700).\n",
      "WARNING:ctransformers:Number of tokens (2277) exceeded maximum context length (700).\n",
      "WARNING:ctransformers:Number of tokens (2278) exceeded maximum context length (700).\n",
      "WARNING:ctransformers:Number of tokens (2279) exceeded maximum context length (700).\n",
      "WARNING:ctransformers:Number of tokens (2280) exceeded maximum context length (700).\n",
      "WARNING:ctransformers:Number of tokens (2281) exceeded maximum context length (700).\n",
      "WARNING:ctransformers:Number of tokens (2282) exceeded maximum context length (700).\n",
      "WARNING:ctransformers:Number of tokens (2283) exceeded maximum context length (700).\n",
      "WARNING:ctransformers:Number of tokens (2284) exceeded maximum context length (700).\n",
      "WARNING:ctransformers:Number of tokens (2285) exceeded maximum context length (700).\n",
      "WARNING:ctransformers:Number of tokens (2286) exceeded maximum context length (700).\n",
      "WARNING:ctransformers:Number of tokens (2287) exceeded maximum context length (700).\n",
      "WARNING:ctransformers:Number of tokens (2288) exceeded maximum context length (700).\n",
      "WARNING:ctransformers:Number of tokens (2289) exceeded maximum context length (700).\n",
      "WARNING:ctransformers:Number of tokens (2290) exceeded maximum context length (700).\n",
      "WARNING:ctransformers:Number of tokens (2291) exceeded maximum context length (700).\n",
      "WARNING:ctransformers:Number of tokens (2292) exceeded maximum context length (700).\n",
      "WARNING:ctransformers:Number of tokens (2293) exceeded maximum context length (700).\n",
      "WARNING:ctransformers:Number of tokens (2294) exceeded maximum context length (700).\n",
      "WARNING:ctransformers:Number of tokens (2295) exceeded maximum context length (700).\n",
      "WARNING:ctransformers:Number of tokens (2296) exceeded maximum context length (700).\n",
      "WARNING:ctransformers:Number of tokens (2297) exceeded maximum context length (700).\n",
      "WARNING:ctransformers:Number of tokens (2298) exceeded maximum context length (700).\n",
      "WARNING:ctransformers:Number of tokens (2299) exceeded maximum context length (700).\n",
      "WARNING:ctransformers:Number of tokens (2300) exceeded maximum context length (700).\n",
      "WARNING:ctransformers:Number of tokens (2301) exceeded maximum context length (700).\n",
      "WARNING:ctransformers:Number of tokens (2302) exceeded maximum context length (700).\n",
      "WARNING:ctransformers:Number of tokens (2303) exceeded maximum context length (700).\n",
      "WARNING:ctransformers:Number of tokens (2304) exceeded maximum context length (700).\n",
      "WARNING:ctransformers:Number of tokens (2305) exceeded maximum context length (700).\n",
      "WARNING:ctransformers:Number of tokens (2306) exceeded maximum context length (700).\n",
      "WARNING:ctransformers:Number of tokens (2307) exceeded maximum context length (700).\n",
      "WARNING:ctransformers:Number of tokens (2308) exceeded maximum context length (700).\n",
      "WARNING:ctransformers:Number of tokens (2309) exceeded maximum context length (700).\n",
      "WARNING:ctransformers:Number of tokens (2310) exceeded maximum context length (700).\n",
      "WARNING:ctransformers:Number of tokens (2311) exceeded maximum context length (700).\n",
      "WARNING:ctransformers:Number of tokens (2312) exceeded maximum context length (700).\n",
      "WARNING:ctransformers:Number of tokens (2313) exceeded maximum context length (700).\n",
      "WARNING:ctransformers:Number of tokens (2314) exceeded maximum context length (700).\n",
      "WARNING:ctransformers:Number of tokens (2315) exceeded maximum context length (700).\n",
      "WARNING:ctransformers:Number of tokens (2316) exceeded maximum context length (700).\n",
      "WARNING:ctransformers:Number of tokens (2317) exceeded maximum context length (700).\n",
      "WARNING:ctransformers:Number of tokens (2318) exceeded maximum context length (700).\n",
      "WARNING:ctransformers:Number of tokens (2319) exceeded maximum context length (700).\n",
      "WARNING:ctransformers:Number of tokens (2320) exceeded maximum context length (700).\n",
      "WARNING:ctransformers:Number of tokens (2321) exceeded maximum context length (700).\n",
      "WARNING:ctransformers:Number of tokens (2322) exceeded maximum context length (700).\n",
      "WARNING:ctransformers:Number of tokens (2323) exceeded maximum context length (700).\n",
      "WARNING:ctransformers:Number of tokens (2324) exceeded maximum context length (700).\n",
      "WARNING:ctransformers:Number of tokens (2325) exceeded maximum context length (700).\n",
      "WARNING:ctransformers:Number of tokens (2326) exceeded maximum context length (700).\n",
      "WARNING:ctransformers:Number of tokens (2327) exceeded maximum context length (700).\n",
      "WARNING:ctransformers:Number of tokens (2328) exceeded maximum context length (700).\n",
      "WARNING:ctransformers:Number of tokens (2329) exceeded maximum context length (700).\n",
      "WARNING:ctransformers:Number of tokens (2330) exceeded maximum context length (700).\n",
      "WARNING:ctransformers:Number of tokens (2331) exceeded maximum context length (700).\n",
      "WARNING:ctransformers:Number of tokens (2332) exceeded maximum context length (700).\n",
      "WARNING:ctransformers:Number of tokens (2333) exceeded maximum context length (700).\n",
      "WARNING:ctransformers:Number of tokens (2334) exceeded maximum context length (700).\n",
      "WARNING:ctransformers:Number of tokens (2335) exceeded maximum context length (700).\n",
      "WARNING:ctransformers:Number of tokens (2336) exceeded maximum context length (700).\n",
      "WARNING:ctransformers:Number of tokens (2337) exceeded maximum context length (700).\n",
      "WARNING:ctransformers:Number of tokens (2338) exceeded maximum context length (700).\n",
      "WARNING:ctransformers:Number of tokens (2339) exceeded maximum context length (700).\n",
      "WARNING:ctransformers:Number of tokens (2340) exceeded maximum context length (700).\n",
      "WARNING:ctransformers:Number of tokens (2341) exceeded maximum context length (700).\n",
      "WARNING:ctransformers:Number of tokens (2342) exceeded maximum context length (700).\n",
      "WARNING:ctransformers:Number of tokens (2343) exceeded maximum context length (700).\n",
      "WARNING:ctransformers:Number of tokens (2344) exceeded maximum context length (700).\n",
      "WARNING:ctransformers:Number of tokens (2345) exceeded maximum context length (700).\n",
      "WARNING:ctransformers:Number of tokens (2346) exceeded maximum context length (700).\n",
      "WARNING:ctransformers:Number of tokens (2347) exceeded maximum context length (700).\n",
      "WARNING:ctransformers:Number of tokens (2348) exceeded maximum context length (700).\n",
      "WARNING:ctransformers:Number of tokens (2349) exceeded maximum context length (700).\n",
      "WARNING:ctransformers:Number of tokens (2350) exceeded maximum context length (700).\n",
      "WARNING:ctransformers:Number of tokens (2351) exceeded maximum context length (700).\n",
      "WARNING:ctransformers:Number of tokens (2352) exceeded maximum context length (700).\n",
      "WARNING:ctransformers:Number of tokens (2353) exceeded maximum context length (700).\n",
      "WARNING:ctransformers:Number of tokens (2354) exceeded maximum context length (700).\n",
      "WARNING:ctransformers:Number of tokens (2355) exceeded maximum context length (700).\n",
      "WARNING:ctransformers:Number of tokens (2356) exceeded maximum context length (700).\n",
      "WARNING:ctransformers:Number of tokens (2357) exceeded maximum context length (700).\n",
      "WARNING:ctransformers:Number of tokens (2358) exceeded maximum context length (700).\n",
      "WARNING:ctransformers:Number of tokens (2359) exceeded maximum context length (700).\n",
      "WARNING:ctransformers:Number of tokens (2360) exceeded maximum context length (700).\n",
      "WARNING:ctransformers:Number of tokens (2361) exceeded maximum context length (700).\n",
      "WARNING:ctransformers:Number of tokens (2362) exceeded maximum context length (700).\n",
      "WARNING:ctransformers:Number of tokens (2363) exceeded maximum context length (700).\n",
      "WARNING:ctransformers:Number of tokens (2364) exceeded maximum context length (700).\n",
      "WARNING:ctransformers:Number of tokens (2365) exceeded maximum context length (700).\n",
      "WARNING:ctransformers:Number of tokens (2366) exceeded maximum context length (700).\n",
      "WARNING:ctransformers:Number of tokens (2367) exceeded maximum context length (700).\n",
      "WARNING:ctransformers:Number of tokens (2368) exceeded maximum context length (700).\n",
      "WARNING:ctransformers:Number of tokens (2369) exceeded maximum context length (700).\n",
      "WARNING:ctransformers:Number of tokens (2370) exceeded maximum context length (700).\n",
      "WARNING:ctransformers:Number of tokens (2371) exceeded maximum context length (700).\n",
      "WARNING:ctransformers:Number of tokens (2372) exceeded maximum context length (700).\n",
      "WARNING:ctransformers:Number of tokens (2373) exceeded maximum context length (700).\n",
      "WARNING:ctransformers:Number of tokens (2374) exceeded maximum context length (700).\n",
      "WARNING:ctransformers:Number of tokens (2375) exceeded maximum context length (700).\n",
      "WARNING:ctransformers:Number of tokens (2376) exceeded maximum context length (700).\n",
      "WARNING:ctransformers:Number of tokens (2377) exceeded maximum context length (700).\n",
      "WARNING:ctransformers:Number of tokens (2378) exceeded maximum context length (700).\n",
      "WARNING:ctransformers:Number of tokens (2379) exceeded maximum context length (700).\n",
      "WARNING:ctransformers:Number of tokens (2380) exceeded maximum context length (700).\n",
      "WARNING:ctransformers:Number of tokens (2381) exceeded maximum context length (700).\n",
      "WARNING:ctransformers:Number of tokens (2382) exceeded maximum context length (700).\n",
      "WARNING:ctransformers:Number of tokens (2383) exceeded maximum context length (700).\n",
      "WARNING:ctransformers:Number of tokens (2384) exceeded maximum context length (700).\n",
      "WARNING:ctransformers:Number of tokens (2385) exceeded maximum context length (700).\n",
      "WARNING:ctransformers:Number of tokens (2386) exceeded maximum context length (700).\n",
      "WARNING:ctransformers:Number of tokens (2387) exceeded maximum context length (700).\n",
      "WARNING:ctransformers:Number of tokens (2388) exceeded maximum context length (700).\n",
      "WARNING:ctransformers:Number of tokens (2389) exceeded maximum context length (700).\n",
      "WARNING:ctransformers:Number of tokens (2390) exceeded maximum context length (700).\n",
      "WARNING:ctransformers:Number of tokens (2391) exceeded maximum context length (700).\n",
      "WARNING:ctransformers:Number of tokens (2392) exceeded maximum context length (700).\n",
      "WARNING:ctransformers:Number of tokens (2393) exceeded maximum context length (700).\n",
      "WARNING:ctransformers:Number of tokens (2394) exceeded maximum context length (700).\n",
      "WARNING:ctransformers:Number of tokens (2395) exceeded maximum context length (700).\n",
      "WARNING:ctransformers:Number of tokens (2396) exceeded maximum context length (700).\n",
      "WARNING:ctransformers:Number of tokens (2397) exceeded maximum context length (700).\n",
      "WARNING:ctransformers:Number of tokens (2398) exceeded maximum context length (700).\n",
      "WARNING:ctransformers:Number of tokens (2399) exceeded maximum context length (700).\n",
      "WARNING:ctransformers:Number of tokens (2400) exceeded maximum context length (700).\n",
      "WARNING:ctransformers:Number of tokens (2401) exceeded maximum context length (700).\n",
      "WARNING:ctransformers:Number of tokens (2402) exceeded maximum context length (700).\n",
      "WARNING:ctransformers:Number of tokens (2403) exceeded maximum context length (700).\n",
      "WARNING:ctransformers:Number of tokens (2404) exceeded maximum context length (700).\n",
      "WARNING:ctransformers:Number of tokens (2405) exceeded maximum context length (700).\n",
      "WARNING:ctransformers:Number of tokens (2406) exceeded maximum context length (700).\n",
      "WARNING:ctransformers:Number of tokens (2407) exceeded maximum context length (700).\n",
      "WARNING:ctransformers:Number of tokens (2408) exceeded maximum context length (700).\n",
      "WARNING:ctransformers:Number of tokens (2409) exceeded maximum context length (700).\n",
      "WARNING:ctransformers:Number of tokens (2410) exceeded maximum context length (700).\n",
      "WARNING:ctransformers:Number of tokens (2411) exceeded maximum context length (700).\n",
      "WARNING:ctransformers:Number of tokens (2412) exceeded maximum context length (700).\n",
      "WARNING:ctransformers:Number of tokens (2413) exceeded maximum context length (700).\n",
      "WARNING:ctransformers:Number of tokens (2414) exceeded maximum context length (700).\n",
      "WARNING:ctransformers:Number of tokens (2415) exceeded maximum context length (700).\n",
      "WARNING:ctransformers:Number of tokens (2416) exceeded maximum context length (700).\n",
      "WARNING:ctransformers:Number of tokens (2417) exceeded maximum context length (700).\n",
      "WARNING:ctransformers:Number of tokens (2418) exceeded maximum context length (700).\n",
      "WARNING:ctransformers:Number of tokens (2419) exceeded maximum context length (700).\n",
      "WARNING:ctransformers:Number of tokens (2420) exceeded maximum context length (700).\n",
      "WARNING:ctransformers:Number of tokens (2421) exceeded maximum context length (700).\n",
      "WARNING:ctransformers:Number of tokens (2422) exceeded maximum context length (700).\n",
      "WARNING:ctransformers:Number of tokens (2423) exceeded maximum context length (700).\n",
      "WARNING:ctransformers:Number of tokens (2424) exceeded maximum context length (700).\n",
      "WARNING:ctransformers:Number of tokens (2425) exceeded maximum context length (700).\n",
      "WARNING:ctransformers:Number of tokens (2426) exceeded maximum context length (700).\n",
      "WARNING:ctransformers:Number of tokens (2427) exceeded maximum context length (700).\n",
      "WARNING:ctransformers:Number of tokens (2428) exceeded maximum context length (700).\n",
      "WARNING:ctransformers:Number of tokens (2429) exceeded maximum context length (700).\n",
      "WARNING:ctransformers:Number of tokens (2430) exceeded maximum context length (700).\n",
      "WARNING:ctransformers:Number of tokens (2431) exceeded maximum context length (700).\n",
      "WARNING:ctransformers:Number of tokens (2432) exceeded maximum context length (700).\n",
      "WARNING:ctransformers:Number of tokens (2433) exceeded maximum context length (700).\n",
      "WARNING:ctransformers:Number of tokens (2434) exceeded maximum context length (700).\n",
      "WARNING:ctransformers:Number of tokens (2435) exceeded maximum context length (700).\n",
      "WARNING:ctransformers:Number of tokens (2436) exceeded maximum context length (700).\n",
      "WARNING:ctransformers:Number of tokens (2437) exceeded maximum context length (700).\n",
      "WARNING:ctransformers:Number of tokens (2438) exceeded maximum context length (700).\n",
      "WARNING:ctransformers:Number of tokens (2439) exceeded maximum context length (700).\n",
      "WARNING:ctransformers:Number of tokens (2440) exceeded maximum context length (700).\n",
      "WARNING:ctransformers:Number of tokens (2441) exceeded maximum context length (700).\n",
      "WARNING:ctransformers:Number of tokens (2442) exceeded maximum context length (700).\n",
      "WARNING:ctransformers:Number of tokens (2443) exceeded maximum context length (700).\n",
      "WARNING:ctransformers:Number of tokens (2444) exceeded maximum context length (700).\n",
      "WARNING:ctransformers:Number of tokens (2445) exceeded maximum context length (700).\n",
      "WARNING:ctransformers:Number of tokens (2446) exceeded maximum context length (700).\n",
      "WARNING:ctransformers:Number of tokens (2447) exceeded maximum context length (700).\n",
      "WARNING:ctransformers:Number of tokens (2448) exceeded maximum context length (700).\n",
      "WARNING:ctransformers:Number of tokens (2449) exceeded maximum context length (700).\n",
      "WARNING:ctransformers:Number of tokens (2450) exceeded maximum context length (700).\n",
      "WARNING:ctransformers:Number of tokens (2451) exceeded maximum context length (700).\n",
      "WARNING:ctransformers:Number of tokens (2452) exceeded maximum context length (700).\n",
      "WARNING:ctransformers:Number of tokens (2453) exceeded maximum context length (700).\n",
      "WARNING:ctransformers:Number of tokens (2454) exceeded maximum context length (700).\n",
      "WARNING:ctransformers:Number of tokens (2455) exceeded maximum context length (700).\n",
      "WARNING:ctransformers:Number of tokens (2456) exceeded maximum context length (700).\n",
      "WARNING:ctransformers:Number of tokens (2457) exceeded maximum context length (700).\n",
      "WARNING:ctransformers:Number of tokens (2458) exceeded maximum context length (700).\n",
      "WARNING:ctransformers:Number of tokens (2459) exceeded maximum context length (700).\n",
      "WARNING:ctransformers:Number of tokens (2460) exceeded maximum context length (700).\n",
      "WARNING:ctransformers:Number of tokens (2461) exceeded maximum context length (700).\n",
      "WARNING:ctransformers:Number of tokens (2462) exceeded maximum context length (700).\n",
      "WARNING:ctransformers:Number of tokens (2463) exceeded maximum context length (700).\n",
      "WARNING:ctransformers:Number of tokens (2464) exceeded maximum context length (700).\n",
      "WARNING:ctransformers:Number of tokens (2465) exceeded maximum context length (700).\n",
      "WARNING:ctransformers:Number of tokens (2466) exceeded maximum context length (700).\n",
      "WARNING:ctransformers:Number of tokens (2467) exceeded maximum context length (700).\n",
      "WARNING:ctransformers:Number of tokens (2468) exceeded maximum context length (700).\n",
      "WARNING:ctransformers:Number of tokens (2469) exceeded maximum context length (700).\n",
      "WARNING:ctransformers:Number of tokens (2470) exceeded maximum context length (700).\n",
      "WARNING:ctransformers:Number of tokens (2471) exceeded maximum context length (700).\n",
      "WARNING:ctransformers:Number of tokens (2472) exceeded maximum context length (700).\n",
      "WARNING:ctransformers:Number of tokens (2473) exceeded maximum context length (700).\n",
      "WARNING:ctransformers:Number of tokens (2474) exceeded maximum context length (700).\n",
      "WARNING:ctransformers:Number of tokens (2475) exceeded maximum context length (700).\n",
      "WARNING:ctransformers:Number of tokens (2476) exceeded maximum context length (700).\n",
      "WARNING:ctransformers:Number of tokens (2477) exceeded maximum context length (700).\n",
      "WARNING:ctransformers:Number of tokens (2478) exceeded maximum context length (700).\n",
      "WARNING:ctransformers:Number of tokens (2479) exceeded maximum context length (700).\n",
      "WARNING:ctransformers:Number of tokens (2480) exceeded maximum context length (700).\n",
      "WARNING:ctransformers:Number of tokens (2481) exceeded maximum context length (700).\n",
      "WARNING:ctransformers:Number of tokens (2482) exceeded maximum context length (700).\n",
      "WARNING:ctransformers:Number of tokens (2483) exceeded maximum context length (700).\n",
      "WARNING:ctransformers:Number of tokens (2484) exceeded maximum context length (700).\n",
      "WARNING:ctransformers:Number of tokens (2485) exceeded maximum context length (700).\n",
      "WARNING:ctransformers:Number of tokens (2486) exceeded maximum context length (700).\n",
      "WARNING:ctransformers:Number of tokens (2487) exceeded maximum context length (700).\n",
      "WARNING:ctransformers:Number of tokens (2488) exceeded maximum context length (700).\n",
      "WARNING:ctransformers:Number of tokens (2489) exceeded maximum context length (700).\n",
      "WARNING:ctransformers:Number of tokens (2490) exceeded maximum context length (700).\n",
      "WARNING:ctransformers:Number of tokens (2491) exceeded maximum context length (700).\n",
      "WARNING:ctransformers:Number of tokens (2492) exceeded maximum context length (700).\n",
      "WARNING:ctransformers:Number of tokens (2493) exceeded maximum context length (700).\n",
      "WARNING:ctransformers:Number of tokens (2494) exceeded maximum context length (700).\n",
      "WARNING:ctransformers:Number of tokens (2495) exceeded maximum context length (700).\n",
      "WARNING:ctransformers:Number of tokens (2496) exceeded maximum context length (700).\n",
      "WARNING:ctransformers:Number of tokens (2497) exceeded maximum context length (700).\n",
      "WARNING:ctransformers:Number of tokens (2498) exceeded maximum context length (700).\n",
      "WARNING:ctransformers:Number of tokens (2499) exceeded maximum context length (700).\n",
      "WARNING:ctransformers:Number of tokens (2500) exceeded maximum context length (700).\n",
      "WARNING:ctransformers:Number of tokens (2501) exceeded maximum context length (700).\n",
      "WARNING:ctransformers:Number of tokens (2502) exceeded maximum context length (700).\n",
      "WARNING:ctransformers:Number of tokens (2503) exceeded maximum context length (700).\n",
      "WARNING:ctransformers:Number of tokens (2504) exceeded maximum context length (700).\n",
      "WARNING:ctransformers:Number of tokens (2505) exceeded maximum context length (700).\n",
      "WARNING:ctransformers:Number of tokens (2506) exceeded maximum context length (700).\n",
      "WARNING:ctransformers:Number of tokens (2507) exceeded maximum context length (700).\n",
      "WARNING:ctransformers:Number of tokens (2508) exceeded maximum context length (700).\n",
      "WARNING:ctransformers:Number of tokens (2509) exceeded maximum context length (700).\n",
      "WARNING:ctransformers:Number of tokens (2510) exceeded maximum context length (700).\n",
      "WARNING:ctransformers:Number of tokens (2511) exceeded maximum context length (700).\n",
      "WARNING:ctransformers:Number of tokens (2512) exceeded maximum context length (700).\n",
      "WARNING:ctransformers:Number of tokens (2513) exceeded maximum context length (700).\n",
      "WARNING:ctransformers:Number of tokens (2514) exceeded maximum context length (700).\n",
      "WARNING:ctransformers:Number of tokens (2515) exceeded maximum context length (700).\n",
      "WARNING:ctransformers:Number of tokens (2516) exceeded maximum context length (700).\n",
      "WARNING:ctransformers:Number of tokens (2517) exceeded maximum context length (700).\n",
      "WARNING:ctransformers:Number of tokens (2518) exceeded maximum context length (700).\n",
      "WARNING:ctransformers:Number of tokens (2519) exceeded maximum context length (700).\n",
      "WARNING:ctransformers:Number of tokens (2520) exceeded maximum context length (700).\n",
      "WARNING:ctransformers:Number of tokens (2521) exceeded maximum context length (700).\n",
      "WARNING:ctransformers:Number of tokens (2522) exceeded maximum context length (700).\n",
      "WARNING:ctransformers:Number of tokens (2523) exceeded maximum context length (700).\n",
      "WARNING:ctransformers:Number of tokens (2524) exceeded maximum context length (700).\n",
      "WARNING:ctransformers:Number of tokens (2525) exceeded maximum context length (700).\n",
      "WARNING:ctransformers:Number of tokens (2526) exceeded maximum context length (700).\n",
      "WARNING:ctransformers:Number of tokens (2527) exceeded maximum context length (700).\n",
      "WARNING:ctransformers:Number of tokens (2528) exceeded maximum context length (700).\n",
      "WARNING:ctransformers:Number of tokens (2529) exceeded maximum context length (700).\n",
      "WARNING:ctransformers:Number of tokens (2530) exceeded maximum context length (700).\n",
      "WARNING:ctransformers:Number of tokens (2531) exceeded maximum context length (700).\n",
      "WARNING:ctransformers:Number of tokens (2532) exceeded maximum context length (700).\n",
      "WARNING:ctransformers:Number of tokens (2533) exceeded maximum context length (700).\n",
      "WARNING:ctransformers:Number of tokens (2534) exceeded maximum context length (700).\n",
      "WARNING:ctransformers:Number of tokens (2535) exceeded maximum context length (700).\n",
      "WARNING:ctransformers:Number of tokens (2536) exceeded maximum context length (700).\n",
      "WARNING:ctransformers:Number of tokens (2537) exceeded maximum context length (700).\n",
      "WARNING:ctransformers:Number of tokens (2538) exceeded maximum context length (700).\n",
      "WARNING:ctransformers:Number of tokens (2539) exceeded maximum context length (700).\n",
      "WARNING:ctransformers:Number of tokens (2540) exceeded maximum context length (700).\n",
      "WARNING:ctransformers:Number of tokens (2541) exceeded maximum context length (700).\n",
      "WARNING:ctransformers:Number of tokens (2542) exceeded maximum context length (700).\n",
      "WARNING:ctransformers:Number of tokens (2543) exceeded maximum context length (700).\n",
      "WARNING:ctransformers:Number of tokens (2544) exceeded maximum context length (700).\n",
      "WARNING:ctransformers:Number of tokens (2545) exceeded maximum context length (700).\n",
      "WARNING:ctransformers:Number of tokens (2546) exceeded maximum context length (700).\n",
      "WARNING:ctransformers:Number of tokens (2547) exceeded maximum context length (700).\n",
      "WARNING:ctransformers:Number of tokens (2548) exceeded maximum context length (700).\n",
      "WARNING:ctransformers:Number of tokens (2549) exceeded maximum context length (700).\n",
      "WARNING:ctransformers:Number of tokens (2550) exceeded maximum context length (700).\n",
      "WARNING:ctransformers:Number of tokens (2551) exceeded maximum context length (700).\n",
      "WARNING:ctransformers:Number of tokens (2552) exceeded maximum context length (700).\n",
      "WARNING:ctransformers:Number of tokens (2553) exceeded maximum context length (700).\n",
      "WARNING:ctransformers:Number of tokens (2554) exceeded maximum context length (700).\n",
      "WARNING:ctransformers:Number of tokens (2555) exceeded maximum context length (700).\n",
      "WARNING:ctransformers:Number of tokens (2556) exceeded maximum context length (700).\n",
      "WARNING:ctransformers:Number of tokens (2557) exceeded maximum context length (700).\n",
      "WARNING:ctransformers:Number of tokens (2558) exceeded maximum context length (700).\n",
      "WARNING:ctransformers:Number of tokens (2559) exceeded maximum context length (700).\n",
      "WARNING:ctransformers:Number of tokens (2560) exceeded maximum context length (700).\n",
      "WARNING:ctransformers:Number of tokens (2561) exceeded maximum context length (700).\n",
      "WARNING:ctransformers:Number of tokens (2562) exceeded maximum context length (700).\n",
      "WARNING:ctransformers:Number of tokens (2563) exceeded maximum context length (700).\n",
      "WARNING:ctransformers:Number of tokens (2564) exceeded maximum context length (700).\n",
      "WARNING:ctransformers:Number of tokens (2565) exceeded maximum context length (700).\n",
      "WARNING:ctransformers:Number of tokens (2566) exceeded maximum context length (700).\n",
      "WARNING:ctransformers:Number of tokens (2567) exceeded maximum context length (700).\n",
      "WARNING:ctransformers:Number of tokens (2568) exceeded maximum context length (700).\n",
      "WARNING:ctransformers:Number of tokens (2569) exceeded maximum context length (700).\n",
      "WARNING:ctransformers:Number of tokens (2570) exceeded maximum context length (700).\n",
      "WARNING:ctransformers:Number of tokens (2571) exceeded maximum context length (700).\n",
      "WARNING:ctransformers:Number of tokens (2572) exceeded maximum context length (700).\n",
      "WARNING:ctransformers:Number of tokens (2573) exceeded maximum context length (700).\n",
      "WARNING:ctransformers:Number of tokens (2574) exceeded maximum context length (700).\n",
      "WARNING:ctransformers:Number of tokens (2575) exceeded maximum context length (700).\n",
      "WARNING:ctransformers:Number of tokens (2576) exceeded maximum context length (700).\n",
      "WARNING:ctransformers:Number of tokens (2577) exceeded maximum context length (700).\n",
      "WARNING:ctransformers:Number of tokens (2578) exceeded maximum context length (700).\n",
      "WARNING:ctransformers:Number of tokens (2579) exceeded maximum context length (700).\n",
      "WARNING:ctransformers:Number of tokens (2580) exceeded maximum context length (700).\n",
      "WARNING:ctransformers:Number of tokens (2581) exceeded maximum context length (700).\n",
      "WARNING:ctransformers:Number of tokens (2582) exceeded maximum context length (700).\n",
      "WARNING:ctransformers:Number of tokens (2583) exceeded maximum context length (700).\n",
      "WARNING:ctransformers:Number of tokens (2584) exceeded maximum context length (700).\n",
      "WARNING:ctransformers:Number of tokens (2585) exceeded maximum context length (700).\n",
      "WARNING:ctransformers:Number of tokens (2586) exceeded maximum context length (700).\n",
      "WARNING:ctransformers:Number of tokens (2587) exceeded maximum context length (700).\n",
      "WARNING:ctransformers:Number of tokens (2588) exceeded maximum context length (700).\n",
      "WARNING:ctransformers:Number of tokens (2589) exceeded maximum context length (700).\n",
      "WARNING:ctransformers:Number of tokens (2590) exceeded maximum context length (700).\n",
      "WARNING:ctransformers:Number of tokens (2591) exceeded maximum context length (700).\n",
      "WARNING:ctransformers:Number of tokens (2592) exceeded maximum context length (700).\n",
      "WARNING:ctransformers:Number of tokens (2593) exceeded maximum context length (700).\n",
      "WARNING:ctransformers:Number of tokens (2594) exceeded maximum context length (700).\n",
      "WARNING:ctransformers:Number of tokens (2595) exceeded maximum context length (700).\n",
      "WARNING:ctransformers:Number of tokens (2596) exceeded maximum context length (700).\n",
      "WARNING:ctransformers:Number of tokens (2597) exceeded maximum context length (700).\n",
      "WARNING:ctransformers:Number of tokens (2598) exceeded maximum context length (700).\n",
      "WARNING:ctransformers:Number of tokens (2599) exceeded maximum context length (700).\n",
      "WARNING:ctransformers:Number of tokens (2600) exceeded maximum context length (700).\n",
      "WARNING:ctransformers:Number of tokens (2601) exceeded maximum context length (700).\n",
      "WARNING:ctransformers:Number of tokens (2602) exceeded maximum context length (700).\n",
      "WARNING:ctransformers:Number of tokens (2603) exceeded maximum context length (700).\n",
      "WARNING:ctransformers:Number of tokens (2604) exceeded maximum context length (700).\n",
      "WARNING:ctransformers:Number of tokens (2605) exceeded maximum context length (700).\n",
      "WARNING:ctransformers:Number of tokens (2606) exceeded maximum context length (700).\n",
      "WARNING:ctransformers:Number of tokens (2607) exceeded maximum context length (700).\n",
      "WARNING:ctransformers:Number of tokens (2608) exceeded maximum context length (700).\n",
      "WARNING:ctransformers:Number of tokens (2609) exceeded maximum context length (700).\n",
      "WARNING:ctransformers:Number of tokens (2610) exceeded maximum context length (700).\n",
      "WARNING:ctransformers:Number of tokens (2611) exceeded maximum context length (700).\n",
      "WARNING:ctransformers:Number of tokens (2612) exceeded maximum context length (700).\n",
      "WARNING:ctransformers:Number of tokens (2613) exceeded maximum context length (700).\n",
      "WARNING:ctransformers:Number of tokens (2614) exceeded maximum context length (700).\n",
      "WARNING:ctransformers:Number of tokens (2615) exceeded maximum context length (700).\n",
      "WARNING:ctransformers:Number of tokens (2616) exceeded maximum context length (700).\n",
      "WARNING:ctransformers:Number of tokens (2617) exceeded maximum context length (700).\n",
      "WARNING:ctransformers:Number of tokens (2618) exceeded maximum context length (700).\n",
      "WARNING:ctransformers:Number of tokens (2619) exceeded maximum context length (700).\n",
      "WARNING:ctransformers:Number of tokens (2620) exceeded maximum context length (700).\n",
      "WARNING:ctransformers:Number of tokens (2621) exceeded maximum context length (700).\n",
      "WARNING:ctransformers:Number of tokens (2622) exceeded maximum context length (700).\n",
      "WARNING:ctransformers:Number of tokens (2623) exceeded maximum context length (700).\n",
      "WARNING:ctransformers:Number of tokens (2624) exceeded maximum context length (700).\n",
      "WARNING:ctransformers:Number of tokens (2625) exceeded maximum context length (700).\n",
      "WARNING:ctransformers:Number of tokens (2626) exceeded maximum context length (700).\n",
      "WARNING:ctransformers:Number of tokens (2627) exceeded maximum context length (700).\n",
      "WARNING:ctransformers:Number of tokens (2628) exceeded maximum context length (700).\n",
      "WARNING:ctransformers:Number of tokens (2629) exceeded maximum context length (700).\n",
      "WARNING:ctransformers:Number of tokens (2630) exceeded maximum context length (700).\n",
      "WARNING:ctransformers:Number of tokens (2631) exceeded maximum context length (700).\n",
      "WARNING:ctransformers:Number of tokens (2632) exceeded maximum context length (700).\n",
      "WARNING:ctransformers:Number of tokens (2633) exceeded maximum context length (700).\n",
      "WARNING:ctransformers:Number of tokens (2634) exceeded maximum context length (700).\n",
      "WARNING:ctransformers:Number of tokens (2635) exceeded maximum context length (700).\n",
      "WARNING:ctransformers:Number of tokens (2636) exceeded maximum context length (700).\n",
      "WARNING:ctransformers:Number of tokens (2637) exceeded maximum context length (700).\n",
      "WARNING:ctransformers:Number of tokens (2638) exceeded maximum context length (700).\n",
      "WARNING:ctransformers:Number of tokens (2639) exceeded maximum context length (700).\n",
      "WARNING:ctransformers:Number of tokens (2640) exceeded maximum context length (700).\n",
      "WARNING:ctransformers:Number of tokens (2641) exceeded maximum context length (700).\n",
      "WARNING:ctransformers:Number of tokens (2642) exceeded maximum context length (700).\n",
      "WARNING:ctransformers:Number of tokens (2643) exceeded maximum context length (700).\n",
      "WARNING:ctransformers:Number of tokens (2644) exceeded maximum context length (700).\n",
      "WARNING:ctransformers:Number of tokens (2645) exceeded maximum context length (700).\n",
      "WARNING:ctransformers:Number of tokens (2646) exceeded maximum context length (700).\n",
      "WARNING:ctransformers:Number of tokens (2647) exceeded maximum context length (700).\n",
      "WARNING:ctransformers:Number of tokens (2648) exceeded maximum context length (700).\n",
      "WARNING:ctransformers:Number of tokens (2649) exceeded maximum context length (700).\n",
      "WARNING:ctransformers:Number of tokens (2650) exceeded maximum context length (700).\n",
      "WARNING:ctransformers:Number of tokens (2651) exceeded maximum context length (700).\n",
      "WARNING:ctransformers:Number of tokens (2652) exceeded maximum context length (700).\n",
      "WARNING:ctransformers:Number of tokens (2653) exceeded maximum context length (700).\n",
      "WARNING:ctransformers:Number of tokens (2654) exceeded maximum context length (700).\n",
      "WARNING:ctransformers:Number of tokens (2655) exceeded maximum context length (700).\n",
      "WARNING:ctransformers:Number of tokens (2656) exceeded maximum context length (700).\n",
      "WARNING:ctransformers:Number of tokens (2657) exceeded maximum context length (700).\n",
      "WARNING:ctransformers:Number of tokens (2658) exceeded maximum context length (700).\n",
      "WARNING:ctransformers:Number of tokens (2659) exceeded maximum context length (700).\n",
      "WARNING:ctransformers:Number of tokens (2660) exceeded maximum context length (700).\n",
      "WARNING:ctransformers:Number of tokens (2661) exceeded maximum context length (700).\n"
     ]
    }
   ],
   "source": [
    "questions = chain.invoke(\"Give a summary of the document given\")"
   ]
  },
  {
   "cell_type": "code",
   "execution_count": 56,
   "metadata": {},
   "outputs": [
    {
     "name": "stdout",
     "output_type": "stream",
     "text": [
      "What is: What is:\n",
      "What type:\n",
      "What type [1 = { \"Leave Policy for this version HRL: What is: What does not included here...\n",
      "\n",
      "\n",
      "\n",
      "\n",
      "\n",
      "-\n",
      "1 about Privile 'Leave Policy on leave policy regarding entitle Leave_context are:\n",
      "1?\n",
      "\n",
      "\n",
      "\n",
      "\n",
      "\n",
      "\n",
      "\n",
      "\n",
      "\n",
      "\n",
      "\n",
      "What is: What is: What type are based only regarding Entitself.\n",
      "\n",
      "\n",
      "\n",
      "\n",
      "\n",
      "\n",
      "\n",
      "What is \"Leave Policy regarding the entitle, with respect to answer the definition of Leave Policy:\n",
      "How many ways to you provided here, about types and answer the definition?\n",
      "What is: What is: What is: What is: What is: What is as follows:\n",
      "What type multiple choice 1? What does not answered as needed: \"Leave_id 1: What is: What is: What is: What is: What is:\n",
      "-\n",
      "An employee earns provided?\n",
      "\n",
      "What is: What is: What is: What is: What is: What is: What is: What is: What is: What is: What is: What is \"Leave Policy regarding leave policy?\n",
      "What type of the entitself.\n"
     ]
    }
   ],
   "source": [
    "print(questions)"
   ]
  },
  {
   "cell_type": "code",
   "execution_count": null,
   "metadata": {},
   "outputs": [],
   "source": [
    "import re"
   ]
  },
  {
   "cell_type": "code",
   "execution_count": null,
   "metadata": {},
   "outputs": [],
   "source": [
    "answer =re.sub(r'[0-9]','',questions)\n",
    "question_list = answer.split('\\n')\n",
    "question_list"
   ]
  },
  {
   "cell_type": "code",
   "execution_count": null,
   "metadata": {},
   "outputs": [],
   "source": [
    "chain.invoke(question_list[0])"
   ]
  },
  {
   "cell_type": "code",
   "execution_count": null,
   "metadata": {},
   "outputs": [],
   "source": [
    "''' Taking too much time'''\n",
    "# answer_list = []\n",
    "# for question in question_list:\n",
    "#     ans = chain.invoke(question)\n",
    "#     answer_list.append(ans)"
   ]
  },
  {
   "cell_type": "code",
   "execution_count": null,
   "metadata": {},
   "outputs": [],
   "source": [
    "print(\"ANSWERS-----\")\n",
    "# print(answer_list)"
   ]
  },
  {
   "cell_type": "code",
   "execution_count": null,
   "metadata": {},
   "outputs": [],
   "source": [
    "question_bank = [\n",
    "    \"Give me a summary of the document\",\n",
    "    \"Tell me all about the leaves\",\n",
    "    \"Make a list of questions from the document\"\n",
    "]"
   ]
  },
  {
   "cell_type": "markdown",
   "metadata": {},
   "source": [
    "--------------------------------------------(2)--------------------------------------------"
   ]
  },
  {
   "cell_type": "code",
   "execution_count": null,
   "metadata": {},
   "outputs": [],
   "source": [
    "## huggingfaceEmbedding issue"
   ]
  },
  {
   "cell_type": "code",
   "execution_count": null,
   "metadata": {},
   "outputs": [],
   "source": [
    "from langchain_huggingface import HuggingFaceEmbeddings"
   ]
  },
  {
   "cell_type": "code",
   "execution_count": null,
   "metadata": {},
   "outputs": [],
   "source": [
    "# llm_embedding = HuggingFaceEmbeddings(\n",
    "#     model_name = \"sentence-transformers/all-mpnet-base-v2\")\n",
    "\n",
    "\n",
    "model_name = \"sentence-transformers/all-mpnet-base-v2\"\n",
    "model_kwargs = {'device': 'cpu'}\n",
    "encode_kwargs = {'normalize_embeddings': False}\n",
    "hf = HuggingFaceEmbeddings(\n",
    "                model_name=model_name,\n",
    "                model_kwargs=model_kwargs,\n",
    "                encode_kwargs=encode_kwargs)"
   ]
  },
  {
   "cell_type": "code",
   "execution_count": 26,
   "metadata": {},
   "outputs": [],
   "source": [
    "from langchain_huggingface import HuggingFaceEndpoint"
   ]
  },
  {
   "cell_type": "code",
   "execution_count": 32,
   "metadata": {},
   "outputs": [],
   "source": [
    "model_repo = \"mistralai/Mistral-7B-Instruct-v0.2\"\n",
    "google_llm =HuggingFaceEndpoint(\n",
    "    repo_id= model_repo,\n",
    "    max_new_tokens=250\n",
    ")"
   ]
  },
  {
   "cell_type": "code",
   "execution_count": 34,
   "metadata": {},
   "outputs": [
    {
     "data": {
      "text/plain": [
       "HuggingFaceEndpoint(repo_id='mistralai/Mistral-7B-Instruct-v0.2', max_new_tokens=250, model='mistralai/Mistral-7B-Instruct-v0.2', client=<InferenceClient(model='mistralai/Mistral-7B-Instruct-v0.2', timeout=120)>, async_client=<InferenceClient(model='mistralai/Mistral-7B-Instruct-v0.2', timeout=120)>)"
      ]
     },
     "execution_count": 34,
     "metadata": {},
     "output_type": "execute_result"
    }
   ],
   "source": [
    "google_llm"
   ]
  },
  {
   "cell_type": "code",
   "execution_count": 40,
   "metadata": {},
   "outputs": [],
   "source": [
    "from langchain_community.llms import CTransformers"
   ]
  },
  {
   "cell_type": "code",
   "execution_count": 37,
   "metadata": {},
   "outputs": [],
   "source": [
    "model_path = r\"D:\\OneDrive - Adani\\Desktop\\LEARNING_FOLDER\\_Kolkata_2024\\1_LLM\\local_downloaded_models\\mistral_7B_v0.3\"\n",
    "llm = CTransformers(model= model_path)\n"
   ]
  },
  {
   "cell_type": "code",
   "execution_count": 39,
   "metadata": {},
   "outputs": [
    {
     "data": {
      "text/plain": [
       "' a term that encompasses a wide range of artistic styles and movements that emerged in the late 19th and early 20th centuries, characterized by a rejection of traditional rules and an emphasis on creativity, innovation, and individual expression.\\n\\nThe roots of modern art can be traced back to the Industrial Revolution, which brought about significant changes in society and culture, including rapid urbanization, increased mobility, and new technologies. These changes led to a sense of disillusionment with traditional values and beliefs, as well as a desire for experimentation and innovation in all areas of life, including art.\\n\\nSome key figures in the early development of modern art include Vincent van Gogh, who pioneered the use of bold colors and expressive brushstrokes in his paintings; Paul Cézanne, who is often credited with laying the groundwork for Cubism through his emphasis on geometric forms and abstract shapes; and Edvard Munch, whose work explored themes of anxiety, despair, and existential angst.\\n\\nIn the early 20th century, several major movements emerged that helped to define modern art as we know it today. These include Fauvism, which emphasized the use of bright,'"
      ]
     },
     "execution_count": 39,
     "metadata": {},
     "output_type": "execute_result"
    }
   ],
   "source": [
    "llm.invoke(\"modern art is\")"
   ]
  }
 ],
 "metadata": {
  "kernelspec": {
   "display_name": "Python 3",
   "language": "python",
   "name": "python3"
  },
  "language_info": {
   "codemirror_mode": {
    "name": "ipython",
    "version": 3
   },
   "file_extension": ".py",
   "mimetype": "text/x-python",
   "name": "python",
   "nbconvert_exporter": "python",
   "pygments_lexer": "ipython3",
   "version": "3.11.9"
  }
 },
 "nbformat": 4,
 "nbformat_minor": 2
}
