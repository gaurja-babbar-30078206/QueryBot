{
 "cells": [
  {
   "cell_type": "markdown",
   "metadata": {},
   "source": [
    "## Vector Store: FAISS, CHROMA"
   ]
  },
  {
   "cell_type": "markdown",
   "metadata": {},
   "source": [
    "# 1) OllamaLLm and HuggingFaceEmbedding: mistralai/Mistral-7B-Instruct-v04"
   ]
  },
  {
   "cell_type": "markdown",
   "metadata": {},
   "source": [
    "## Document Loader\n",
    "    pdf loader : langchain inbuilt document loader "
   ]
  },
  {
   "cell_type": "code",
   "execution_count": 9,
   "metadata": {},
   "outputs": [
    {
     "data": {
      "text/plain": [
       "4"
      ]
     },
     "execution_count": 9,
     "metadata": {},
     "output_type": "execute_result"
    }
   ],
   "source": [
    "from langchain_community.document_loaders import PyPDFLoader\n",
    "file_path = (\"Leave_Policy_2024.pdf\")\n",
    "loader = PyPDFLoader(file_path)\n",
    "pages = loader.load_and_split()\n",
    "len(pages)\n"
   ]
  },
  {
   "cell_type": "markdown",
   "metadata": {},
   "source": [
    "## Split\n",
    "    smaller chunks"
   ]
  },
  {
   "cell_type": "code",
   "execution_count": 10,
   "metadata": {},
   "outputs": [
    {
     "data": {
      "text/plain": [
       "15"
      ]
     },
     "execution_count": 10,
     "metadata": {},
     "output_type": "execute_result"
    }
   ],
   "source": [
    "from langchain_text_splitters import RecursiveCharacterTextSplitter\n",
    "\n",
    "text_splitter = RecursiveCharacterTextSplitter(chunk_size=1000, chunk_overlap=200)\n",
    "splits = text_splitter.split_documents(pages)\n",
    "len(splits)\n"
   ]
  },
  {
   "cell_type": "markdown",
   "metadata": {},
   "source": [
    "## New Embeddings"
   ]
  },
  {
   "cell_type": "code",
   "execution_count": 6,
   "metadata": {},
   "outputs": [],
   "source": [
    "from langchain_huggingface import HuggingFaceEmbeddings\n",
    "from langchain_community.vectorstores import FAISS\n"
   ]
  },
  {
   "cell_type": "code",
   "execution_count": 7,
   "metadata": {},
   "outputs": [
    {
     "name": "stderr",
     "output_type": "stream",
     "text": [
      "c:\\Users\\30078206\\AppData\\Local\\anaconda3\\envs\\myenv\\Lib\\site-packages\\huggingface_hub\\file_download.py:1132: FutureWarning: `resume_download` is deprecated and will be removed in version 1.0.0. Downloads always resume when possible. If you want to force a new download, use `force_download=True`.\n",
      "  warnings.warn(\n"
     ]
    }
   ],
   "source": [
    "new_embeddings = HuggingFaceEmbeddings(model_name= \"sentence-transformers/all-mpnet-base-v2\")\n"
   ]
  },
  {
   "cell_type": "code",
   "execution_count": 17,
   "metadata": {},
   "outputs": [
    {
     "name": "stdout",
     "output_type": "stream",
     "text": [
      "Collecting faiss-cpuNote: you may need to restart the kernel to use updated packages.\n",
      "\n",
      "  Downloading faiss_cpu-1.8.0.post1-cp311-cp311-win_amd64.whl.metadata (3.8 kB)\n",
      "Requirement already satisfied: numpy<2.0,>=1.0 in c:\\users\\30078206\\appdata\\local\\anaconda3\\envs\\myenv\\lib\\site-packages (from faiss-cpu) (1.26.4)\n",
      "Requirement already satisfied: packaging in c:\\users\\30078206\\appdata\\local\\anaconda3\\envs\\myenv\\lib\\site-packages (from faiss-cpu) (23.2)\n",
      "Downloading faiss_cpu-1.8.0.post1-cp311-cp311-win_amd64.whl (14.6 MB)\n",
      "   ---------------------------------------- 0.0/14.6 MB ? eta -:--:--\n",
      "   ---------------------------------------- 0.0/14.6 MB ? eta -:--:--\n",
      "   ---------------------------------------- 0.0/14.6 MB 165.2 kB/s eta 0:01:29\n",
      "   ---------------------------------------- 0.0/14.6 MB 217.9 kB/s eta 0:01:07\n",
      "   ---------------------------------------- 0.0/14.6 MB 245.8 kB/s eta 0:01:00\n",
      "   ---------------------------------------- 0.1/14.6 MB 383.3 kB/s eta 0:00:38\n",
      "   ---------------------------------------- 0.2/14.6 MB 656.4 kB/s eta 0:00:22\n",
      "   ---------------------------------------- 0.2/14.6 MB 618.3 kB/s eta 0:00:24\n",
      "   ---------------------------------------- 0.2/14.6 MB 618.3 kB/s eta 0:00:24\n",
      "    --------------------------------------- 0.2/14.6 MB 513.4 kB/s eta 0:00:29\n",
      "    --------------------------------------- 0.3/14.6 MB 605.3 kB/s eta 0:00:24\n",
      "    --------------------------------------- 0.3/14.6 MB 723.4 kB/s eta 0:00:20\n",
      "   - -------------------------------------- 0.4/14.6 MB 782.8 kB/s eta 0:00:19\n",
      "   - -------------------------------------- 0.4/14.6 MB 795.3 kB/s eta 0:00:18\n",
      "   - -------------------------------------- 0.4/14.6 MB 795.3 kB/s eta 0:00:18\n",
      "   - -------------------------------------- 0.5/14.6 MB 770.0 kB/s eta 0:00:19\n",
      "   - -------------------------------------- 0.6/14.6 MB 874.1 kB/s eta 0:00:17\n",
      "   - -------------------------------------- 0.6/14.6 MB 899.0 kB/s eta 0:00:16\n",
      "   - -------------------------------------- 0.7/14.6 MB 976.6 kB/s eta 0:00:15\n",
      "   -- ------------------------------------- 0.9/14.6 MB 1.2 MB/s eta 0:00:12\n",
      "   -- ------------------------------------- 1.0/14.6 MB 1.3 MB/s eta 0:00:11\n",
      "   -- ------------------------------------- 1.0/14.6 MB 1.3 MB/s eta 0:00:11\n",
      "   -- ------------------------------------- 1.0/14.6 MB 1.3 MB/s eta 0:00:11\n",
      "   -- ------------------------------------- 1.0/14.6 MB 1.3 MB/s eta 0:00:11\n",
      "   --- ------------------------------------ 1.1/14.6 MB 1.1 MB/s eta 0:00:13\n",
      "   --- ------------------------------------ 1.1/14.6 MB 1.1 MB/s eta 0:00:13\n",
      "   --- ------------------------------------ 1.1/14.6 MB 1.1 MB/s eta 0:00:13\n",
      "   --- ------------------------------------ 1.2/14.6 MB 1.1 MB/s eta 0:00:13\n",
      "   --- ------------------------------------ 1.2/14.6 MB 1.1 MB/s eta 0:00:13\n",
      "   --- ------------------------------------ 1.3/14.6 MB 1.1 MB/s eta 0:00:13\n",
      "   --- ------------------------------------ 1.4/14.6 MB 1.1 MB/s eta 0:00:12\n",
      "   --- ------------------------------------ 1.5/14.6 MB 1.1 MB/s eta 0:00:12\n",
      "   ---- ----------------------------------- 1.5/14.6 MB 1.1 MB/s eta 0:00:12\n",
      "   ---- ----------------------------------- 1.5/14.6 MB 1.1 MB/s eta 0:00:12\n",
      "   ---- ----------------------------------- 1.6/14.6 MB 1.2 MB/s eta 0:00:12\n",
      "   ---- ----------------------------------- 1.7/14.6 MB 1.2 MB/s eta 0:00:12\n",
      "   ---- ----------------------------------- 1.8/14.6 MB 1.2 MB/s eta 0:00:11\n",
      "   ----- ---------------------------------- 2.0/14.6 MB 1.3 MB/s eta 0:00:11\n",
      "   ----- ---------------------------------- 2.0/14.6 MB 1.3 MB/s eta 0:00:11\n",
      "   ----- ---------------------------------- 2.0/14.6 MB 1.3 MB/s eta 0:00:11\n",
      "   ----- ---------------------------------- 2.0/14.6 MB 1.2 MB/s eta 0:00:11\n",
      "   ----- ---------------------------------- 2.1/14.6 MB 1.2 MB/s eta 0:00:11\n",
      "   ------ --------------------------------- 2.3/14.6 MB 1.3 MB/s eta 0:00:10\n",
      "   ------ --------------------------------- 2.4/14.6 MB 1.3 MB/s eta 0:00:10\n",
      "   ------ --------------------------------- 2.4/14.6 MB 1.3 MB/s eta 0:00:10\n",
      "   ------ --------------------------------- 2.4/14.6 MB 1.2 MB/s eta 0:00:10\n",
      "   ------- -------------------------------- 2.6/14.6 MB 1.3 MB/s eta 0:00:10\n",
      "   ------- -------------------------------- 2.7/14.6 MB 1.3 MB/s eta 0:00:09\n",
      "   ------- -------------------------------- 2.8/14.6 MB 1.3 MB/s eta 0:00:09\n",
      "   ------- -------------------------------- 2.8/14.6 MB 1.4 MB/s eta 0:00:09\n",
      "   ------- -------------------------------- 2.8/14.6 MB 1.4 MB/s eta 0:00:09\n",
      "   ------- -------------------------------- 2.9/14.6 MB 1.3 MB/s eta 0:00:10\n",
      "   -------- ------------------------------- 3.0/14.6 MB 1.4 MB/s eta 0:00:09\n",
      "   -------- ------------------------------- 3.1/14.6 MB 1.4 MB/s eta 0:00:09\n",
      "   -------- ------------------------------- 3.3/14.6 MB 1.4 MB/s eta 0:00:09\n",
      "   -------- ------------------------------- 3.3/14.6 MB 1.4 MB/s eta 0:00:09\n",
      "   -------- ------------------------------- 3.3/14.6 MB 1.4 MB/s eta 0:00:09\n",
      "   -------- ------------------------------- 3.3/14.6 MB 1.4 MB/s eta 0:00:09\n",
      "   --------- ------------------------------ 3.4/14.6 MB 1.4 MB/s eta 0:00:09\n",
      "   --------- ------------------------------ 3.5/14.6 MB 1.4 MB/s eta 0:00:09\n",
      "   --------- ------------------------------ 3.6/14.6 MB 1.4 MB/s eta 0:00:08\n",
      "   ---------- ----------------------------- 3.7/14.6 MB 1.4 MB/s eta 0:00:08\n",
      "   ---------- ----------------------------- 3.7/14.6 MB 1.4 MB/s eta 0:00:08\n",
      "   ---------- ----------------------------- 3.9/14.6 MB 1.4 MB/s eta 0:00:08\n",
      "   ---------- ----------------------------- 3.9/14.6 MB 1.4 MB/s eta 0:00:08\n",
      "   ---------- ----------------------------- 3.9/14.6 MB 1.4 MB/s eta 0:00:08\n",
      "   ----------- ---------------------------- 4.0/14.6 MB 1.4 MB/s eta 0:00:08\n",
      "   ----------- ---------------------------- 4.1/14.6 MB 1.4 MB/s eta 0:00:08\n",
      "   ----------- ---------------------------- 4.2/14.6 MB 1.4 MB/s eta 0:00:08\n",
      "   ----------- ---------------------------- 4.2/14.6 MB 1.4 MB/s eta 0:00:08\n",
      "   ----------- ---------------------------- 4.3/14.6 MB 1.5 MB/s eta 0:00:08\n",
      "   ------------ --------------------------- 4.4/14.6 MB 1.5 MB/s eta 0:00:07\n",
      "   ------------ --------------------------- 4.5/14.6 MB 1.5 MB/s eta 0:00:07\n",
      "   ------------ --------------------------- 4.6/14.6 MB 1.5 MB/s eta 0:00:07\n",
      "   ------------ --------------------------- 4.6/14.6 MB 1.5 MB/s eta 0:00:07\n",
      "   ------------ --------------------------- 4.6/14.6 MB 1.5 MB/s eta 0:00:07\n",
      "   ------------ --------------------------- 4.7/14.6 MB 1.5 MB/s eta 0:00:07\n",
      "   ------------- -------------------------- 4.8/14.6 MB 1.5 MB/s eta 0:00:07\n",
      "   ------------- -------------------------- 4.9/14.6 MB 1.5 MB/s eta 0:00:07\n",
      "   ------------- -------------------------- 4.9/14.6 MB 1.5 MB/s eta 0:00:07\n",
      "   ------------- -------------------------- 5.0/14.6 MB 1.5 MB/s eta 0:00:07\n",
      "   ------------- -------------------------- 5.1/14.6 MB 1.5 MB/s eta 0:00:07\n",
      "   -------------- ------------------------- 5.2/14.6 MB 1.5 MB/s eta 0:00:07\n",
      "   -------------- ------------------------- 5.2/14.6 MB 1.5 MB/s eta 0:00:07\n",
      "   -------------- ------------------------- 5.4/14.6 MB 1.5 MB/s eta 0:00:07\n",
      "   -------------- ------------------------- 5.4/14.6 MB 1.5 MB/s eta 0:00:07\n",
      "   -------------- ------------------------- 5.5/14.6 MB 1.5 MB/s eta 0:00:07\n",
      "   -------------- ------------------------- 5.5/14.6 MB 1.5 MB/s eta 0:00:07\n",
      "   --------------- ------------------------ 5.5/14.6 MB 1.5 MB/s eta 0:00:07\n",
      "   --------------- ------------------------ 5.6/14.6 MB 1.5 MB/s eta 0:00:07\n",
      "   --------------- ------------------------ 5.7/14.6 MB 1.5 MB/s eta 0:00:06\n",
      "   ---------------- ----------------------- 5.8/14.6 MB 1.5 MB/s eta 0:00:06\n",
      "   ---------------- ----------------------- 6.0/14.6 MB 1.5 MB/s eta 0:00:06\n",
      "   ---------------- ----------------------- 6.1/14.6 MB 1.6 MB/s eta 0:00:06\n",
      "   ---------------- ----------------------- 6.1/14.6 MB 1.6 MB/s eta 0:00:06\n",
      "   ---------------- ----------------------- 6.1/14.6 MB 1.6 MB/s eta 0:00:06\n",
      "   ----------------- ---------------------- 6.2/14.6 MB 1.5 MB/s eta 0:00:06\n",
      "   ----------------- ---------------------- 6.3/14.6 MB 1.6 MB/s eta 0:00:06\n",
      "   ----------------- ---------------------- 6.4/14.6 MB 1.6 MB/s eta 0:00:06\n",
      "   ----------------- ---------------------- 6.5/14.6 MB 1.6 MB/s eta 0:00:06\n",
      "   ----------------- ---------------------- 6.5/14.6 MB 1.5 MB/s eta 0:00:06\n",
      "   ------------------ --------------------- 6.6/14.6 MB 1.5 MB/s eta 0:00:06\n",
      "   ------------------ --------------------- 6.6/14.6 MB 1.6 MB/s eta 0:00:06\n",
      "   ------------------ --------------------- 6.6/14.6 MB 1.6 MB/s eta 0:00:06\n",
      "   ------------------ --------------------- 6.6/14.6 MB 1.6 MB/s eta 0:00:06\n",
      "   ------------------ --------------------- 6.7/14.6 MB 1.5 MB/s eta 0:00:06\n",
      "   ------------------ --------------------- 6.8/14.6 MB 1.5 MB/s eta 0:00:06\n",
      "   ------------------- -------------------- 7.0/14.6 MB 1.5 MB/s eta 0:00:05\n",
      "   ------------------- -------------------- 7.1/14.6 MB 1.5 MB/s eta 0:00:05\n",
      "   ------------------- -------------------- 7.1/14.6 MB 1.6 MB/s eta 0:00:05\n",
      "   ------------------- -------------------- 7.1/14.6 MB 1.6 MB/s eta 0:00:05\n",
      "   ------------------- -------------------- 7.1/14.6 MB 1.5 MB/s eta 0:00:05\n",
      "   ------------------- -------------------- 7.1/14.6 MB 1.5 MB/s eta 0:00:05\n",
      "   ------------------- -------------------- 7.3/14.6 MB 1.5 MB/s eta 0:00:05\n",
      "   -------------------- ------------------- 7.4/14.6 MB 1.5 MB/s eta 0:00:05\n",
      "   -------------------- ------------------- 7.4/14.6 MB 1.5 MB/s eta 0:00:05\n",
      "   -------------------- ------------------- 7.5/14.6 MB 1.5 MB/s eta 0:00:05\n",
      "   -------------------- ------------------- 7.5/14.6 MB 1.5 MB/s eta 0:00:05\n",
      "   -------------------- ------------------- 7.5/14.6 MB 1.5 MB/s eta 0:00:05\n",
      "   -------------------- ------------------- 7.5/14.6 MB 1.5 MB/s eta 0:00:05\n",
      "   -------------------- ------------------- 7.5/14.6 MB 1.5 MB/s eta 0:00:05\n",
      "   -------------------- ------------------- 7.5/14.6 MB 1.5 MB/s eta 0:00:05\n",
      "   -------------------- ------------------- 7.5/14.6 MB 1.5 MB/s eta 0:00:05\n",
      "   -------------------- ------------------- 7.5/14.6 MB 1.5 MB/s eta 0:00:05\n",
      "   -------------------- ------------------- 7.5/14.6 MB 1.5 MB/s eta 0:00:05\n",
      "   -------------------- ------------------- 7.5/14.6 MB 1.4 MB/s eta 0:00:05\n",
      "   -------------------- ------------------- 7.6/14.6 MB 1.4 MB/s eta 0:00:05\n",
      "   --------------------- ------------------ 7.7/14.6 MB 1.4 MB/s eta 0:00:05\n",
      "   --------------------- ------------------ 7.8/14.6 MB 1.4 MB/s eta 0:00:05\n",
      "   --------------------- ------------------ 7.9/14.6 MB 1.5 MB/s eta 0:00:05\n",
      "   --------------------- ------------------ 7.9/14.6 MB 1.5 MB/s eta 0:00:05\n",
      "   --------------------- ------------------ 7.9/14.6 MB 1.5 MB/s eta 0:00:05\n",
      "   --------------------- ------------------ 7.9/14.6 MB 1.5 MB/s eta 0:00:05\n",
      "   --------------------- ------------------ 7.9/14.6 MB 1.5 MB/s eta 0:00:05\n",
      "   --------------------- ------------------ 7.9/14.6 MB 1.4 MB/s eta 0:00:05\n",
      "   --------------------- ------------------ 7.9/14.6 MB 1.4 MB/s eta 0:00:05\n",
      "   --------------------- ------------------ 8.0/14.6 MB 1.4 MB/s eta 0:00:05\n",
      "   --------------------- ------------------ 8.0/14.6 MB 1.4 MB/s eta 0:00:05\n",
      "   ---------------------- ----------------- 8.0/14.6 MB 1.4 MB/s eta 0:00:05\n",
      "   ---------------------- ----------------- 8.1/14.6 MB 1.4 MB/s eta 0:00:05\n",
      "   ---------------------- ----------------- 8.1/14.6 MB 1.4 MB/s eta 0:00:05\n",
      "   ---------------------- ----------------- 8.1/14.6 MB 1.4 MB/s eta 0:00:05\n",
      "   ---------------------- ----------------- 8.2/14.6 MB 1.4 MB/s eta 0:00:05\n",
      "   ---------------------- ----------------- 8.2/14.6 MB 1.4 MB/s eta 0:00:05\n",
      "   ---------------------- ----------------- 8.3/14.6 MB 1.4 MB/s eta 0:00:05\n",
      "   ---------------------- ----------------- 8.4/14.6 MB 1.4 MB/s eta 0:00:05\n",
      "   ---------------------- ----------------- 8.4/14.6 MB 1.4 MB/s eta 0:00:05\n",
      "   ---------------------- ----------------- 8.4/14.6 MB 1.4 MB/s eta 0:00:05\n",
      "   ---------------------- ----------------- 8.4/14.6 MB 1.4 MB/s eta 0:00:05\n",
      "   ---------------------- ----------------- 8.4/14.6 MB 1.3 MB/s eta 0:00:05\n",
      "   ---------------------- ----------------- 8.4/14.6 MB 1.3 MB/s eta 0:00:05\n",
      "   ----------------------- ---------------- 8.4/14.6 MB 1.3 MB/s eta 0:00:05\n",
      "   ----------------------- ---------------- 8.5/14.6 MB 1.3 MB/s eta 0:00:05\n",
      "   ----------------------- ---------------- 8.5/14.6 MB 1.3 MB/s eta 0:00:05\n",
      "   ----------------------- ---------------- 8.5/14.6 MB 1.3 MB/s eta 0:00:05\n",
      "   ----------------------- ---------------- 8.6/14.6 MB 1.3 MB/s eta 0:00:05\n",
      "   ----------------------- ---------------- 8.6/14.6 MB 1.3 MB/s eta 0:00:05\n",
      "   ----------------------- ---------------- 8.7/14.6 MB 1.3 MB/s eta 0:00:05\n",
      "   ----------------------- ---------------- 8.7/14.6 MB 1.3 MB/s eta 0:00:05\n",
      "   ------------------------ --------------- 8.8/14.6 MB 1.3 MB/s eta 0:00:05\n",
      "   ------------------------ --------------- 8.8/14.6 MB 1.3 MB/s eta 0:00:05\n",
      "   ------------------------ --------------- 9.0/14.6 MB 1.3 MB/s eta 0:00:05\n",
      "   ------------------------ --------------- 9.1/14.6 MB 1.3 MB/s eta 0:00:05\n",
      "   ------------------------ --------------- 9.1/14.6 MB 1.3 MB/s eta 0:00:05\n",
      "   ------------------------ --------------- 9.1/14.6 MB 1.3 MB/s eta 0:00:05\n",
      "   ------------------------- -------------- 9.1/14.6 MB 1.3 MB/s eta 0:00:05\n",
      "   ------------------------- -------------- 9.2/14.6 MB 1.3 MB/s eta 0:00:05\n",
      "   ------------------------- -------------- 9.3/14.6 MB 1.3 MB/s eta 0:00:04\n",
      "   ------------------------- -------------- 9.4/14.6 MB 1.3 MB/s eta 0:00:04\n",
      "   -------------------------- ------------- 9.6/14.6 MB 1.3 MB/s eta 0:00:04\n",
      "   -------------------------- ------------- 9.7/14.6 MB 1.3 MB/s eta 0:00:04\n",
      "   -------------------------- ------------- 9.7/14.6 MB 1.3 MB/s eta 0:00:04\n",
      "   -------------------------- ------------- 9.8/14.6 MB 1.3 MB/s eta 0:00:04\n",
      "   --------------------------- ------------ 9.9/14.6 MB 1.4 MB/s eta 0:00:04\n",
      "   --------------------------- ------------ 10.1/14.6 MB 1.4 MB/s eta 0:00:04\n",
      "   --------------------------- ------------ 10.1/14.6 MB 1.4 MB/s eta 0:00:04\n",
      "   --------------------------- ------------ 10.1/14.6 MB 1.4 MB/s eta 0:00:04\n",
      "   --------------------------- ------------ 10.1/14.6 MB 1.4 MB/s eta 0:00:04\n",
      "   --------------------------- ------------ 10.2/14.6 MB 1.4 MB/s eta 0:00:04\n",
      "   ---------------------------- ----------- 10.2/14.6 MB 1.4 MB/s eta 0:00:04\n",
      "   ---------------------------- ----------- 10.3/14.6 MB 1.4 MB/s eta 0:00:04\n",
      "   ---------------------------- ----------- 10.4/14.6 MB 1.4 MB/s eta 0:00:04\n",
      "   ---------------------------- ----------- 10.5/14.6 MB 1.4 MB/s eta 0:00:03\n",
      "   ---------------------------- ----------- 10.6/14.6 MB 1.4 MB/s eta 0:00:03\n",
      "   ----------------------------- ---------- 10.6/14.6 MB 1.4 MB/s eta 0:00:03\n",
      "   ----------------------------- ---------- 10.6/14.6 MB 1.4 MB/s eta 0:00:03\n",
      "   ----------------------------- ---------- 10.7/14.6 MB 1.4 MB/s eta 0:00:03\n",
      "   ----------------------------- ---------- 10.8/14.6 MB 1.4 MB/s eta 0:00:03\n",
      "   ------------------------------ --------- 11.0/14.6 MB 1.4 MB/s eta 0:00:03\n",
      "   ------------------------------ --------- 11.2/14.6 MB 1.4 MB/s eta 0:00:03\n",
      "   ------------------------------ --------- 11.2/14.6 MB 1.4 MB/s eta 0:00:03\n",
      "   ------------------------------ --------- 11.3/14.6 MB 1.4 MB/s eta 0:00:03\n",
      "   ------------------------------- -------- 11.5/14.6 MB 1.5 MB/s eta 0:00:03\n",
      "   ------------------------------- -------- 11.7/14.6 MB 1.5 MB/s eta 0:00:02\n",
      "   ------------------------------- -------- 11.7/14.6 MB 1.5 MB/s eta 0:00:02\n",
      "   ------------------------------- -------- 11.7/14.6 MB 1.5 MB/s eta 0:00:02\n",
      "   -------------------------------- ------- 11.7/14.6 MB 1.5 MB/s eta 0:00:02\n",
      "   -------------------------------- ------- 11.9/14.6 MB 1.5 MB/s eta 0:00:02\n",
      "   --------------------------------- ------ 12.1/14.6 MB 1.5 MB/s eta 0:00:02\n",
      "   --------------------------------- ------ 12.3/14.6 MB 1.5 MB/s eta 0:00:02\n",
      "   ---------------------------------- ----- 12.4/14.6 MB 1.5 MB/s eta 0:00:02\n",
      "   ---------------------------------- ----- 12.6/14.6 MB 1.5 MB/s eta 0:00:02\n",
      "   ---------------------------------- ----- 12.7/14.6 MB 1.5 MB/s eta 0:00:02\n",
      "   ----------------------------------- ---- 13.0/14.6 MB 1.6 MB/s eta 0:00:02\n",
      "   ----------------------------------- ---- 13.1/14.6 MB 1.6 MB/s eta 0:00:01\n",
      "   ------------------------------------ --- 13.2/14.6 MB 1.6 MB/s eta 0:00:01\n",
      "   ------------------------------------- -- 13.5/14.6 MB 1.6 MB/s eta 0:00:01\n",
      "   ------------------------------------- -- 13.7/14.6 MB 1.6 MB/s eta 0:00:01\n",
      "   ------------------------------------- -- 13.7/14.6 MB 1.6 MB/s eta 0:00:01\n",
      "   ------------------------------------- -- 13.8/14.6 MB 1.6 MB/s eta 0:00:01\n",
      "   -------------------------------------- - 13.9/14.6 MB 1.6 MB/s eta 0:00:01\n",
      "   -------------------------------------- - 14.1/14.6 MB 1.6 MB/s eta 0:00:01\n",
      "   -------------------------------------- - 14.1/14.6 MB 1.6 MB/s eta 0:00:01\n",
      "   -------------------------------------- - 14.2/14.6 MB 1.6 MB/s eta 0:00:01\n",
      "   ---------------------------------------  14.3/14.6 MB 1.6 MB/s eta 0:00:01\n",
      "   ---------------------------------------  14.5/14.6 MB 1.7 MB/s eta 0:00:01\n",
      "   ---------------------------------------  14.6/14.6 MB 1.7 MB/s eta 0:00:01\n",
      "   ---------------------------------------  14.6/14.6 MB 1.7 MB/s eta 0:00:01\n",
      "   ---------------------------------------- 14.6/14.6 MB 1.6 MB/s eta 0:00:00\n",
      "Installing collected packages: faiss-cpu\n",
      "Successfully installed faiss-cpu-1.8.0.post1\n"
     ]
    }
   ],
   "source": [
    "pip install faiss-cpu"
   ]
  },
  {
   "cell_type": "code",
   "execution_count": 18,
   "metadata": {},
   "outputs": [],
   "source": [
    "docsearch = FAISS.from_documents(splits, new_embeddings)"
   ]
  },
  {
   "cell_type": "code",
   "execution_count": 19,
   "metadata": {},
   "outputs": [],
   "source": [
    "###############################3\n"
   ]
  },
  {
   "cell_type": "code",
   "execution_count": 20,
   "metadata": {},
   "outputs": [],
   "source": [
    "from langchain.chains.question_answering import load_qa_chain\n"
   ]
  },
  {
   "cell_type": "code",
   "execution_count": null,
   "metadata": {},
   "outputs": [],
   "source": [
    "gb_chain = load_qa_chain(llm, chain_type=\"stuff\")\n"
   ]
  },
  {
   "cell_type": "markdown",
   "metadata": {},
   "source": [
    "## Create vector store\n",
    "    stores embeddings of Documents"
   ]
  },
  {
   "cell_type": "code",
   "execution_count": 3,
   "metadata": {},
   "outputs": [],
   "source": [
    "from langchain_huggingface import HuggingFaceEmbeddings"
   ]
  },
  {
   "cell_type": "code",
   "execution_count": 4,
   "metadata": {},
   "outputs": [
    {
     "name": "stderr",
     "output_type": "stream",
     "text": [
      "c:\\Users\\30078206\\AppData\\Local\\anaconda3\\envs\\myenv\\Lib\\site-packages\\sentence_transformers\\cross_encoder\\CrossEncoder.py:11: TqdmWarning: IProgress not found. Please update jupyter and ipywidgets. See https://ipywidgets.readthedocs.io/en/stable/user_install.html\n",
      "  from tqdm.autonotebook import tqdm, trange\n",
      "c:\\Users\\30078206\\AppData\\Local\\anaconda3\\envs\\myenv\\Lib\\site-packages\\huggingface_hub\\file_download.py:1132: FutureWarning: `resume_download` is deprecated and will be removed in version 1.0.0. Downloads always resume when possible. If you want to force a new download, use `force_download=True`.\n",
      "  warnings.warn(\n"
     ]
    },
    {
     "ename": "NameError",
     "evalue": "name 'Chroma' is not defined",
     "output_type": "error",
     "traceback": [
      "\u001b[1;31m---------------------------------------------------------------------------\u001b[0m",
      "\u001b[1;31mNameError\u001b[0m                                 Traceback (most recent call last)",
      "Cell \u001b[1;32mIn[4], line 3\u001b[0m\n\u001b[0;32m      1\u001b[0m \u001b[38;5;66;03m## Not local\u001b[39;00m\n\u001b[0;32m      2\u001b[0m new_embeddings \u001b[38;5;241m=\u001b[39m HuggingFaceEmbeddings(model_name\u001b[38;5;241m=\u001b[39m \u001b[38;5;124m\"\u001b[39m\u001b[38;5;124msentence-transformers/all-mpnet-base-v2\u001b[39m\u001b[38;5;124m\"\u001b[39m)\n\u001b[1;32m----> 3\u001b[0m vectorstore \u001b[38;5;241m=\u001b[39m Chroma\u001b[38;5;241m.\u001b[39mfrom_documents(documents\u001b[38;5;241m=\u001b[39msplits, embedding\u001b[38;5;241m=\u001b[39mnew_embeddings)\n\u001b[0;32m      4\u001b[0m vectorstore\n",
      "\u001b[1;31mNameError\u001b[0m: name 'Chroma' is not defined"
     ]
    }
   ],
   "source": [
    "## Not local\n",
    "new_embeddings = HuggingFaceEmbeddings(model_name= \"sentence-transformers/all-mpnet-base-v2\")\n",
    "vectorstore = Chroma.from_documents(documents=splits, embedding=new_embeddings)\n",
    "vectorstore"
   ]
  },
  {
   "cell_type": "markdown",
   "metadata": {},
   "source": [
    "## Create retriever"
   ]
  },
  {
   "cell_type": "code",
   "execution_count": null,
   "metadata": {},
   "outputs": [],
   "source": [
    "retriever = vectorstore.as_retriever(search_type=\"similarity\")"
   ]
  },
  {
   "cell_type": "code",
   "execution_count": null,
   "metadata": {},
   "outputs": [],
   "source": [
    "from langchain_community.embeddings import OllamaEmbeddings\n",
    "from langchain_text_splitters import RecursiveCharacterTextSplitter\n",
    "from langchain_community.vectorstores import Chroma"
   ]
  },
  {
   "cell_type": "code",
   "execution_count": 21,
   "metadata": {},
   "outputs": [],
   "source": [
    "from langchain.prompts import ChatPromptTemplate, PromptTemplate\n",
    "from langchain_core.output_parsers import StrOutputParser\n",
    "from langchain_community.chat_models import ChatOllama\n",
    "from langchain_core.runnables import RunnablePassthrough\n",
    "from langchain.retrievers.multi_query import MultiQueryRetriever"
   ]
  },
  {
   "cell_type": "markdown",
   "metadata": {},
   "source": [
    "### LLM Used:"
   ]
  },
  {
   "cell_type": "code",
   "execution_count": null,
   "metadata": {},
   "outputs": [],
   "source": [
    "# !ollama pull mistral"
   ]
  },
  {
   "cell_type": "code",
   "execution_count": 22,
   "metadata": {},
   "outputs": [],
   "source": [
    "# LLM from Ollama\n",
    "local_model = \"mistral\"\n",
    "llm = ChatOllama(model=local_model)"
   ]
  },
  {
   "cell_type": "code",
   "execution_count": 23,
   "metadata": {},
   "outputs": [],
   "source": [
    "gb_chain =  load_qa_chain(llm, chain_type=\"stuff\")"
   ]
  },
  {
   "cell_type": "code",
   "execution_count": 24,
   "metadata": {},
   "outputs": [
    {
     "data": {
      "text/plain": [
       "StuffDocumentsChain(llm_chain=LLMChain(prompt=ChatPromptTemplate(input_variables=['context', 'question'], messages=[SystemMessagePromptTemplate(prompt=PromptTemplate(input_variables=['context'], template=\"Use the following pieces of context to answer the user's question. \\nIf you don't know the answer, just say that you don't know, don't try to make up an answer.\\n----------------\\n{context}\")), HumanMessagePromptTemplate(prompt=PromptTemplate(input_variables=['question'], template='{question}'))]), llm=ChatOllama(model='mistral')), document_variable_name='context')"
      ]
     },
     "execution_count": 24,
     "metadata": {},
     "output_type": "execute_result"
    }
   ],
   "source": [
    "gb_chain"
   ]
  },
  {
   "cell_type": "code",
   "execution_count": 25,
   "metadata": {},
   "outputs": [],
   "source": [
    "query = \"Give me a summary of the document\"\n",
    "docs=docsearch.similarity_search(query=query)\n",
    "gb_chain.run(input_documents = docs, question = query)"
   ]
  },
  {
   "cell_type": "markdown",
   "metadata": {},
   "source": [
    "### Creating Prompt"
   ]
  },
  {
   "cell_type": "code",
   "execution_count": null,
   "metadata": {},
   "outputs": [],
   "source": [
    "\n",
    "QUERY_PROMPT = PromptTemplate(\n",
    "    input_variables=[\"question\"],\n",
    "    template=\"\"\"You are an AI language model assistant. Your task is to generate five\n",
    "    different versions of the given user question to retrieve relevant documents from\n",
    "    a vector database. By generating multiple perspectives on the user question, your\n",
    "    goal is to help the user overcome some of the limitations of the distance-based\n",
    "    similarity search. Provide these alternative questions separated by newlines.\n",
    "    Original question: {question}\"\"\",\n",
    ")\n"
   ]
  },
  {
   "cell_type": "markdown",
   "metadata": {},
   "source": [
    "### New Terms:\n",
    "- Multiqueryretriever: \n",
    "    - automates process of tuning\n",
    "    - to generate multiple queries from different perspective \n",
    "    - for each query- returns relevant documents,, takes union across all \n",
    "    - Overcomes the limitation of distance based retrieval\n"
   ]
  },
  {
   "cell_type": "code",
   "execution_count": null,
   "metadata": {},
   "outputs": [],
   "source": [
    "retriever = MultiQueryRetriever.from_llm(\n",
    "    retriever, \n",
    "    llm,\n",
    "    prompt=QUERY_PROMPT\n",
    ")\n",
    "\n",
    "# RAG prompt\n",
    "template = \"\"\"Answer the question based ONLY on the following context:\n",
    "{context}\n",
    "Question: {question}\n",
    "\"\"\"\n",
    "\n",
    "prompt = ChatPromptTemplate.from_template(template)"
   ]
  },
  {
   "cell_type": "code",
   "execution_count": null,
   "metadata": {},
   "outputs": [],
   "source": [
    "import logging\n",
    "\n",
    "logging.basicConfig()\n",
    "logging.getLogger(\"langchain.retrievers.multi_query\").setLevel(logging.INFO)"
   ]
  },
  {
   "cell_type": "code",
   "execution_count": null,
   "metadata": {},
   "outputs": [],
   "source": [
    "chain = (\n",
    "    {\"context\": retriever, \"question\": RunnablePassthrough()}\n",
    "    | prompt\n",
    "    | llm\n",
    "    | StrOutputParser()\n",
    ")"
   ]
  },
  {
   "cell_type": "code",
   "execution_count": null,
   "metadata": {},
   "outputs": [],
   "source": [
    "questions = chain.invoke(\"Make a list of questions from the document\")"
   ]
  },
  {
   "cell_type": "code",
   "execution_count": null,
   "metadata": {},
   "outputs": [],
   "source": [
    "import re"
   ]
  },
  {
   "cell_type": "code",
   "execution_count": null,
   "metadata": {},
   "outputs": [],
   "source": [
    "answer =re.sub(r'[0-9]','',questions)\n",
    "question_list = answer.split('\\n')\n",
    "question_list"
   ]
  },
  {
   "cell_type": "code",
   "execution_count": null,
   "metadata": {},
   "outputs": [],
   "source": [
    "chain.invoke(question_list[0])"
   ]
  },
  {
   "cell_type": "code",
   "execution_count": null,
   "metadata": {},
   "outputs": [],
   "source": [
    "''' Taking too much time'''\n",
    "# answer_list = []\n",
    "# for question in question_list:\n",
    "#     ans = chain.invoke(question)\n",
    "#     answer_list.append(ans)"
   ]
  },
  {
   "cell_type": "code",
   "execution_count": null,
   "metadata": {},
   "outputs": [],
   "source": [
    "print(\"ANSWERS-----\")\n",
    "# print(answer_list)"
   ]
  },
  {
   "cell_type": "code",
   "execution_count": null,
   "metadata": {},
   "outputs": [],
   "source": [
    "question_bank = [\n",
    "    \"Give me a summary of the document\",\n",
    "    \"Tell me all about the leaves\",\n",
    "    \"Make a list of questions from the document\"\n",
    "]"
   ]
  },
  {
   "cell_type": "markdown",
   "metadata": {},
   "source": [
    "--------------------------------------------(2)--------------------------------------------"
   ]
  }
 ],
 "metadata": {
  "kernelspec": {
   "display_name": "Python 3",
   "language": "python",
   "name": "python3"
  },
  "language_info": {
   "codemirror_mode": {
    "name": "ipython",
    "version": 3
   },
   "file_extension": ".py",
   "mimetype": "text/x-python",
   "name": "python",
   "nbconvert_exporter": "python",
   "pygments_lexer": "ipython3",
   "version": "3.11.9"
  }
 },
 "nbformat": 4,
 "nbformat_minor": 2
}
