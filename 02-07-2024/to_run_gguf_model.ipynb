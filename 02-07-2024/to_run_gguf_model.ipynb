{
 "cells": [
  {
   "cell_type": "markdown",
   "metadata": {},
   "source": [
    "# Loading GGUF model\n"
   ]
  },
  {
   "cell_type": "markdown",
   "metadata": {},
   "source": [
    "## 1)Model: mistral_7B_v0.3\n",
    "    Langchain + CTransformer\n",
    "    Size: 4.07 GB \n",
    "    RAM usage: how to find??\n",
    "    Response time:\n",
    "    \n",
    "- quantized model with langchain\n",
    "- on cpu without nvidia gpu\n",
    "- cpu -- 16 gb RAM\n",
    "- download the gguf model\n",
    "- What is quantization --> the higger bit quant --> more ram"
   ]
  },
  {
   "cell_type": "code",
   "execution_count": 30,
   "metadata": {},
   "outputs": [
    {
     "name": "stdout",
     "output_type": "stream",
     "text": [
      "\n",
      "\n",
      "To start your chess journey, I will introduce you to the basic rules of the game, the pieces, and their movements. Here's a step-by-step guide for your first lesson:\n",
      "\n",
      "1. Chessboard setup:\n",
      "   The chessboard is an 8x8 grid. White starts with the right side facing them, and black has the dark squares on their side. Each player places their pieces as follows:\n",
      "\n",
      "   - Rooks (castles): Place one rook on each corner square (A1 for white, H8 for black)\n",
      "   - Knights (horses): Place one knight on the B1 and G1 squares for white, and B8 and G8 for black. The \"l-shape\" is another helpful visual reminder.\n",
      "   - Bishop: Place one bishop diagonally from each rook, so A2 and F1 for white, H2 and G8 for black. This time around the kings will share the same diagonal axis as their respective bishops.\n",
      "   - Queen: Place the queen on her starting square next to the bishop, D1 for white, E8 for black. The queen can move any"
     ]
    },
    {
     "data": {
      "text/plain": [
       "'\\n\\nTo start your chess journey, I will introduce you to the basic rules of the game, the pieces, and their movements. Here\\'s a step-by-step guide for your first lesson:\\n\\n1. Chessboard setup:\\n   The chessboard is an 8x8 grid. White starts with the right side facing them, and black has the dark squares on their side. Each player places their pieces as follows:\\n\\n   - Rooks (castles): Place one rook on each corner square (A1 for white, H8 for black)\\n   - Knights (horses): Place one knight on the B1 and G1 squares for white, and B8 and G8 for black. The \"l-shape\" is another helpful visual reminder.\\n   - Bishop: Place one bishop diagonally from each rook, so A2 and F1 for white, H2 and G8 for black. This time around the kings will share the same diagonal axis as their respective bishops.\\n   - Queen: Place the queen on her starting square next to the bishop, D1 for white, E8 for black. The queen can move any'"
      ]
     },
     "execution_count": 30,
     "metadata": {},
     "output_type": "execute_result"
    }
   ],
   "source": [
    "from langchain.llms import CTransformers\n",
    "from langchain import PromptTemplate, LLMChain\n",
    "from langchain.callbacks.streaming_stdout import StreamingStdOutCallbackHandler\n",
    "model_dir =  r\"D:\\OneDrive - Adani\\Desktop\\LEARNING_FOLDER\\_Kolkata_2024\\1_LLM\\local_downloaded_models\\mistral_7B_v0.3\"\n",
    "model_file = \"Mistral-7B-Instruct-v0.3.Q4_K_M.gguf\"\n",
    "llm = CTransformers(model= model_dir, model_file = model_file, callbacks=[StreamingStdOutCallbackHandler()])\n",
    "llm\n",
    "from langchain.prompts import PromptTemplate\n",
    "from langchain.prompts import PromptTemplate\n",
    "prompt = PromptTemplate.from_template(\"You are a chess teaching Assistant.You must answer the users queries and teach chess lessons.You much help user with query: {query}\")\n",
    "llm_chain = prompt | llm\n",
    "llm_chain.invoke(input= {\"query\":\"Give me my first chess lesson\"})\n"
   ]
  }
 ],
 "metadata": {
  "kernelspec": {
   "display_name": "Python 3",
   "language": "python",
   "name": "python3"
  },
  "language_info": {
   "codemirror_mode": {
    "name": "ipython",
    "version": 3
   },
   "file_extension": ".py",
   "mimetype": "text/x-python",
   "name": "python",
   "nbconvert_exporter": "python",
   "pygments_lexer": "ipython3",
   "version": "3.11.9"
  }
 },
 "nbformat": 4,
 "nbformat_minor": 2
}
